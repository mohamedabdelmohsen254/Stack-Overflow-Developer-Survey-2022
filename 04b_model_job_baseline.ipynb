{
 "cells": [
  {
   "cell_type": "code",
   "execution_count": 1,
   "id": "407e6949",
   "metadata": {},
   "outputs": [],
   "source": [
    "#constants\n",
    "\n",
    "DATA_PATH = 'C:\\\\Users\\\\gt\\\\End to End Data Science Project\\\\Processed data\\\\cleaned_data.pkl'\n",
    "\n",
    "ROLE_COLS = ['DevType']\n",
    "TECH_COLS = ['LanguageHaveWorkedWith',\n",
    "             'DatabaseHaveWorkedWith',\n",
    "             'PlatformHaveWorkedWith',\n",
    "             'WebframeHaveWorkedWith', \n",
    "             'MiscTechHaveWorkedWith', \n",
    "             'ToolsTechHaveWorkedWith', \n",
    "             'NEWCollabToolsHaveWorkedWith']\n",
    "\n",
    "MLFLOW_TRACKING_URI = 'C:\\\\Users\\\\gt\\\\End to End Data Science Project\\\\models\\\\mlruns'\n",
    "MLFLOW_EXPERIMENT_NAME = \"skills_jobs_Stackoverflow\"\n",
    "\n",
    "LOG_PATH = \"C:\\\\Users\\\\gt\\\\End to End Data Science Project\\\\models\\\\temp\\\\\"\n",
    "LOG_DATA_PKL    =  \"data.pkl\"\n",
    "LOG_MODEL_PKL   =  \"model.pkl\"\n",
    "LOG_METRICS_PKL =  \"metrics.pkl\""
   ]
  },
  {
   "cell_type": "code",
   "execution_count": 2,
   "id": "5454220d",
   "metadata": {},
   "outputs": [],
   "source": [
    "#Load pachages\n",
    "import pandas as pd \n",
    "import numpy as np\n",
    "import logging\n",
    "import pickle\n",
    "import random\n",
    "import plotly \n",
    "import os\n",
    "from pathlib import Path\n",
    "\n",
    "import mlflow\n",
    "from mlflow.tracking import MlflowClient\n",
    "\n",
    "\n",
    "from sklearn.preprocessing import MultiLabelBinarizer\n",
    "from sklearn.preprocessing import StandardScaler, RobustScaler, MinMaxScaler\n",
    "from sklearn.pipeline import make_pipeline, FeatureUnion\n",
    "from sklearn.feature_selection import VarianceThreshold\n",
    "from sklearn.multioutput import MultiOutputClassifier\n",
    "from sklearn.model_selection import train_test_split\n",
    "from sklearn.model_selection import GridSearchCV\n",
    "\n",
    "from sklearn import metrics\n",
    "from sklearn.metrics import auc, accuracy_score, confusion_matrix, f1_score, precision_score, recall_score\n",
    "\n",
    "from sklearn.decomposition import PCA, KernelPCA\n",
    "\n",
    "from sklearn import tree\n",
    "from sklearn.linear_model import LogisticRegression\n",
    "\n",
    "from matplotlib import pyplot as plt"
   ]
  },
  {
   "cell_type": "markdown",
   "id": "4b277405",
   "metadata": {},
   "source": [
    "<hr>"
   ]
  },
  {
   "cell_type": "markdown",
   "id": "5b9f2b52",
   "metadata": {},
   "source": [
    "## Functions"
   ]
  },
  {
   "cell_type": "code",
   "execution_count": 3,
   "id": "fa40e951",
   "metadata": {},
   "outputs": [],
   "source": [
    "def calculate_quality(ground_truth, predictions, metric_function, sort_values=False):\n",
    "    quality_scores = {}\n",
    "    for col in predictions.columns:\n",
    "        role_pred  = predictions[col].copy()\n",
    "        role_truth = ground_truth[col].copy()\n",
    "        quality_scores[col] = round(metric_function(role_truth, role_pred) * 100, 2)\n",
    "        \n",
    "    quality_scores = pd.Series(quality_scores.values(), index=quality_scores.keys())\n",
    "    if sort_values:\n",
    "        quality_scores = quality_scores.sort_values()\n",
    "    \n",
    "    return quality_scores"
   ]
  },
  {
   "cell_type": "markdown",
   "id": "86e7b1dc",
   "metadata": {},
   "source": [
    "<hr>"
   ]
  },
  {
   "cell_type": "markdown",
   "id": "c0d2d31a",
   "metadata": {},
   "source": [
    "## Initialize"
   ]
  },
  {
   "cell_type": "markdown",
   "id": "7775755e",
   "metadata": {},
   "source": [
    "### Create directories\n"
   ]
  },
  {
   "cell_type": "code",
   "execution_count": 4,
   "id": "2d512a68",
   "metadata": {},
   "outputs": [],
   "source": [
    "#exist_ok: where the command does nothing and does not raise an error if the directory already exists\n",
    "Path(MLFLOW_TRACKING_URI).mkdir(parents=True, exist_ok=True)\n",
    "Path(LOG_PATH).mkdir(parents=True, exist_ok=True)"
   ]
  },
  {
   "cell_type": "markdown",
   "id": "c8daa40a",
   "metadata": {},
   "source": [
    "## Read data\n"
   ]
  },
  {
   "cell_type": "code",
   "execution_count": 5,
   "id": "e56781fb",
   "metadata": {},
   "outputs": [
    {
     "data": {
      "text/html": [
       "<div>\n",
       "<style scoped>\n",
       "    .dataframe tbody tr th:only-of-type {\n",
       "        vertical-align: middle;\n",
       "    }\n",
       "\n",
       "    .dataframe tbody tr th {\n",
       "        vertical-align: top;\n",
       "    }\n",
       "\n",
       "    .dataframe thead tr th {\n",
       "        text-align: left;\n",
       "    }\n",
       "</style>\n",
       "<table border=\"1\" class=\"dataframe\">\n",
       "  <thead>\n",
       "    <tr>\n",
       "      <th></th>\n",
       "      <th colspan=\"10\" halign=\"left\">DevType</th>\n",
       "      <th>...</th>\n",
       "      <th colspan=\"10\" halign=\"left\">skills_clusters</th>\n",
       "    </tr>\n",
       "    <tr>\n",
       "      <th></th>\n",
       "      <th>Academic researcher</th>\n",
       "      <th>Data or business analyst</th>\n",
       "      <th>Data scientist or machine learning specialist</th>\n",
       "      <th>Database administrator</th>\n",
       "      <th>DevOps specialist</th>\n",
       "      <th>Developer, QA or test</th>\n",
       "      <th>Developer, back-end</th>\n",
       "      <th>Developer, desktop or enterprise applications</th>\n",
       "      <th>Developer, embedded applications or devices</th>\n",
       "      <th>Developer, front-end</th>\n",
       "      <th>...</th>\n",
       "      <th>skills_group_10</th>\n",
       "      <th>skills_group_11</th>\n",
       "      <th>skills_group_2</th>\n",
       "      <th>skills_group_3</th>\n",
       "      <th>skills_group_4</th>\n",
       "      <th>skills_group_5</th>\n",
       "      <th>skills_group_6</th>\n",
       "      <th>skills_group_7</th>\n",
       "      <th>skills_group_8</th>\n",
       "      <th>skills_group_9</th>\n",
       "    </tr>\n",
       "  </thead>\n",
       "  <tbody>\n",
       "    <tr>\n",
       "      <th>0</th>\n",
       "      <td>0</td>\n",
       "      <td>0</td>\n",
       "      <td>0</td>\n",
       "      <td>0</td>\n",
       "      <td>0</td>\n",
       "      <td>0</td>\n",
       "      <td>0</td>\n",
       "      <td>0</td>\n",
       "      <td>0</td>\n",
       "      <td>0</td>\n",
       "      <td>...</td>\n",
       "      <td>0</td>\n",
       "      <td>0</td>\n",
       "      <td>2</td>\n",
       "      <td>0</td>\n",
       "      <td>0</td>\n",
       "      <td>0</td>\n",
       "      <td>4</td>\n",
       "      <td>0</td>\n",
       "      <td>4</td>\n",
       "      <td>0</td>\n",
       "    </tr>\n",
       "    <tr>\n",
       "      <th>3</th>\n",
       "      <td>0</td>\n",
       "      <td>0</td>\n",
       "      <td>0</td>\n",
       "      <td>0</td>\n",
       "      <td>0</td>\n",
       "      <td>0</td>\n",
       "      <td>0</td>\n",
       "      <td>0</td>\n",
       "      <td>0</td>\n",
       "      <td>1</td>\n",
       "      <td>...</td>\n",
       "      <td>0</td>\n",
       "      <td>0</td>\n",
       "      <td>4</td>\n",
       "      <td>0</td>\n",
       "      <td>0</td>\n",
       "      <td>0</td>\n",
       "      <td>0</td>\n",
       "      <td>0</td>\n",
       "      <td>0</td>\n",
       "      <td>0</td>\n",
       "    </tr>\n",
       "    <tr>\n",
       "      <th>4</th>\n",
       "      <td>0</td>\n",
       "      <td>0</td>\n",
       "      <td>0</td>\n",
       "      <td>0</td>\n",
       "      <td>0</td>\n",
       "      <td>0</td>\n",
       "      <td>0</td>\n",
       "      <td>1</td>\n",
       "      <td>0</td>\n",
       "      <td>0</td>\n",
       "      <td>...</td>\n",
       "      <td>0</td>\n",
       "      <td>0</td>\n",
       "      <td>2</td>\n",
       "      <td>1</td>\n",
       "      <td>0</td>\n",
       "      <td>1</td>\n",
       "      <td>0</td>\n",
       "      <td>2</td>\n",
       "      <td>1</td>\n",
       "      <td>4</td>\n",
       "    </tr>\n",
       "    <tr>\n",
       "      <th>8</th>\n",
       "      <td>0</td>\n",
       "      <td>0</td>\n",
       "      <td>0</td>\n",
       "      <td>0</td>\n",
       "      <td>0</td>\n",
       "      <td>0</td>\n",
       "      <td>0</td>\n",
       "      <td>0</td>\n",
       "      <td>0</td>\n",
       "      <td>1</td>\n",
       "      <td>...</td>\n",
       "      <td>0</td>\n",
       "      <td>0</td>\n",
       "      <td>2</td>\n",
       "      <td>0</td>\n",
       "      <td>0</td>\n",
       "      <td>1</td>\n",
       "      <td>0</td>\n",
       "      <td>0</td>\n",
       "      <td>0</td>\n",
       "      <td>0</td>\n",
       "    </tr>\n",
       "    <tr>\n",
       "      <th>9</th>\n",
       "      <td>0</td>\n",
       "      <td>0</td>\n",
       "      <td>1</td>\n",
       "      <td>0</td>\n",
       "      <td>0</td>\n",
       "      <td>0</td>\n",
       "      <td>0</td>\n",
       "      <td>0</td>\n",
       "      <td>0</td>\n",
       "      <td>0</td>\n",
       "      <td>...</td>\n",
       "      <td>0</td>\n",
       "      <td>0</td>\n",
       "      <td>1</td>\n",
       "      <td>0</td>\n",
       "      <td>0</td>\n",
       "      <td>0</td>\n",
       "      <td>0</td>\n",
       "      <td>1</td>\n",
       "      <td>0</td>\n",
       "      <td>0</td>\n",
       "    </tr>\n",
       "  </tbody>\n",
       "</table>\n",
       "<p>5 rows × 153 columns</p>\n",
       "</div>"
      ],
      "text/plain": [
       "              DevType                           \\\n",
       "  Academic researcher Data or business analyst   \n",
       "0                   0                        0   \n",
       "3                   0                        0   \n",
       "4                   0                        0   \n",
       "8                   0                        0   \n",
       "9                   0                        0   \n",
       "\n",
       "                                                                        \\\n",
       "  Data scientist or machine learning specialist Database administrator   \n",
       "0                                             0                      0   \n",
       "3                                             0                      0   \n",
       "4                                             0                      0   \n",
       "8                                             0                      0   \n",
       "9                                             1                      0   \n",
       "\n",
       "                                                               \\\n",
       "  DevOps specialist Developer, QA or test Developer, back-end   \n",
       "0                 0                     0                   0   \n",
       "3                 0                     0                   0   \n",
       "4                 0                     0                   0   \n",
       "8                 0                     0                   0   \n",
       "9                 0                     0                   0   \n",
       "\n",
       "                                                 \\\n",
       "  Developer, desktop or enterprise applications   \n",
       "0                                             0   \n",
       "3                                             0   \n",
       "4                                             1   \n",
       "8                                             0   \n",
       "9                                             0   \n",
       "\n",
       "                                                                    ...  \\\n",
       "  Developer, embedded applications or devices Developer, front-end  ...   \n",
       "0                                           0                    0  ...   \n",
       "3                                           0                    1  ...   \n",
       "4                                           0                    0  ...   \n",
       "8                                           0                    1  ...   \n",
       "9                                           0                    0  ...   \n",
       "\n",
       "  skills_clusters                                                \\\n",
       "  skills_group_10 skills_group_11 skills_group_2 skills_group_3   \n",
       "0               0               0              2              0   \n",
       "3               0               0              4              0   \n",
       "4               0               0              2              1   \n",
       "8               0               0              2              0   \n",
       "9               0               0              1              0   \n",
       "\n",
       "                                                                              \\\n",
       "  skills_group_4 skills_group_5 skills_group_6 skills_group_7 skills_group_8   \n",
       "0              0              0              4              0              4   \n",
       "3              0              0              0              0              0   \n",
       "4              0              1              0              2              1   \n",
       "8              0              1              0              0              0   \n",
       "9              0              0              0              1              0   \n",
       "\n",
       "                  \n",
       "  skills_group_9  \n",
       "0              0  \n",
       "3              0  \n",
       "4              4  \n",
       "8              0  \n",
       "9              0  \n",
       "\n",
       "[5 rows x 153 columns]"
      ]
     },
     "execution_count": 5,
     "metadata": {},
     "output_type": "execute_result"
    }
   ],
   "source": [
    "# Read Data\n",
    "df = pd.read_pickle(DATA_PATH)\n",
    "df.head()"
   ]
  },
  {
   "cell_type": "markdown",
   "id": "50d35047",
   "metadata": {},
   "source": [
    "## Balance classes\n"
   ]
  },
  {
   "cell_type": "code",
   "execution_count": 6,
   "id": "f2da595c",
   "metadata": {},
   "outputs": [
    {
     "data": {
      "text/plain": [
       "Developer, full-stack                            20655\n",
       "Developer, back-end                              17084\n",
       "Developer, front-end                              8932\n",
       "Developer, desktop or enterprise applications     4845\n",
       "Developer, mobile                                 4751\n",
       "DevOps specialist                                 3056\n",
       "Data scientist or machine learning specialist     2460\n",
       "Developer, embedded applications or devices       2138\n",
       "System administrator                              2069\n",
       "Engineer, data                                    1941\n",
       "Academic researcher                               1708\n",
       "Data or business analyst                          1658\n",
       "Database administrator                            1210\n",
       "Developer, QA or test                             1135\n",
       "Scientist                                         1046\n",
       "Developer, game or graphics                        899\n",
       "dtype: int64"
      ]
     },
     "execution_count": 6,
     "metadata": {},
     "output_type": "execute_result"
    }
   ],
   "source": [
    "# Check the total samples of roles\n",
    "roles_df = df[\"DevType\"].copy()\n",
    "roles_df.sum(axis=0).sort_values(ascending=False)"
   ]
  },
  {
   "cell_type": "code",
   "execution_count": 7,
   "id": "475cc1f4",
   "metadata": {},
   "outputs": [],
   "source": [
    "# Resample roles\n",
    "samples_per_class = 1200\n",
    "resampled_roles = []\n",
    "\n",
    "for role in roles_df.columns:\n",
    "    \n",
    "    sub_df =roles_df.loc[roles_df[role] == 1].copy()\n",
    "    \n",
    "    if len(sub_df) < samples_per_class:\n",
    "        # upper sampling: increasing the number of samples in this class by sampling with replacement\n",
    "        sub_df = sub_df.sample(samples_per_class, replace = True, random_state=0)\n",
    "    else: \n",
    "        # down sampling   \n",
    "        sub_df = sub_df.sample(samples_per_class, random_state=0) #replace = False by default\n",
    "\n",
    "    resampled_roles.append(sub_df)   \n",
    "    \n",
    "# Construct dfs\n",
    "roles_df=pd.concat(resampled_roles)\n",
    "df = df.loc[roles_df.index].copy()"
   ]
  },
  {
   "cell_type": "code",
   "execution_count": 8,
   "id": "0b2844a7",
   "metadata": {},
   "outputs": [
    {
     "data": {
      "text/plain": [
       "Academic researcher                              2280\n",
       "Data or business analyst                         1965\n",
       "Data scientist or machine learning specialist    2576\n",
       "Database administrator                           1765\n",
       "DevOps specialist                                2170\n",
       "Developer, QA or test                            1514\n",
       "Developer, back-end                              5710\n",
       "Developer, desktop or enterprise applications    2690\n",
       "Developer, embedded applications or devices      1773\n",
       "Developer, front-end                             2614\n",
       "Developer, full-stack                            5602\n",
       "Developer, game or graphics                      1441\n",
       "Developer, mobile                                2155\n",
       "Engineer, data                                   2046\n",
       "Scientist                                        1910\n",
       "System administrator                             2110\n",
       "dtype: int64"
      ]
     },
     "execution_count": 8,
     "metadata": {},
     "output_type": "execute_result"
    }
   ],
   "source": [
    "# Check the total samples of roles\n",
    "roles_df.sum(axis=0)"
   ]
  },
  {
   "cell_type": "markdown",
   "id": "7e28b8bc",
   "metadata": {},
   "source": [
    "## Split"
   ]
  },
  {
   "cell_type": "code",
   "execution_count": 9,
   "id": "4403abe2",
   "metadata": {},
   "outputs": [
    {
     "name": "stderr",
     "output_type": "stream",
     "text": [
      "D:\\Anaconda\\lib\\site-packages\\pandas\\core\\generic.py:4153: PerformanceWarning: dropping on a non-lexsorted multi-index without a level parameter may impact performance.\n",
      "  obj = obj._drop_axis(labels, axis, level=level, errors=errors)\n"
     ]
    }
   ],
   "source": [
    "X_train, X_test, Y_train, Y_test = train_test_split(df.drop(\"DevType\", axis=1), \n",
    "                                                    df[\"DevType\"], \n",
    "                                                    random_state=0)"
   ]
  },
  {
   "cell_type": "markdown",
   "id": "ea03cc8a",
   "metadata": {},
   "source": [
    "<hr>"
   ]
  },
  {
   "cell_type": "markdown",
   "id": "a8e1f373",
   "metadata": {},
   "source": [
    "## Train models\n"
   ]
  },
  {
   "cell_type": "markdown",
   "id": "d5d5636c",
   "metadata": {},
   "source": [
    "### Initialize MLflow"
   ]
  },
  {
   "cell_type": "code",
   "execution_count": 10,
   "id": "574d6066",
   "metadata": {
    "scrolled": true
   },
   "outputs": [
    {
     "name": "stderr",
     "output_type": "stream",
     "text": [
      "2022/07/30 08:49:45 INFO mlflow.tracking.fluent: Experiment with name 'skills_jobs_Stackoverflow' does not exist. Creating a new experiment.\n"
     ]
    }
   ],
   "source": [
    "# Initialize client and experiment\n",
    "client = MlflowClient() \n",
    "mlflow.set_experiment(MLFLOW_EXPERIMENT_NAME)\n",
    "exp = client.get_experiment_by_name(MLFLOW_EXPERIMENT_NAME)"
   ]
  },
  {
   "cell_type": "markdown",
   "id": "73426dc3",
   "metadata": {},
   "source": [
    "## 1. Logistic regression\n"
   ]
  },
  {
   "cell_type": "markdown",
   "id": "466de29d",
   "metadata": {},
   "source": [
    "**Multi target classification** This strategy consists of fitting one classifier per target. This is a simple strategy for extending classifiers that do not natively support multi-target classification."
   ]
  },
  {
   "cell_type": "code",
   "execution_count": 11,
   "id": "cffdc6e9",
   "metadata": {},
   "outputs": [],
   "source": [
    "clf = make_pipeline(StandardScaler(),\n",
    "                    MultiOutputClassifier(LogisticRegression()))\n",
    "\n",
    "clf.fit(X_train.values, Y_train.values)\n",
    "predictions =  pd.DataFrame(clf.predict(X_train.values),\n",
    "                            columns=Y_train.columns)"
   ]
  },
  {
   "cell_type": "code",
   "execution_count": 12,
   "id": "85732234",
   "metadata": {},
   "outputs": [],
   "source": [
    "# Evaluate on training set\n",
    "predictions =  pd.DataFrame(clf.predict(X_train.values),\n",
    "                            columns=Y_train.columns)\n",
    "train_scores = {score.__name__: calculate_quality(Y_train, predictions, score) \n",
    "                for score in [accuracy_score, precision_score, recall_score, f1_score]}\n",
    "train_scores = pd.concat(train_scores,axis=1)"
   ]
  },
  {
   "cell_type": "code",
   "execution_count": 13,
   "id": "a3c4816a",
   "metadata": {},
   "outputs": [],
   "source": [
    "# Evaluate on test set\n",
    "predictions =  pd.DataFrame(clf.predict(X_test.values), columns=Y_test.columns)\n",
    "test_scores = {score.__name__: calculate_quality(Y_test, predictions, score) \n",
    "                for score in [accuracy_score, precision_score, recall_score, f1_score]}\n",
    "test_scores = pd.concat(test_scores,axis=1)\n",
    "mean_test_scores = test_scores.mean()"
   ]
  },
  {
   "cell_type": "code",
   "execution_count": 14,
   "id": "9a0022c7",
   "metadata": {},
   "outputs": [
    {
     "name": "stdout",
     "output_type": "stream",
     "text": [
      "accuracy_score     88.939375\n",
      "precision_score    62.420625\n",
      "recall_score       29.890000\n",
      "f1_score           38.613125\n",
      "dtype: float64\n"
     ]
    },
    {
     "data": {
      "text/html": [
       "<div>\n",
       "<style scoped>\n",
       "    .dataframe tbody tr th:only-of-type {\n",
       "        vertical-align: middle;\n",
       "    }\n",
       "\n",
       "    .dataframe tbody tr th {\n",
       "        vertical-align: top;\n",
       "    }\n",
       "\n",
       "    .dataframe thead th {\n",
       "        text-align: right;\n",
       "    }\n",
       "</style>\n",
       "<table border=\"1\" class=\"dataframe\">\n",
       "  <thead>\n",
       "    <tr style=\"text-align: right;\">\n",
       "      <th></th>\n",
       "      <th>accuracy_score</th>\n",
       "      <th>precision_score</th>\n",
       "      <th>recall_score</th>\n",
       "      <th>f1_score</th>\n",
       "    </tr>\n",
       "  </thead>\n",
       "  <tbody>\n",
       "    <tr>\n",
       "      <th>Academic researcher</th>\n",
       "      <td>90.02</td>\n",
       "      <td>64.42</td>\n",
       "      <td>30.94</td>\n",
       "      <td>41.80</td>\n",
       "    </tr>\n",
       "    <tr>\n",
       "      <th>Data or business analyst</th>\n",
       "      <td>91.12</td>\n",
       "      <td>65.99</td>\n",
       "      <td>26.58</td>\n",
       "      <td>37.90</td>\n",
       "    </tr>\n",
       "    <tr>\n",
       "      <th>Data scientist or machine learning specialist</th>\n",
       "      <td>89.96</td>\n",
       "      <td>67.58</td>\n",
       "      <td>49.23</td>\n",
       "      <td>56.96</td>\n",
       "    </tr>\n",
       "    <tr>\n",
       "      <th>Database administrator</th>\n",
       "      <td>90.90</td>\n",
       "      <td>56.10</td>\n",
       "      <td>5.20</td>\n",
       "      <td>9.52</td>\n",
       "    </tr>\n",
       "    <tr>\n",
       "      <th>DevOps specialist</th>\n",
       "      <td>90.21</td>\n",
       "      <td>65.38</td>\n",
       "      <td>25.47</td>\n",
       "      <td>36.66</td>\n",
       "    </tr>\n",
       "    <tr>\n",
       "      <th>Developer, QA or test</th>\n",
       "      <td>91.71</td>\n",
       "      <td>28.57</td>\n",
       "      <td>0.51</td>\n",
       "      <td>1.00</td>\n",
       "    </tr>\n",
       "    <tr>\n",
       "      <th>Developer, back-end</th>\n",
       "      <td>74.40</td>\n",
       "      <td>62.64</td>\n",
       "      <td>35.72</td>\n",
       "      <td>45.50</td>\n",
       "    </tr>\n",
       "    <tr>\n",
       "      <th>Developer, desktop or enterprise applications</th>\n",
       "      <td>87.52</td>\n",
       "      <td>61.58</td>\n",
       "      <td>18.20</td>\n",
       "      <td>28.09</td>\n",
       "    </tr>\n",
       "    <tr>\n",
       "      <th>Developer, embedded applications or devices</th>\n",
       "      <td>92.65</td>\n",
       "      <td>64.79</td>\n",
       "      <td>33.17</td>\n",
       "      <td>43.88</td>\n",
       "    </tr>\n",
       "    <tr>\n",
       "      <th>Developer, front-end</th>\n",
       "      <td>88.40</td>\n",
       "      <td>67.91</td>\n",
       "      <td>36.76</td>\n",
       "      <td>47.70</td>\n",
       "    </tr>\n",
       "    <tr>\n",
       "      <th>Developer, full-stack</th>\n",
       "      <td>78.48</td>\n",
       "      <td>65.53</td>\n",
       "      <td>55.08</td>\n",
       "      <td>59.85</td>\n",
       "    </tr>\n",
       "    <tr>\n",
       "      <th>Developer, game or graphics</th>\n",
       "      <td>94.81</td>\n",
       "      <td>76.82</td>\n",
       "      <td>46.05</td>\n",
       "      <td>57.58</td>\n",
       "    </tr>\n",
       "    <tr>\n",
       "      <th>Developer, mobile</th>\n",
       "      <td>93.08</td>\n",
       "      <td>74.75</td>\n",
       "      <td>57.12</td>\n",
       "      <td>64.76</td>\n",
       "    </tr>\n",
       "    <tr>\n",
       "      <th>Engineer, data</th>\n",
       "      <td>90.25</td>\n",
       "      <td>61.18</td>\n",
       "      <td>18.53</td>\n",
       "      <td>28.44</td>\n",
       "    </tr>\n",
       "    <tr>\n",
       "      <th>Scientist</th>\n",
       "      <td>90.12</td>\n",
       "      <td>54.75</td>\n",
       "      <td>24.44</td>\n",
       "      <td>33.80</td>\n",
       "    </tr>\n",
       "    <tr>\n",
       "      <th>System administrator</th>\n",
       "      <td>89.40</td>\n",
       "      <td>60.74</td>\n",
       "      <td>15.24</td>\n",
       "      <td>24.37</td>\n",
       "    </tr>\n",
       "  </tbody>\n",
       "</table>\n",
       "</div>"
      ],
      "text/plain": [
       "                                               accuracy_score  \\\n",
       "Academic researcher                                     90.02   \n",
       "Data or business analyst                                91.12   \n",
       "Data scientist or machine learning specialist           89.96   \n",
       "Database administrator                                  90.90   \n",
       "DevOps specialist                                       90.21   \n",
       "Developer, QA or test                                   91.71   \n",
       "Developer, back-end                                     74.40   \n",
       "Developer, desktop or enterprise applications           87.52   \n",
       "Developer, embedded applications or devices             92.65   \n",
       "Developer, front-end                                    88.40   \n",
       "Developer, full-stack                                   78.48   \n",
       "Developer, game or graphics                             94.81   \n",
       "Developer, mobile                                       93.08   \n",
       "Engineer, data                                          90.25   \n",
       "Scientist                                               90.12   \n",
       "System administrator                                    89.40   \n",
       "\n",
       "                                               precision_score  recall_score  \\\n",
       "Academic researcher                                      64.42         30.94   \n",
       "Data or business analyst                                 65.99         26.58   \n",
       "Data scientist or machine learning specialist            67.58         49.23   \n",
       "Database administrator                                   56.10          5.20   \n",
       "DevOps specialist                                        65.38         25.47   \n",
       "Developer, QA or test                                    28.57          0.51   \n",
       "Developer, back-end                                      62.64         35.72   \n",
       "Developer, desktop or enterprise applications            61.58         18.20   \n",
       "Developer, embedded applications or devices              64.79         33.17   \n",
       "Developer, front-end                                     67.91         36.76   \n",
       "Developer, full-stack                                    65.53         55.08   \n",
       "Developer, game or graphics                              76.82         46.05   \n",
       "Developer, mobile                                        74.75         57.12   \n",
       "Engineer, data                                           61.18         18.53   \n",
       "Scientist                                                54.75         24.44   \n",
       "System administrator                                     60.74         15.24   \n",
       "\n",
       "                                               f1_score  \n",
       "Academic researcher                               41.80  \n",
       "Data or business analyst                          37.90  \n",
       "Data scientist or machine learning specialist     56.96  \n",
       "Database administrator                             9.52  \n",
       "DevOps specialist                                 36.66  \n",
       "Developer, QA or test                              1.00  \n",
       "Developer, back-end                               45.50  \n",
       "Developer, desktop or enterprise applications     28.09  \n",
       "Developer, embedded applications or devices       43.88  \n",
       "Developer, front-end                              47.70  \n",
       "Developer, full-stack                             59.85  \n",
       "Developer, game or graphics                       57.58  \n",
       "Developer, mobile                                 64.76  \n",
       "Engineer, data                                    28.44  \n",
       "Scientist                                         33.80  \n",
       "System administrator                              24.37  "
      ]
     },
     "execution_count": 14,
     "metadata": {},
     "output_type": "execute_result"
    }
   ],
   "source": [
    "print(mean_test_scores)\n",
    "test_scores"
   ]
  },
  {
   "cell_type": "markdown",
   "id": "f8e46920",
   "metadata": {},
   "source": [
    "The precision_score is not good so, we need to use more complicated model to get better precision_score"
   ]
  },
  {
   "cell_type": "markdown",
   "id": "68c43cf8",
   "metadata": {},
   "source": [
    "## Log run\n"
   ]
  },
  {
   "cell_type": "markdown",
   "id": "33acd206",
   "metadata": {},
   "source": [
    "### 1. Prepare\n"
   ]
  },
  {
   "cell_type": "code",
   "execution_count": 15,
   "id": "33af81ca",
   "metadata": {},
   "outputs": [],
   "source": [
    "# Data details\n",
    "data_details = {\"data_path\": DATA_PATH,\n",
    "                \"training_indices\": X_train.index.tolist(),\n",
    "                \"test_indices\":     X_test.index.tolist(), \n",
    "                \"features_names\":   X_train.columns.droplevel(0).tolist(),\n",
    "                \"targets_names\":    Y_train.columns.tolist()}\n",
    "\n",
    "with open(os.path.join(LOG_PATH, LOG_DATA_PKL), \"wb\") as output_file:\n",
    "    pickle.dump(data_details, output_file)"
   ]
  },
  {
   "cell_type": "code",
   "execution_count": 16,
   "id": "bdcb95a2",
   "metadata": {},
   "outputs": [],
   "source": [
    "# Model\n",
    "model = {\"model_description\": \"Baseline model: Logistic Regression \",\n",
    "         \"model_details\": str(clf),\n",
    "         \"model_object\": clf} \n",
    "\n",
    "with open(os.path.join(LOG_PATH, LOG_MODEL_PKL), \"wb\") as output_file:\n",
    "    pickle.dump(model, output_file)"
   ]
  },
  {
   "cell_type": "code",
   "execution_count": 17,
   "id": "676f1244",
   "metadata": {},
   "outputs": [
    {
     "name": "stdout",
     "output_type": "stream",
     "text": [
      "Pipeline(steps=[('standardscaler', StandardScaler()),\n",
      "                ('multioutputclassifier',\n",
      "                 MultiOutputClassifier(estimator=LogisticRegression()))])\n"
     ]
    }
   ],
   "source": [
    "print(str(clf))"
   ]
  },
  {
   "cell_type": "code",
   "execution_count": 18,
   "id": "a3cc4a6b",
   "metadata": {},
   "outputs": [],
   "source": [
    "# Performance details\n",
    "classes_metrics = {\"train_scores\": train_scores, \n",
    "                   \"test_scores\":  test_scores}\n",
    "\n",
    "with open(os.path.join(LOG_PATH, LOG_METRICS_PKL), \"wb\") as output_file:\n",
    "    pickle.dump(classes_metrics, output_file)"
   ]
  },
  {
   "cell_type": "markdown",
   "id": "6941930b",
   "metadata": {},
   "source": [
    "## 2. Log\n"
   ]
  },
  {
   "cell_type": "code",
   "execution_count": 19,
   "id": "acd0a1b2",
   "metadata": {},
   "outputs": [
    {
     "name": "stderr",
     "output_type": "stream",
     "text": [
      "2022/07/30 08:49:49 WARNING mlflow.utils.git_utils: Failed to import Git (the Git executable is probably not on your PATH), so Git SHA is not available. Error: Failed to initialize: Bad git executable.\n",
      "The git executable must be specified in one of the following ways:\n",
      "    - be included in your $PATH\n",
      "    - be set via $GIT_PYTHON_GIT_EXECUTABLE\n",
      "    - explicitly set via git.refresh()\n",
      "\n",
      "All git commands will error until this is rectified.\n",
      "\n",
      "This initial warning can be silenced or aggravated in the future by setting the\n",
      "$GIT_PYTHON_REFRESH environment variable. Use one of the following values:\n",
      "    - quiet|q|silence|s|none|n|0: for no warning or exception\n",
      "    - warn|w|warning|1: for a printed warning\n",
      "    - error|e|raise|r|2: for a raised exception\n",
      "\n",
      "Example:\n",
      "    export GIT_PYTHON_REFRESH=quiet\n",
      "\n"
     ]
    }
   ],
   "source": [
    "# Start a new run and track \n",
    "with mlflow.start_run(experiment_id=exp.experiment_id, run_name=model[\"model_description\"]):\n",
    "    # Log pickles \n",
    "    mlflow.log_artifacts(LOG_PATH)\n",
    "    \n",
    "    # Track metrics \n",
    "    for metric, score in mean_test_scores.items():\n",
    "        mlflow.log_metric(metric, score) \n",
    "    "
   ]
  },
  {
   "cell_type": "code",
   "execution_count": 20,
   "id": "60d3f85b",
   "metadata": {},
   "outputs": [
    {
     "data": {
      "text/html": [
       "<div>\n",
       "<style scoped>\n",
       "    .dataframe tbody tr th:only-of-type {\n",
       "        vertical-align: middle;\n",
       "    }\n",
       "\n",
       "    .dataframe tbody tr th {\n",
       "        vertical-align: top;\n",
       "    }\n",
       "\n",
       "    .dataframe thead th {\n",
       "        text-align: right;\n",
       "    }\n",
       "</style>\n",
       "<table border=\"1\" class=\"dataframe\">\n",
       "  <thead>\n",
       "    <tr style=\"text-align: right;\">\n",
       "      <th></th>\n",
       "      <th>run_id</th>\n",
       "      <th>experiment_id</th>\n",
       "      <th>status</th>\n",
       "      <th>artifact_uri</th>\n",
       "      <th>start_time</th>\n",
       "      <th>end_time</th>\n",
       "      <th>metrics.precision_score</th>\n",
       "      <th>metrics.f1_score</th>\n",
       "      <th>metrics.accuracy_score</th>\n",
       "      <th>metrics.recall_score</th>\n",
       "      <th>tags.mlflow.runName</th>\n",
       "      <th>tags.mlflow.user</th>\n",
       "      <th>tags.mlflow.source.name</th>\n",
       "      <th>tags.mlflow.source.type</th>\n",
       "    </tr>\n",
       "  </thead>\n",
       "  <tbody>\n",
       "    <tr>\n",
       "      <th>0</th>\n",
       "      <td>bb29a0874d724f42b4b0ee1ffbb25f01</td>\n",
       "      <td>2</td>\n",
       "      <td>FINISHED</td>\n",
       "      <td>file:///C:/Users/gt/End%20to%20End%20Data%20Sc...</td>\n",
       "      <td>2022-07-30 06:49:49.326000+00:00</td>\n",
       "      <td>2022-07-30 06:49:49.447000+00:00</td>\n",
       "      <td>62.420625</td>\n",
       "      <td>38.613125</td>\n",
       "      <td>88.939375</td>\n",
       "      <td>29.89</td>\n",
       "      <td>Baseline model: Logistic Regression</td>\n",
       "      <td>gt</td>\n",
       "      <td>D:\\Anaconda\\lib\\site-packages\\ipykernel_launch...</td>\n",
       "      <td>LOCAL</td>\n",
       "    </tr>\n",
       "  </tbody>\n",
       "</table>\n",
       "</div>"
      ],
      "text/plain": [
       "                             run_id experiment_id    status  \\\n",
       "0  bb29a0874d724f42b4b0ee1ffbb25f01             2  FINISHED   \n",
       "\n",
       "                                        artifact_uri  \\\n",
       "0  file:///C:/Users/gt/End%20to%20End%20Data%20Sc...   \n",
       "\n",
       "                        start_time                         end_time  \\\n",
       "0 2022-07-30 06:49:49.326000+00:00 2022-07-30 06:49:49.447000+00:00   \n",
       "\n",
       "   metrics.precision_score  metrics.f1_score  metrics.accuracy_score  \\\n",
       "0                62.420625         38.613125               88.939375   \n",
       "\n",
       "   metrics.recall_score                   tags.mlflow.runName  \\\n",
       "0                 29.89  Baseline model: Logistic Regression    \n",
       "\n",
       "  tags.mlflow.user                            tags.mlflow.source.name  \\\n",
       "0               gt  D:\\Anaconda\\lib\\site-packages\\ipykernel_launch...   \n",
       "\n",
       "  tags.mlflow.source.type  \n",
       "0                   LOCAL  "
      ]
     },
     "execution_count": 20,
     "metadata": {},
     "output_type": "execute_result"
    }
   ],
   "source": [
    "exp = client.get_experiment_by_name(MLFLOW_EXPERIMENT_NAME)\n",
    "# Get all runs \n",
    "runs = mlflow.search_runs([exp.experiment_id])\n",
    "runs"
   ]
  },
  {
   "cell_type": "code",
   "execution_count": null,
   "id": "eaa0c7dc",
   "metadata": {},
   "outputs": [],
   "source": []
  }
 ],
 "metadata": {
  "kernelspec": {
   "display_name": "Python 3",
   "language": "python",
   "name": "python3"
  },
  "language_info": {
   "codemirror_mode": {
    "name": "ipython",
    "version": 3
   },
   "file_extension": ".py",
   "mimetype": "text/x-python",
   "name": "python",
   "nbconvert_exporter": "python",
   "pygments_lexer": "ipython3",
   "version": "3.8.8"
  }
 },
 "nbformat": 4,
 "nbformat_minor": 5
}
