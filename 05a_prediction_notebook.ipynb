{
 "cells": [
  {
   "cell_type": "code",
   "execution_count": 386,
   "id": "407d5857",
   "metadata": {},
   "outputs": [],
   "source": [
    "#constants\n",
    "\n",
    "DATA_PATH = 'C:\\\\Users\\\\gt\\\\End to End Data Science Project\\\\Processed data\\\\cleaned_data.pkl'\n",
    "\n",
    "\n",
    "TRACKING_URI = \"C:\\\\Users\\\\gt\\\\End to End Data Science Project\\\\mlruns\\\\\"\n",
    "EXPERIMENT_ID = \"2\"\n",
    "RUN_ID = \"2d620efffdac4b9db4adad274b4a7ff9\"\n",
    "\n",
    "MLFLOW_EXPERIMENT_NAME = \"skills_jobs_Stackoverflow\"\n",
    "\n",
    "LOG_DATA_PKL    =  \"data.pkl\"\n",
    "LOG_MODEL_PKL   =  \"model.pkl\"\n"
   ]
  },
  {
   "cell_type": "code",
   "execution_count": 387,
   "id": "2ac4419d",
   "metadata": {},
   "outputs": [],
   "source": [
    "import os \n",
    "import sklearn\n",
    "import pickle\n",
    "import yaml\n",
    "\n",
    "import pandas as pd\n",
    "\n",
    "import mlflow\n",
    "from mlflow.tracking import MlflowClient"
   ]
  },
  {
   "cell_type": "markdown",
   "id": "6456bde3",
   "metadata": {},
   "source": [
    "## Initialize"
   ]
  },
  {
   "cell_type": "markdown",
   "id": "0cfba478",
   "metadata": {},
   "source": [
    "### Load model\n"
   ]
  },
  {
   "cell_type": "code",
   "execution_count": 388,
   "id": "ac6d75a7",
   "metadata": {},
   "outputs": [],
   "source": [
    "artifact_path = os.path.join(TRACKING_URI, \n",
    "                             EXPERIMENT_ID, \n",
    "                             RUN_ID, \n",
    "                             'artifacts')"
   ]
  },
  {
   "cell_type": "code",
   "execution_count": 389,
   "id": "ca4df7b5",
   "metadata": {},
   "outputs": [],
   "source": [
    "# Load data pkl\n",
    "data_path  = os.path.join(artifact_path, LOG_DATA_PKL)\n",
    "with open(data_path, 'rb') as handle:\n",
    "    data_pkl = pickle.load(handle)"
   ]
  },
  {
   "cell_type": "code",
   "execution_count": 390,
   "id": "6fb3eb84",
   "metadata": {},
   "outputs": [
    {
     "data": {
      "text/plain": [
       "Pipeline(steps=[('robustscaler', RobustScaler()),\n",
       "                ('pca', PCA(n_components=0.95)),\n",
       "                ('randomforestclassifier',\n",
       "                 RandomForestClassifier(n_jobs=8, random_state=0, verbose=1))])"
      ]
     },
     "execution_count": 390,
     "metadata": {},
     "output_type": "execute_result"
    }
   ],
   "source": [
    "# Load model pkl\n",
    "model_path = os.path.join(artifact_path, LOG_MODEL_PKL)\n",
    "with open(model_path, 'rb') as handle:\n",
    "    model_pkl = pickle.load(handle)\n",
    "\n",
    "model = model_pkl[\"model_object\"]\n",
    "model"
   ]
  },
  {
   "cell_type": "markdown",
   "id": "a648aa68",
   "metadata": {},
   "source": [
    "## Predict sample entry\n"
   ]
  },
  {
   "cell_type": "code",
   "execution_count": 391,
   "id": "68e25575",
   "metadata": {},
   "outputs": [],
   "source": [
    "CLUSTERS_YAML_PATH = 'C:\\\\Users\\\\gt\\\\End to End Data Science Project\\\\Processed data\\\\features_skills_clusters_description.yaml'"
   ]
  },
  {
   "cell_type": "code",
   "execution_count": 392,
   "id": "0e830e2f",
   "metadata": {},
   "outputs": [],
   "source": [
    "with open(CLUSTERS_YAML_PATH, \"r\") as stream:\n",
    "    clusters_config = yaml.safe_load(stream)"
   ]
  },
  {
   "cell_type": "code",
   "execution_count": 393,
   "id": "bea74a03",
   "metadata": {},
   "outputs": [
    {
     "data": {
      "text/html": [
       "<div>\n",
       "<style scoped>\n",
       "    .dataframe tbody tr th:only-of-type {\n",
       "        vertical-align: middle;\n",
       "    }\n",
       "\n",
       "    .dataframe tbody tr th {\n",
       "        vertical-align: top;\n",
       "    }\n",
       "\n",
       "    .dataframe thead th {\n",
       "        text-align: right;\n",
       "    }\n",
       "</style>\n",
       "<table border=\"1\" class=\"dataframe\">\n",
       "  <thead>\n",
       "    <tr style=\"text-align: right;\">\n",
       "      <th></th>\n",
       "      <th>cluster_name</th>\n",
       "      <th>skill</th>\n",
       "    </tr>\n",
       "  </thead>\n",
       "  <tbody>\n",
       "    <tr>\n",
       "      <th>0</th>\n",
       "      <td>skills_group_0</td>\n",
       "      <td>Assembly</td>\n",
       "    </tr>\n",
       "    <tr>\n",
       "      <th>1</th>\n",
       "      <td>skills_group_0</td>\n",
       "      <td>C</td>\n",
       "    </tr>\n",
       "    <tr>\n",
       "      <th>2</th>\n",
       "      <td>skills_group_0</td>\n",
       "      <td>C++</td>\n",
       "    </tr>\n",
       "    <tr>\n",
       "      <th>3</th>\n",
       "      <td>skills_group_0</td>\n",
       "      <td>Julia</td>\n",
       "    </tr>\n",
       "    <tr>\n",
       "      <th>4</th>\n",
       "      <td>skills_group_0</td>\n",
       "      <td>Matlab</td>\n",
       "    </tr>\n",
       "    <tr>\n",
       "      <th>...</th>\n",
       "      <td>...</td>\n",
       "      <td>...</td>\n",
       "    </tr>\n",
       "    <tr>\n",
       "      <th>120</th>\n",
       "      <td>skills_group_9</td>\n",
       "      <td>Elasticsearch</td>\n",
       "    </tr>\n",
       "    <tr>\n",
       "      <th>121</th>\n",
       "      <td>skills_group_9</td>\n",
       "      <td>Redis</td>\n",
       "    </tr>\n",
       "    <tr>\n",
       "      <th>122</th>\n",
       "      <td>skills_group_9</td>\n",
       "      <td>DigitalOcean</td>\n",
       "    </tr>\n",
       "    <tr>\n",
       "      <th>123</th>\n",
       "      <td>skills_group_9</td>\n",
       "      <td>Apache Spark</td>\n",
       "    </tr>\n",
       "    <tr>\n",
       "      <th>124</th>\n",
       "      <td>skills_group_9</td>\n",
       "      <td>Hadoop</td>\n",
       "    </tr>\n",
       "  </tbody>\n",
       "</table>\n",
       "<p>125 rows × 2 columns</p>\n",
       "</div>"
      ],
      "text/plain": [
       "       cluster_name          skill\n",
       "0    skills_group_0       Assembly\n",
       "1    skills_group_0              C\n",
       "2    skills_group_0            C++\n",
       "3    skills_group_0          Julia\n",
       "4    skills_group_0         Matlab\n",
       "..              ...            ...\n",
       "120  skills_group_9  Elasticsearch\n",
       "121  skills_group_9          Redis\n",
       "122  skills_group_9   DigitalOcean\n",
       "123  skills_group_9   Apache Spark\n",
       "124  skills_group_9         Hadoop\n",
       "\n",
       "[125 rows x 2 columns]"
      ]
     },
     "execution_count": 393,
     "metadata": {},
     "output_type": "execute_result"
    }
   ],
   "source": [
    "molten_clusters = [(cluster_name, cluster_skill)\n",
    "                   for cluster_name, cluster_skills in clusters_config.items()\n",
    "                   for cluster_skill in cluster_skills]\n",
    "\n",
    "clusters_df = pd.DataFrame(molten_clusters, columns=[\"cluster_name\", \"skill\"])\n",
    "clusters_df"
   ]
  },
  {
   "cell_type": "markdown",
   "id": "0847d146",
   "metadata": {},
   "source": [
    "## Recreate cluster features\n"
   ]
  },
  {
   "cell_type": "code",
   "execution_count": 394,
   "id": "fb95deba",
   "metadata": {},
   "outputs": [],
   "source": [
    "sample_skills = ['Pandas', 'TensorFlow', 'Torch/PyTorch', 'Python', 'Keras']\n"
   ]
  },
  {
   "cell_type": "code",
   "execution_count": 407,
   "id": "fb667437",
   "metadata": {},
   "outputs": [
    {
     "data": {
      "text/plain": [
       "0    True\n",
       "1    True\n",
       "2    True\n",
       "3    True\n",
       "4    True\n",
       "dtype: bool"
      ]
     },
     "execution_count": 407,
     "metadata": {},
     "output_type": "execute_result"
    }
   ],
   "source": [
    "# Verify that these skills are io our dataset\n",
    "pd.Series(sample_skills).isin(features_names)"
   ]
  },
  {
   "cell_type": "code",
   "execution_count": 395,
   "id": "97ff1e58",
   "metadata": {},
   "outputs": [],
   "source": [
    "sample_clusters = clusters_df.copy()\n"
   ]
  },
  {
   "cell_type": "code",
   "execution_count": 396,
   "id": "2a01a135",
   "metadata": {},
   "outputs": [],
   "source": [
    "sample_clusters[\"sample_skills\"] = sample_clusters[\"skill\"].isin(sample_skills)\n"
   ]
  },
  {
   "cell_type": "code",
   "execution_count": 397,
   "id": "5c2809b0",
   "metadata": {},
   "outputs": [
    {
     "data": {
      "text/plain": [
       "cluster_name\n",
       "skills_group_0     5\n",
       "skills_group_1     0\n",
       "skills_group_10    0\n",
       "skills_group_11    0\n",
       "skills_group_2     0\n",
       "skills_group_3     0\n",
       "skills_group_4     0\n",
       "skills_group_5     0\n",
       "skills_group_6     0\n",
       "skills_group_7     0\n",
       "skills_group_8     0\n",
       "skills_group_9     0\n",
       "Name: sample_skills, dtype: int64"
      ]
     },
     "execution_count": 397,
     "metadata": {},
     "output_type": "execute_result"
    }
   ],
   "source": [
    "cluster_features = sample_clusters.groupby(\"cluster_name\")[\"sample_skills\"].sum()\n",
    "cluster_features\n"
   ]
  },
  {
   "cell_type": "markdown",
   "id": "d2a5417f",
   "metadata": {},
   "source": [
    "## Create OneHotEncoded skills\n"
   ]
  },
  {
   "cell_type": "code",
   "execution_count": 398,
   "id": "5aa797c0",
   "metadata": {},
   "outputs": [
    {
     "data": {
      "text/plain": [
       "0                 APL\n",
       "1            Assembly\n",
       "2          Bash/Shell\n",
       "3                   C\n",
       "4                  C#\n",
       "            ...      \n",
       "132    skills_group_5\n",
       "133    skills_group_6\n",
       "134    skills_group_7\n",
       "135    skills_group_8\n",
       "136    skills_group_9\n",
       "Length: 137, dtype: object"
      ]
     },
     "execution_count": 398,
     "metadata": {},
     "output_type": "execute_result"
    }
   ],
   "source": [
    "features_names = pd.Series(data_pkl[\"features_names\"])\n",
    "features_names"
   ]
  },
  {
   "cell_type": "code",
   "execution_count": 399,
   "id": "a092bbcd",
   "metadata": {},
   "outputs": [
    {
     "data": {
      "text/plain": [
       "0                     APL\n",
       "1                Assembly\n",
       "2              Bash/Shell\n",
       "3                       C\n",
       "4                      C#\n",
       "              ...        \n",
       "120                   Vim\n",
       "121         Visual Studio\n",
       "122    Visual Studio Code\n",
       "123              Webstorm\n",
       "124                 Xcode\n",
       "Length: 125, dtype: object"
      ]
     },
     "execution_count": 399,
     "metadata": {},
     "output_type": "execute_result"
    }
   ],
   "source": [
    "skills_names = features_names[~features_names.isin(cluster_features.index)]\n",
    "skills_names"
   ]
  },
  {
   "cell_type": "code",
   "execution_count": 400,
   "id": "0cdc4083",
   "metadata": {},
   "outputs": [
    {
     "data": {
      "text/plain": [
       "['Pandas', 'TensorFlow', 'Torch/PyTorch', 'Python', 'Keras']"
      ]
     },
     "execution_count": 400,
     "metadata": {},
     "output_type": "execute_result"
    }
   ],
   "source": [
    "sample_skills"
   ]
  },
  {
   "cell_type": "code",
   "execution_count": 401,
   "id": "a00ab921",
   "metadata": {},
   "outputs": [
    {
     "data": {
      "text/plain": [
       "APL                   0\n",
       "Assembly              0\n",
       "Bash/Shell            0\n",
       "C                     0\n",
       "C#                    0\n",
       "                     ..\n",
       "Vim                   0\n",
       "Visual Studio         0\n",
       "Visual Studio Code    0\n",
       "Webstorm              0\n",
       "Xcode                 0\n",
       "Length: 125, dtype: int64"
      ]
     },
     "execution_count": 401,
     "metadata": {},
     "output_type": "execute_result"
    }
   ],
   "source": [
    "ohe_skills = pd.Series(skills_names.isin(sample_skills).astype(int).tolist(), \n",
    "                       index=skills_names)\n",
    "ohe_skills"
   ]
  },
  {
   "cell_type": "code",
   "execution_count": 402,
   "id": "f4162e2b",
   "metadata": {},
   "outputs": [
    {
     "data": {
      "text/plain": [
       "Index(['skills_group_0', 'skills_group_1', 'skills_group_10',\n",
       "       'skills_group_11', 'skills_group_2', 'skills_group_3', 'skills_group_4',\n",
       "       'skills_group_5', 'skills_group_6', 'skills_group_7', 'skills_group_8',\n",
       "       'skills_group_9'],\n",
       "      dtype='object', name='cluster_name')"
      ]
     },
     "execution_count": 402,
     "metadata": {},
     "output_type": "execute_result"
    }
   ],
   "source": [
    "cluster_features.index"
   ]
  },
  {
   "cell_type": "markdown",
   "id": "46df361a",
   "metadata": {},
   "source": [
    "## Combine features\n"
   ]
  },
  {
   "cell_type": "code",
   "execution_count": 403,
   "id": "ecb6843d",
   "metadata": {},
   "outputs": [
    {
     "data": {
      "text/plain": [
       "[APL               0\n",
       " Assembly          0\n",
       " Bash/Shell        0\n",
       " C                 0\n",
       " C#                0\n",
       "                  ..\n",
       " skills_group_5    0\n",
       " skills_group_6    0\n",
       " skills_group_7    0\n",
       " skills_group_8    0\n",
       " skills_group_9    0\n",
       " Length: 137, dtype: int64]"
      ]
     },
     "execution_count": 403,
     "metadata": {},
     "output_type": "execute_result"
    }
   ],
   "source": [
    "features = pd.concat([ohe_skills, cluster_features])\n",
    "[features]"
   ]
  },
  {
   "cell_type": "code",
   "execution_count": 404,
   "id": "01ba13b0",
   "metadata": {},
   "outputs": [
    {
     "data": {
      "text/plain": [
       "APL               0\n",
       "Assembly          0\n",
       "Bash/Shell        0\n",
       "C                 0\n",
       "C#                0\n",
       "                 ..\n",
       "skills_group_5    0\n",
       "skills_group_6    0\n",
       "skills_group_7    0\n",
       "skills_group_8    0\n",
       "skills_group_9    0\n",
       "Length: 137, dtype: int64"
      ]
     },
     "execution_count": 404,
     "metadata": {},
     "output_type": "execute_result"
    }
   ],
   "source": [
    "features = features[data_pkl[\"features_names\"]]\n",
    "features"
   ]
  },
  {
   "cell_type": "markdown",
   "id": "c092e65b",
   "metadata": {},
   "source": [
    "## Predict"
   ]
  },
  {
   "cell_type": "code",
   "execution_count": 405,
   "id": "9a70b5c5",
   "metadata": {},
   "outputs": [
    {
     "name": "stderr",
     "output_type": "stream",
     "text": [
      "[Parallel(n_jobs=8)]: Using backend ThreadingBackend with 8 concurrent workers.\n",
      "[Parallel(n_jobs=8)]: Done  34 tasks      | elapsed:    0.0s\n",
      "[Parallel(n_jobs=8)]: Done 100 out of 100 | elapsed:    0.0s finished\n"
     ]
    },
    {
     "data": {
      "text/plain": [
       "[array([[0.62, 0.38]]),\n",
       " array([[0.87, 0.13]]),\n",
       " array([[0.41, 0.59]]),\n",
       " array([[0.97, 0.03]]),\n",
       " array([[1., 0.]]),\n",
       " array([[0.96, 0.04]]),\n",
       " array([[0.9, 0.1]]),\n",
       " array([[0.95, 0.05]]),\n",
       " array([[0.95, 0.05]]),\n",
       " array([[0.98, 0.02]]),\n",
       " array([[0.97, 0.03]]),\n",
       " array([[0.99, 0.01]]),\n",
       " array([[0.99, 0.01]]),\n",
       " array([[0.87, 0.13]]),\n",
       " array([[0.77, 0.23]]),\n",
       " array([[1., 0.]])]"
      ]
     },
     "execution_count": 405,
     "metadata": {},
     "output_type": "execute_result"
    }
   ],
   "source": [
    "predictions = model.predict_proba([features.values])\n",
    "predictions"
   ]
  },
  {
   "cell_type": "code",
   "execution_count": 406,
   "id": "b3b29210",
   "metadata": {},
   "outputs": [
    {
     "data": {
      "text/plain": [
       "Data scientist or machine learning specialist    0.59\n",
       "Academic researcher                              0.38\n",
       "Scientist                                        0.23\n",
       "Data or business analyst                         0.13\n",
       "Engineer, data                                   0.13\n",
       "Developer, back-end                              0.10\n",
       "Developer, desktop or enterprise applications    0.05\n",
       "Developer, embedded applications or devices      0.05\n",
       "Developer, QA or test                            0.04\n",
       "Database administrator                           0.03\n",
       "Developer, full-stack                            0.03\n",
       "Developer, front-end                             0.02\n",
       "Developer, game or graphics                      0.01\n",
       "Developer, mobile                                0.01\n",
       "DevOps specialist                                0.00\n",
       "System administrator                             0.00\n",
       "dtype: float64"
      ]
     },
     "execution_count": 406,
     "metadata": {},
     "output_type": "execute_result"
    }
   ],
   "source": [
    "positive_probs = [prob[0][1] for prob in predictions]\n",
    "pd.Series(positive_probs, \n",
    "          index=data_pkl[\"targets_names\"]).sort_values(ascending=False)"
   ]
  }
 ],
 "metadata": {
  "kernelspec": {
   "display_name": "Python 3",
   "language": "python",
   "name": "python3"
  },
  "language_info": {
   "codemirror_mode": {
    "name": "ipython",
    "version": 3
   },
   "file_extension": ".py",
   "mimetype": "text/x-python",
   "name": "python",
   "nbconvert_exporter": "python",
   "pygments_lexer": "ipython3",
   "version": "3.8.8"
  }
 },
 "nbformat": 4,
 "nbformat_minor": 5
}
