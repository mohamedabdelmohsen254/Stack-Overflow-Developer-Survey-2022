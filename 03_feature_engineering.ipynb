{
 "cells": [
  {
   "cell_type": "code",
   "execution_count": 173,
   "id": "b0051f9b",
   "metadata": {},
   "outputs": [],
   "source": [
    "#constants\n",
    "\n",
    "DATA_PATH = 'C:\\\\Users\\\\gt\\\\End to End Data Science Project\\\\Processed data\\\\preprocessed_data.pkl'\n",
    "EXPORT_FEATURES_DIR = \"C:\\\\Users\\\\gt\\\\End to End Data Science Project\\\\Processed data\"\n",
    "\n",
    "FIG_DIR = \"C:\\\\Users\\\\gt\\\\End to End Data Science Project\\\\Reports\"\n",
    "TRANSPARENT_STRING = 'rgba(0, 0, 0, 0)'\n",
    "NA_string='Not Specified'\n",
    "ROLE_COLS = ['DevType']\n",
    "TECH_COLS = ['LanguageHaveWorkedWith',\n",
    "             'DatabaseHaveWorkedWith',\n",
    "             'PlatformHaveWorkedWith',\n",
    "             'WebframeHaveWorkedWith', \n",
    "             'MiscTechHaveWorkedWith', \n",
    "             'ToolsTechHaveWorkedWith', \n",
    "             'NEWCollabToolsHaveWorkedWith']"
   ]
  },
  {
   "cell_type": "code",
   "execution_count": 174,
   "id": "e94dbe70",
   "metadata": {},
   "outputs": [],
   "source": [
    "#Load pachages\n",
    "import pandas as pd\n",
    "import numpy as np\n",
    "import logging\n",
    "import pickle\n",
    "from sklearn.preprocessing import StandardScaler\n",
    "from sklearn.preprocessing import MultiLabelBinarizer\n",
    "from sklearn.manifold import TSNE\n",
    "from sklearn.model_selection import train_test_split\n",
    "from sklearn.cluster import AgglomerativeClustering\n",
    "from sklearn.metrics import silhouette_score\n",
    "\n",
    "\n",
    "import plotly.express as px\n",
    "import os\n",
    "import yaml\n",
    "import seaborn as sns\n",
    "import plotly.graph_objects as go\n",
    "import matplotlib.pyplot as plt"
   ]
  },
  {
   "cell_type": "markdown",
   "id": "a3d4d42f",
   "metadata": {},
   "source": [
    "## Read data and preprocess data\n"
   ]
  },
  {
   "cell_type": "markdown",
   "id": "469e09d0",
   "metadata": {},
   "source": [
    "<br>"
   ]
  },
  {
   "cell_type": "code",
   "execution_count": 175,
   "id": "eadde46f",
   "metadata": {},
   "outputs": [],
   "source": [
    "processed_df = pd.read_pickle(DATA_PATH)"
   ]
  },
  {
   "cell_type": "code",
   "execution_count": 176,
   "id": "087c744d",
   "metadata": {},
   "outputs": [
    {
     "data": {
      "text/html": [
       "<div>\n",
       "<style scoped>\n",
       "    .dataframe tbody tr th:only-of-type {\n",
       "        vertical-align: middle;\n",
       "    }\n",
       "\n",
       "    .dataframe tbody tr th {\n",
       "        vertical-align: top;\n",
       "    }\n",
       "\n",
       "    .dataframe thead tr th {\n",
       "        text-align: left;\n",
       "    }\n",
       "</style>\n",
       "<table border=\"1\" class=\"dataframe\">\n",
       "  <thead>\n",
       "    <tr>\n",
       "      <th></th>\n",
       "      <th colspan=\"10\" halign=\"left\">DevType</th>\n",
       "      <th>...</th>\n",
       "      <th colspan=\"10\" halign=\"left\">NEWCollabToolsHaveWorkedWith</th>\n",
       "    </tr>\n",
       "    <tr>\n",
       "      <th></th>\n",
       "      <th>Academic researcher</th>\n",
       "      <th>Data or business analyst</th>\n",
       "      <th>Data scientist or machine learning specialist</th>\n",
       "      <th>Database administrator</th>\n",
       "      <th>Designer</th>\n",
       "      <th>DevOps specialist</th>\n",
       "      <th>Developer, QA or test</th>\n",
       "      <th>Developer, back-end</th>\n",
       "      <th>Developer, desktop or enterprise applications</th>\n",
       "      <th>Developer, embedded applications or devices</th>\n",
       "      <th>...</th>\n",
       "      <th>RStudio</th>\n",
       "      <th>Rider</th>\n",
       "      <th>RubyMine</th>\n",
       "      <th>Sublime Text</th>\n",
       "      <th>TextMate</th>\n",
       "      <th>Vim</th>\n",
       "      <th>Visual Studio</th>\n",
       "      <th>Visual Studio Code</th>\n",
       "      <th>Webstorm</th>\n",
       "      <th>Xcode</th>\n",
       "    </tr>\n",
       "  </thead>\n",
       "  <tbody>\n",
       "    <tr>\n",
       "      <th>0</th>\n",
       "      <td>0</td>\n",
       "      <td>0</td>\n",
       "      <td>0</td>\n",
       "      <td>0</td>\n",
       "      <td>0</td>\n",
       "      <td>0</td>\n",
       "      <td>0</td>\n",
       "      <td>0</td>\n",
       "      <td>0</td>\n",
       "      <td>0</td>\n",
       "      <td>...</td>\n",
       "      <td>0</td>\n",
       "      <td>0</td>\n",
       "      <td>0</td>\n",
       "      <td>0</td>\n",
       "      <td>0</td>\n",
       "      <td>0</td>\n",
       "      <td>0</td>\n",
       "      <td>0</td>\n",
       "      <td>0</td>\n",
       "      <td>1</td>\n",
       "    </tr>\n",
       "    <tr>\n",
       "      <th>1</th>\n",
       "      <td>0</td>\n",
       "      <td>0</td>\n",
       "      <td>0</td>\n",
       "      <td>0</td>\n",
       "      <td>0</td>\n",
       "      <td>0</td>\n",
       "      <td>0</td>\n",
       "      <td>0</td>\n",
       "      <td>0</td>\n",
       "      <td>0</td>\n",
       "      <td>...</td>\n",
       "      <td>0</td>\n",
       "      <td>0</td>\n",
       "      <td>0</td>\n",
       "      <td>0</td>\n",
       "      <td>0</td>\n",
       "      <td>0</td>\n",
       "      <td>0</td>\n",
       "      <td>0</td>\n",
       "      <td>0</td>\n",
       "      <td>0</td>\n",
       "    </tr>\n",
       "    <tr>\n",
       "      <th>2</th>\n",
       "      <td>0</td>\n",
       "      <td>0</td>\n",
       "      <td>0</td>\n",
       "      <td>0</td>\n",
       "      <td>0</td>\n",
       "      <td>0</td>\n",
       "      <td>0</td>\n",
       "      <td>0</td>\n",
       "      <td>0</td>\n",
       "      <td>0</td>\n",
       "      <td>...</td>\n",
       "      <td>1</td>\n",
       "      <td>0</td>\n",
       "      <td>0</td>\n",
       "      <td>1</td>\n",
       "      <td>0</td>\n",
       "      <td>0</td>\n",
       "      <td>0</td>\n",
       "      <td>1</td>\n",
       "      <td>0</td>\n",
       "      <td>0</td>\n",
       "    </tr>\n",
       "    <tr>\n",
       "      <th>3</th>\n",
       "      <td>0</td>\n",
       "      <td>0</td>\n",
       "      <td>0</td>\n",
       "      <td>0</td>\n",
       "      <td>0</td>\n",
       "      <td>0</td>\n",
       "      <td>0</td>\n",
       "      <td>0</td>\n",
       "      <td>0</td>\n",
       "      <td>0</td>\n",
       "      <td>...</td>\n",
       "      <td>0</td>\n",
       "      <td>0</td>\n",
       "      <td>0</td>\n",
       "      <td>0</td>\n",
       "      <td>0</td>\n",
       "      <td>0</td>\n",
       "      <td>0</td>\n",
       "      <td>0</td>\n",
       "      <td>0</td>\n",
       "      <td>0</td>\n",
       "    </tr>\n",
       "    <tr>\n",
       "      <th>4</th>\n",
       "      <td>0</td>\n",
       "      <td>0</td>\n",
       "      <td>0</td>\n",
       "      <td>0</td>\n",
       "      <td>0</td>\n",
       "      <td>0</td>\n",
       "      <td>0</td>\n",
       "      <td>0</td>\n",
       "      <td>1</td>\n",
       "      <td>0</td>\n",
       "      <td>...</td>\n",
       "      <td>0</td>\n",
       "      <td>0</td>\n",
       "      <td>0</td>\n",
       "      <td>0</td>\n",
       "      <td>0</td>\n",
       "      <td>1</td>\n",
       "      <td>0</td>\n",
       "      <td>0</td>\n",
       "      <td>0</td>\n",
       "      <td>0</td>\n",
       "    </tr>\n",
       "  </tbody>\n",
       "</table>\n",
       "<p>5 rows × 150 columns</p>\n",
       "</div>"
      ],
      "text/plain": [
       "              DevType                           \\\n",
       "  Academic researcher Data or business analyst   \n",
       "0                   0                        0   \n",
       "1                   0                        0   \n",
       "2                   0                        0   \n",
       "3                   0                        0   \n",
       "4                   0                        0   \n",
       "\n",
       "                                                                        \\\n",
       "  Data scientist or machine learning specialist Database administrator   \n",
       "0                                             0                      0   \n",
       "1                                             0                      0   \n",
       "2                                             0                      0   \n",
       "3                                             0                      0   \n",
       "4                                             0                      0   \n",
       "\n",
       "                                                                        \\\n",
       "  Designer DevOps specialist Developer, QA or test Developer, back-end   \n",
       "0        0                 0                     0                   0   \n",
       "1        0                 0                     0                   0   \n",
       "2        0                 0                     0                   0   \n",
       "3        0                 0                     0                   0   \n",
       "4        0                 0                     0                   0   \n",
       "\n",
       "                                                 \\\n",
       "  Developer, desktop or enterprise applications   \n",
       "0                                             0   \n",
       "1                                             0   \n",
       "2                                             0   \n",
       "3                                             0   \n",
       "4                                             1   \n",
       "\n",
       "                                               ...  \\\n",
       "  Developer, embedded applications or devices  ...   \n",
       "0                                           0  ...   \n",
       "1                                           0  ...   \n",
       "2                                           0  ...   \n",
       "3                                           0  ...   \n",
       "4                                           0  ...   \n",
       "\n",
       "  NEWCollabToolsHaveWorkedWith                                           \\\n",
       "                       RStudio Rider RubyMine Sublime Text TextMate Vim   \n",
       "0                            0     0        0            0        0   0   \n",
       "1                            0     0        0            0        0   0   \n",
       "2                            1     0        0            1        0   0   \n",
       "3                            0     0        0            0        0   0   \n",
       "4                            0     0        0            0        0   1   \n",
       "\n",
       "                                                   \n",
       "  Visual Studio Visual Studio Code Webstorm Xcode  \n",
       "0             0                  0        0     1  \n",
       "1             0                  0        0     0  \n",
       "2             0                  1        0     0  \n",
       "3             0                  0        0     0  \n",
       "4             0                  0        0     0  \n",
       "\n",
       "[5 rows x 150 columns]"
      ]
     },
     "execution_count": 176,
     "metadata": {},
     "output_type": "execute_result"
    }
   ],
   "source": [
    "#Onehot encode\n",
    "df=processed_df.copy()\n",
    "encoded_dfs={}\n",
    "for col in ROLE_COLS+TECH_COLS:\n",
    "    Binarizer = MultiLabelBinarizer()\n",
    "    encoded_df=pd.DataFrame(Binarizer.fit_transform(df[col]),\n",
    "                            columns=Binarizer.classes_,\n",
    "                           index=df[col].index)\n",
    "\n",
    "    encoded_dfs[col]=encoded_df\n",
    "df = pd.concat(encoded_dfs, axis=1)    \n",
    "df.head()"
   ]
  },
  {
   "cell_type": "markdown",
   "id": "e61d0265",
   "metadata": {},
   "source": [
    "<br>"
   ]
  },
  {
   "cell_type": "markdown",
   "id": "67428a5d",
   "metadata": {},
   "source": [
    "## Dimensionality reduction"
   ]
  },
  {
   "cell_type": "markdown",
   "id": "e4012ef9",
   "metadata": {},
   "source": [
    "t-SNE a non-linear dimensionality reduction algorithm finds patterns in the data by identifying observed clusters based on similarity of data points with multiple features. But it is not a clustering algorithm it is a dimensionality reduction algorithm. This is because it maps the multi-dimensional data to a lower dimensional space, the input features are no longer identifiable. Thus you cannot make any inference based only on the output of t-SNE. So essentially it is mainly a data exploration and visualization technique."
   ]
  },
  {
   "attachments": {
    "tsne2.png": {
     "image/png": "[encoded data removed]"
    }
   },
   "cell_type": "markdown",
   "id": "bbb6d29e",
   "metadata": {},
   "source": [
    "![tsne2.png](attachment:tsne2.png)"
   ]
  },
  {
   "cell_type": "markdown",
   "id": "0e004c33",
   "metadata": {},
   "source": [
    "<br>"
   ]
  },
  {
   "cell_type": "code",
   "execution_count": 177,
   "id": "7de9fa2d",
   "metadata": {},
   "outputs": [],
   "source": [
    "#prepare sub dataframe\n",
    "skills=df.drop('DevType', axis=1).copy()\n",
    "std_skills=StandardScaler().fit_transform(skills)"
   ]
  },
  {
   "cell_type": "code",
   "execution_count": 178,
   "id": "5f1a5526",
   "metadata": {},
   "outputs": [],
   "source": [
    "tsne_projection = TSNE(n_components=2, \n",
    "                       perplexity=3,\n",
    "                       learning_rate=0.01,\n",
    "                       init='pca', \n",
    "                       method='barnes_hut', \n",
    "                       n_jobs=2, \n",
    "                       n_iter=10**10,\n",
    "                       random_state=0).fit_transform(std_skills.T)"
   ]
  },
  {
   "cell_type": "code",
   "execution_count": 179,
   "id": "b0d5ae94",
   "metadata": {},
   "outputs": [
    {
     "data": {
      "text/plain": [
       "(125, 2)"
      ]
     },
     "execution_count": 179,
     "metadata": {},
     "output_type": "execute_result"
    }
   ],
   "source": [
    "tsne_projection = pd.DataFrame(tsne_projection, index=skills.columns)\n",
    "tsne_projection.shape"
   ]
  },
  {
   "cell_type": "code",
   "execution_count": 180,
   "id": "2d14ec14",
   "metadata": {},
   "outputs": [
    {
     "data": {
      "application/vnd.plotly.v1+json": {
       "config": {
        "plotlyServerURL": "https://plot.ly"
       },
       "data": [
        {
         "hovertemplate": "x=%{x}<br>y=%{y}<br>text=%{text}<extra></extra>",
         "legendgroup": "",
         "marker": {
          "color": "#636efa",
          "symbol": "circle"
         },
         "mode": "markers+text",
         "name": "",
         "orientation": "v",
         "showlegend": false,
         "text": [
          "APL",
          "Assembly",
          "Bash/Shell",
          "C",
          "C#",
          "C++",
          "COBOL",
          "Clojure",
          "Crystal",
          "Dart",
          "Delphi",
          "Elixir",
          "Erlang",
          "F#",
          "Go",
          "Groovy",
          "HTML/CSS",
          "Haskell",
          "Java",
          "JavaScript",
          "Julia",
          "Kotlin",
          "LISP",
          "Matlab",
          "Node.js",
          "Objective-C",
          "PHP",
          "Perl",
          "PowerShell",
          "Python",
          "R",
          "Ruby",
          "Rust",
          "SQL",
          "Scala",
          "Swift",
          "TypeScript",
          "VBA",
          "Cassandra",
          "Couchbase",
          "DynamoDB",
          "Elasticsearch",
          "Firebase",
          "IBM DB2",
          "MariaDB",
          "Microsoft SQL Server",
          "MongoDB",
          "MySQL",
          "Oracle",
          "PostgreSQL",
          "Redis",
          "SQLite",
          "AWS",
          "DigitalOcean",
          "Google Cloud Platform",
          "Heroku",
          "IBM Cloud or Watson",
          "Microsoft Azure",
          "Oracle Cloud Infrastructure",
          "ASP.NET",
          "ASP.NET Core ",
          "Angular",
          "Angular.js",
          "Django",
          "Drupal",
          "Express",
          "FastAPI",
          "Flask",
          "Gatsby",
          "Laravel",
          "React.js",
          "Ruby on Rails",
          "Spring",
          "Svelte",
          "Symfony",
          "Vue.js",
          "jQuery",
          ".NET Core / .NET 5",
          ".NET Framework",
          "Apache Spark",
          "Cordova",
          "Flutter",
          "Hadoop",
          "Keras",
          "NumPy",
          "Pandas",
          "Qt",
          "React Native",
          "TensorFlow",
          "Torch/PyTorch",
          "Ansible",
          "Chef",
          "Deno",
          "Docker",
          "Flow",
          "Git",
          "Kubernetes",
          "Pulumi",
          "Puppet",
          "Terraform",
          "Unity 3D",
          "Unreal Engine",
          "Xamarin",
          "Yarn",
          "Android Studio",
          "Atom",
          "Eclipse",
          "Emacs",
          "IPython/Jupyter",
          "IntelliJ",
          "Neovim",
          "NetBeans",
          "Notepad++",
          "PHPStorm",
          "PyCharm",
          "RStudio",
          "Rider",
          "RubyMine",
          "Sublime Text",
          "TextMate",
          "Vim",
          "Visual Studio",
          "Visual Studio Code",
          "Webstorm",
          "Xcode"
         ],
         "textposition": "top center",
         "type": "scatter",
         "x": [
          4.605247974395752,
          -61.94532775878906,
          -104.63541412353516,
          -63.02702713012695,
          129.82489013671875,
          -63.01929473876953,
          0.5187837481498718,
          -55.25922775268555,
          -1.2271349430084229,
          28.918359756469727,
          -5.149548053741455,
          -34.98728561401367,
          -36.18221664428711,
          135.8561553955078,
          -38.328922271728516,
          2.394066095352173,
          41.23966979980469,
          -73.31800079345703,
          10.203278541564941,
          38.3225212097168,
          -84.78345489501953,
          23.756025314331055,
          -57.99916458129883,
          -83.53423309326172,
          18.422693252563477,
          53.01066207885742,
          54.698997497558594,
          -105.9701156616211,
          143.88778686523438,
          -94.27690887451172,
          -80.55612182617188,
          -28.379501342773438,
          -101.11397552490234,
          63.589534759521484,
          -64.30867004394531,
          51.59822082519531,
          38.62073516845703,
          120.49776458740234,
          -64.52342224121094,
          -68.43050384521484,
          -42.3079719543457,
          -58.82160949707031,
          18.30866050720215,
          2.2118587493896484,
          60.151344299316406,
          124.76399993896484,
          16.861572265625,
          56.81448745727539,
          7.785147190093994,
          -48.37139892578125,
          -57.882568359375,
          31.546363830566406,
          -43.6322135925293,
          -60.297515869140625,
          15.419944763183594,
          23.506885528564453,
          4.209980010986328,
          141.0408935546875,
          6.632806777954102,
          123.58331298828125,
          130.3687744140625,
          40.93303298950195,
          40.679473876953125,
          -97.38052368164062,
          60.80048370361328,
          19.362592697143555,
          -89.63235473632812,
          -92.34335327148438,
          9.135313987731934,
          51.065338134765625,
          12.791500091552734,
          -27.206178665161133,
          7.15752649307251,
          -9.906405448913574,
          57.16162872314453,
          46.01301193237305,
          47.27386474609375,
          133.3608856201172,
          126.55963134765625,
          -67.33372497558594,
          46.08541488647461,
          27.463281631469727,
          -70.04405975341797,
          -101.30652618408203,
          -89.63439178466797,
          -91.88602447509766,
          -62.660465240478516,
          8.925209045410156,
          -100.6083755493164,
          -99.93009948730469,
          -31.17186164855957,
          -27.58969497680664,
          -12.82861328125,
          -44.28997802734375,
          -22.66876983642578,
          -47.33642578125,
          -40.80936050415039,
          -29.28527069091797,
          -27.792865753173828,
          -34.73772430419922,
          107.8050308227539,
          105.5002212524414,
          136.60952758789062,
          15.73294734954834,
          25.711156845092773,
          9.44926929473877,
          11.992867469787598,
          -56.767059326171875,
          -89.633056640625,
          12.480234146118164,
          -102.04076385498047,
          15.347679138183594,
          125.27837371826172,
          53.20817565917969,
          -98.24484252929688,
          -77.85340881347656,
          136.33734130859375,
          -22.767637252807617,
          9.79695987701416,
          -17.895118713378906,
          -104.05915832519531,
          127.31640625,
          33.60443115234375,
          48.964176177978516,
          48.642417907714844
         ],
         "xaxis": "x",
         "y": [
          54.94388961791992,
          74.07750701904297,
          -11.482795715332031,
          78.1003189086914,
          59.023319244384766,
          81.10063171386719,
          51.26830291748047,
          36.016845703125,
          56.20531463623047,
          -27.389577865600586,
          50.1992301940918,
          23.395814895629883,
          25.992515563964844,
          42.32773971557617,
          -54.90530014038086,
          22.095014572143555,
          -80.60317993164062,
          24.117341995239258,
          19.761491775512695,
          -81.18656158447266,
          114.3995361328125,
          -15.1431303024292,
          42.11283493041992,
          88.23621368408203,
          -90.53348541259766,
          -4.166146278381348,
          -60.57147216796875,
          -7.067653656005859,
          52.26565170288086,
          82.6126937866211,
          112.51676177978516,
          -15.193392753601074,
          -27.440874099731445,
          -71.69779968261719,
          -25.947772979736328,
          -7.742301940917969,
          -100.34809112548828,
          45.07264709472656,
          -40.66146469116211,
          -42.67165756225586,
          -42.88242721557617,
          -48.052860260009766,
          -23.860971450805664,
          47.7242431640625,
          -60.2151985168457,
          47.636207580566406,
          -97.50313568115234,
          -65.26510620117188,
          30.696443557739258,
          -55.58246612548828,
          -51.33025360107422,
          -15.93624210357666,
          -45.744083404541016,
          -55.74540710449219,
          -25.451854705810547,
          -96.27494812011719,
          43.565670013427734,
          63.86627960205078,
          37.08159637451172,
          53.96007537841797,
          51.128273010253906,
          -102.86670684814453,
          -107.11417388916016,
          76.99868774414062,
          -48.76858901977539,
          -93.56022644042969,
          73.6745376586914,
          77.46163177490234,
          -89.57795715332031,
          -60.574798583984375,
          -86.00729370117188,
          -12.588985443115234,
          23.12928581237793,
          -74.19110870361328,
          -51.75435256958008,
          -62.35911178588867,
          -73.9605712890625,
          52.74232864379883,
          57.315773010253906,
          -28.611770629882812,
          -102.7287368774414,
          -24.86968994140625,
          -29.727855682373047,
          98.75511932373047,
          89.0306396484375,
          90.96887969970703,
          85.46942138671875,
          -82.53276824951172,
          101.69210052490234,
          105.75205993652344,
          -60.33449172973633,
          -76.32145690917969,
          -73.87173461914062,
          -58.67891311645508,
          -73.02484130859375,
          -63.462646484375,
          -59.16596603393555,
          -68.12059020996094,
          -79.25482940673828,
          -62.66012954711914,
          78.72840881347656,
          80.49309539794922,
          56.70582580566406,
          -82.38359069824219,
          -18.17755889892578,
          7.180760860443115,
          13.712848663330078,
          39.052303314208984,
          95.11521911621094,
          21.90711212158203,
          -24.569551467895508,
          11.627828598022461,
          68.5424575805664,
          -55.00802993774414,
          84.33616638183594,
          111.34244537353516,
          48.08635330200195,
          -14.963736534118652,
          3.546215295791626,
          -15.959558486938477,
          -14.383781433105469,
          64.11351013183594,
          -83.80855560302734,
          -51.170143127441406,
          -8.271013259887695
         ],
         "yaxis": "y"
        }
       ],
       "layout": {
        "height": 1000,
        "legend": {
         "tracegroupgap": 0
        },
        "margin": {
         "t": 60
        },
        "template": {
         "data": {
          "bar": [
           {
            "error_x": {
             "color": "#2a3f5f"
            },
            "error_y": {
             "color": "#2a3f5f"
            },
            "marker": {
             "line": {
              "color": "#E5ECF6",
              "width": 0.5
             },
             "pattern": {
              "fillmode": "overlay",
              "size": 10,
              "solidity": 0.2
             }
            },
            "type": "bar"
           }
          ],
          "barpolar": [
           {
            "marker": {
             "line": {
              "color": "#E5ECF6",
              "width": 0.5
             },
             "pattern": {
              "fillmode": "overlay",
              "size": 10,
              "solidity": 0.2
             }
            },
            "type": "barpolar"
           }
          ],
          "carpet": [
           {
            "aaxis": {
             "endlinecolor": "#2a3f5f",
             "gridcolor": "white",
             "linecolor": "white",
             "minorgridcolor": "white",
             "startlinecolor": "#2a3f5f"
            },
            "baxis": {
             "endlinecolor": "#2a3f5f",
             "gridcolor": "white",
             "linecolor": "white",
             "minorgridcolor": "white",
             "startlinecolor": "#2a3f5f"
            },
            "type": "carpet"
           }
          ],
          "choropleth": [
           {
            "colorbar": {
             "outlinewidth": 0,
             "ticks": ""
            },
            "type": "choropleth"
           }
          ],
          "contour": [
           {
            "colorbar": {
             "outlinewidth": 0,
             "ticks": ""
            },
            "colorscale": [
             [
              0,
              "#0d0887"
             ],
             [
              0.1111111111111111,
              "#46039f"
             ],
             [
              0.2222222222222222,
              "#7201a8"
             ],
             [
              0.3333333333333333,
              "#9c179e"
             ],
             [
              0.4444444444444444,
              "#bd3786"
             ],
             [
              0.5555555555555556,
              "#d8576b"
             ],
             [
              0.6666666666666666,
              "#ed7953"
             ],
             [
              0.7777777777777778,
              "#fb9f3a"
             ],
             [
              0.8888888888888888,
              "#fdca26"
             ],
             [
              1,
              "#f0f921"
             ]
            ],
            "type": "contour"
           }
          ],
          "contourcarpet": [
           {
            "colorbar": {
             "outlinewidth": 0,
             "ticks": ""
            },
            "type": "contourcarpet"
           }
          ],
          "heatmap": [
           {
            "colorbar": {
             "outlinewidth": 0,
             "ticks": ""
            },
            "colorscale": [
             [
              0,
              "#0d0887"
             ],
             [
              0.1111111111111111,
              "#46039f"
             ],
             [
              0.2222222222222222,
              "#7201a8"
             ],
             [
              0.3333333333333333,
              "#9c179e"
             ],
             [
              0.4444444444444444,
              "#bd3786"
             ],
             [
              0.5555555555555556,
              "#d8576b"
             ],
             [
              0.6666666666666666,
              "#ed7953"
             ],
             [
              0.7777777777777778,
              "#fb9f3a"
             ],
             [
              0.8888888888888888,
              "#fdca26"
             ],
             [
              1,
              "#f0f921"
             ]
            ],
            "type": "heatmap"
           }
          ],
          "heatmapgl": [
           {
            "colorbar": {
             "outlinewidth": 0,
             "ticks": ""
            },
            "colorscale": [
             [
              0,
              "#0d0887"
             ],
             [
              0.1111111111111111,
              "#46039f"
             ],
             [
              0.2222222222222222,
              "#7201a8"
             ],
             [
              0.3333333333333333,
              "#9c179e"
             ],
             [
              0.4444444444444444,
              "#bd3786"
             ],
             [
              0.5555555555555556,
              "#d8576b"
             ],
             [
              0.6666666666666666,
              "#ed7953"
             ],
             [
              0.7777777777777778,
              "#fb9f3a"
             ],
             [
              0.8888888888888888,
              "#fdca26"
             ],
             [
              1,
              "#f0f921"
             ]
            ],
            "type": "heatmapgl"
           }
          ],
          "histogram": [
           {
            "marker": {
             "pattern": {
              "fillmode": "overlay",
              "size": 10,
              "solidity": 0.2
             }
            },
            "type": "histogram"
           }
          ],
          "histogram2d": [
           {
            "colorbar": {
             "outlinewidth": 0,
             "ticks": ""
            },
            "colorscale": [
             [
              0,
              "#0d0887"
             ],
             [
              0.1111111111111111,
              "#46039f"
             ],
             [
              0.2222222222222222,
              "#7201a8"
             ],
             [
              0.3333333333333333,
              "#9c179e"
             ],
             [
              0.4444444444444444,
              "#bd3786"
             ],
             [
              0.5555555555555556,
              "#d8576b"
             ],
             [
              0.6666666666666666,
              "#ed7953"
             ],
             [
              0.7777777777777778,
              "#fb9f3a"
             ],
             [
              0.8888888888888888,
              "#fdca26"
             ],
             [
              1,
              "#f0f921"
             ]
            ],
            "type": "histogram2d"
           }
          ],
          "histogram2dcontour": [
           {
            "colorbar": {
             "outlinewidth": 0,
             "ticks": ""
            },
            "colorscale": [
             [
              0,
              "#0d0887"
             ],
             [
              0.1111111111111111,
              "#46039f"
             ],
             [
              0.2222222222222222,
              "#7201a8"
             ],
             [
              0.3333333333333333,
              "#9c179e"
             ],
             [
              0.4444444444444444,
              "#bd3786"
             ],
             [
              0.5555555555555556,
              "#d8576b"
             ],
             [
              0.6666666666666666,
              "#ed7953"
             ],
             [
              0.7777777777777778,
              "#fb9f3a"
             ],
             [
              0.8888888888888888,
              "#fdca26"
             ],
             [
              1,
              "#f0f921"
             ]
            ],
            "type": "histogram2dcontour"
           }
          ],
          "mesh3d": [
           {
            "colorbar": {
             "outlinewidth": 0,
             "ticks": ""
            },
            "type": "mesh3d"
           }
          ],
          "parcoords": [
           {
            "line": {
             "colorbar": {
              "outlinewidth": 0,
              "ticks": ""
             }
            },
            "type": "parcoords"
           }
          ],
          "pie": [
           {
            "automargin": true,
            "type": "pie"
           }
          ],
          "scatter": [
           {
            "marker": {
             "colorbar": {
              "outlinewidth": 0,
              "ticks": ""
             }
            },
            "type": "scatter"
           }
          ],
          "scatter3d": [
           {
            "line": {
             "colorbar": {
              "outlinewidth": 0,
              "ticks": ""
             }
            },
            "marker": {
             "colorbar": {
              "outlinewidth": 0,
              "ticks": ""
             }
            },
            "type": "scatter3d"
           }
          ],
          "scattercarpet": [
           {
            "marker": {
             "colorbar": {
              "outlinewidth": 0,
              "ticks": ""
             }
            },
            "type": "scattercarpet"
           }
          ],
          "scattergeo": [
           {
            "marker": {
             "colorbar": {
              "outlinewidth": 0,
              "ticks": ""
             }
            },
            "type": "scattergeo"
           }
          ],
          "scattergl": [
           {
            "marker": {
             "colorbar": {
              "outlinewidth": 0,
              "ticks": ""
             }
            },
            "type": "scattergl"
           }
          ],
          "scattermapbox": [
           {
            "marker": {
             "colorbar": {
              "outlinewidth": 0,
              "ticks": ""
             }
            },
            "type": "scattermapbox"
           }
          ],
          "scatterpolar": [
           {
            "marker": {
             "colorbar": {
              "outlinewidth": 0,
              "ticks": ""
             }
            },
            "type": "scatterpolar"
           }
          ],
          "scatterpolargl": [
           {
            "marker": {
             "colorbar": {
              "outlinewidth": 0,
              "ticks": ""
             }
            },
            "type": "scatterpolargl"
           }
          ],
          "scatterternary": [
           {
            "marker": {
             "colorbar": {
              "outlinewidth": 0,
              "ticks": ""
             }
            },
            "type": "scatterternary"
           }
          ],
          "surface": [
           {
            "colorbar": {
             "outlinewidth": 0,
             "ticks": ""
            },
            "colorscale": [
             [
              0,
              "#0d0887"
             ],
             [
              0.1111111111111111,
              "#46039f"
             ],
             [
              0.2222222222222222,
              "#7201a8"
             ],
             [
              0.3333333333333333,
              "#9c179e"
             ],
             [
              0.4444444444444444,
              "#bd3786"
             ],
             [
              0.5555555555555556,
              "#d8576b"
             ],
             [
              0.6666666666666666,
              "#ed7953"
             ],
             [
              0.7777777777777778,
              "#fb9f3a"
             ],
             [
              0.8888888888888888,
              "#fdca26"
             ],
             [
              1,
              "#f0f921"
             ]
            ],
            "type": "surface"
           }
          ],
          "table": [
           {
            "cells": {
             "fill": {
              "color": "#EBF0F8"
             },
             "line": {
              "color": "white"
             }
            },
            "header": {
             "fill": {
              "color": "#C8D4E3"
             },
             "line": {
              "color": "white"
             }
            },
            "type": "table"
           }
          ]
         },
         "layout": {
          "annotationdefaults": {
           "arrowcolor": "#2a3f5f",
           "arrowhead": 0,
           "arrowwidth": 1
          },
          "autotypenumbers": "strict",
          "coloraxis": {
           "colorbar": {
            "outlinewidth": 0,
            "ticks": ""
           }
          },
          "colorscale": {
           "diverging": [
            [
             0,
             "#8e0152"
            ],
            [
             0.1,
             "#c51b7d"
            ],
            [
             0.2,
             "#de77ae"
            ],
            [
             0.3,
             "#f1b6da"
            ],
            [
             0.4,
             "#fde0ef"
            ],
            [
             0.5,
             "#f7f7f7"
            ],
            [
             0.6,
             "#e6f5d0"
            ],
            [
             0.7,
             "#b8e186"
            ],
            [
             0.8,
             "#7fbc41"
            ],
            [
             0.9,
             "#4d9221"
            ],
            [
             1,
             "#276419"
            ]
           ],
           "sequential": [
            [
             0,
             "#0d0887"
            ],
            [
             0.1111111111111111,
             "#46039f"
            ],
            [
             0.2222222222222222,
             "#7201a8"
            ],
            [
             0.3333333333333333,
             "#9c179e"
            ],
            [
             0.4444444444444444,
             "#bd3786"
            ],
            [
             0.5555555555555556,
             "#d8576b"
            ],
            [
             0.6666666666666666,
             "#ed7953"
            ],
            [
             0.7777777777777778,
             "#fb9f3a"
            ],
            [
             0.8888888888888888,
             "#fdca26"
            ],
            [
             1,
             "#f0f921"
            ]
           ],
           "sequentialminus": [
            [
             0,
             "#0d0887"
            ],
            [
             0.1111111111111111,
             "#46039f"
            ],
            [
             0.2222222222222222,
             "#7201a8"
            ],
            [
             0.3333333333333333,
             "#9c179e"
            ],
            [
             0.4444444444444444,
             "#bd3786"
            ],
            [
             0.5555555555555556,
             "#d8576b"
            ],
            [
             0.6666666666666666,
             "#ed7953"
            ],
            [
             0.7777777777777778,
             "#fb9f3a"
            ],
            [
             0.8888888888888888,
             "#fdca26"
            ],
            [
             1,
             "#f0f921"
            ]
           ]
          },
          "colorway": [
           "#636efa",
           "#EF553B",
           "#00cc96",
           "#ab63fa",
           "#FFA15A",
           "#19d3f3",
           "#FF6692",
           "#B6E880",
           "#FF97FF",
           "#FECB52"
          ],
          "font": {
           "color": "#2a3f5f"
          },
          "geo": {
           "bgcolor": "white",
           "lakecolor": "white",
           "landcolor": "#E5ECF6",
           "showlakes": true,
           "showland": true,
           "subunitcolor": "white"
          },
          "hoverlabel": {
           "align": "left"
          },
          "hovermode": "closest",
          "mapbox": {
           "style": "light"
          },
          "paper_bgcolor": "white",
          "plot_bgcolor": "#E5ECF6",
          "polar": {
           "angularaxis": {
            "gridcolor": "white",
            "linecolor": "white",
            "ticks": ""
           },
           "bgcolor": "#E5ECF6",
           "radialaxis": {
            "gridcolor": "white",
            "linecolor": "white",
            "ticks": ""
           }
          },
          "scene": {
           "xaxis": {
            "backgroundcolor": "#E5ECF6",
            "gridcolor": "white",
            "gridwidth": 2,
            "linecolor": "white",
            "showbackground": true,
            "ticks": "",
            "zerolinecolor": "white"
           },
           "yaxis": {
            "backgroundcolor": "#E5ECF6",
            "gridcolor": "white",
            "gridwidth": 2,
            "linecolor": "white",
            "showbackground": true,
            "ticks": "",
            "zerolinecolor": "white"
           },
           "zaxis": {
            "backgroundcolor": "#E5ECF6",
            "gridcolor": "white",
            "gridwidth": 2,
            "linecolor": "white",
            "showbackground": true,
            "ticks": "",
            "zerolinecolor": "white"
           }
          },
          "shapedefaults": {
           "line": {
            "color": "#2a3f5f"
           }
          },
          "ternary": {
           "aaxis": {
            "gridcolor": "white",
            "linecolor": "white",
            "ticks": ""
           },
           "baxis": {
            "gridcolor": "white",
            "linecolor": "white",
            "ticks": ""
           },
           "bgcolor": "#E5ECF6",
           "caxis": {
            "gridcolor": "white",
            "linecolor": "white",
            "ticks": ""
           }
          },
          "title": {
           "x": 0.05
          },
          "xaxis": {
           "automargin": true,
           "gridcolor": "white",
           "linecolor": "white",
           "ticks": "",
           "title": {
            "standoff": 15
           },
           "zerolinecolor": "white",
           "zerolinewidth": 2
          },
          "yaxis": {
           "automargin": true,
           "gridcolor": "white",
           "linecolor": "white",
           "ticks": "",
           "title": {
            "standoff": 15
           },
           "zerolinecolor": "white",
           "zerolinewidth": 2
          }
         }
        },
        "title": {
         "text": "TSNE"
        },
        "width": 1000,
        "xaxis": {
         "anchor": "y",
         "domain": [
          0,
          1
         ],
         "title": {
          "text": "x"
         }
        },
        "yaxis": {
         "anchor": "x",
         "domain": [
          0,
          1
         ],
         "title": {
          "text": "y"
         }
        }
       }
      },
      "text/html": [
       "<div>                            <div id=\"f2ef65be-3743-46f5-8e80-01891c5979ca\" class=\"plotly-graph-div\" style=\"height:1000px; width:1000px;\"></div>            <script type=\"text/javascript\">                require([\"plotly\"], function(Plotly) {                    window.PLOTLYENV=window.PLOTLYENV || {};                                    if (document.getElementById(\"f2ef65be-3743-46f5-8e80-01891c5979ca\")) {                    Plotly.newPlot(                        \"f2ef65be-3743-46f5-8e80-01891c5979ca\",                        [{\"hovertemplate\":\"x=%{x}<br>y=%{y}<br>text=%{text}<extra></extra>\",\"legendgroup\":\"\",\"marker\":{\"color\":\"#636efa\",\"symbol\":\"circle\"},\"mode\":\"markers+text\",\"name\":\"\",\"orientation\":\"v\",\"showlegend\":false,\"text\":[\"APL\",\"Assembly\",\"Bash/Shell\",\"C\",\"C#\",\"C++\",\"COBOL\",\"Clojure\",\"Crystal\",\"Dart\",\"Delphi\",\"Elixir\",\"Erlang\",\"F#\",\"Go\",\"Groovy\",\"HTML/CSS\",\"Haskell\",\"Java\",\"JavaScript\",\"Julia\",\"Kotlin\",\"LISP\",\"Matlab\",\"Node.js\",\"Objective-C\",\"PHP\",\"Perl\",\"PowerShell\",\"Python\",\"R\",\"Ruby\",\"Rust\",\"SQL\",\"Scala\",\"Swift\",\"TypeScript\",\"VBA\",\"Cassandra\",\"Couchbase\",\"DynamoDB\",\"Elasticsearch\",\"Firebase\",\"IBM DB2\",\"MariaDB\",\"Microsoft SQL Server\",\"MongoDB\",\"MySQL\",\"Oracle\",\"PostgreSQL\",\"Redis\",\"SQLite\",\"AWS\",\"DigitalOcean\",\"Google Cloud Platform\",\"Heroku\",\"IBM Cloud or Watson\",\"Microsoft Azure\",\"Oracle Cloud Infrastructure\",\"ASP.NET\",\"ASP.NET Core \",\"Angular\",\"Angular.js\",\"Django\",\"Drupal\",\"Express\",\"FastAPI\",\"Flask\",\"Gatsby\",\"Laravel\",\"React.js\",\"Ruby on Rails\",\"Spring\",\"Svelte\",\"Symfony\",\"Vue.js\",\"jQuery\",\".NET Core / .NET 5\",\".NET Framework\",\"Apache Spark\",\"Cordova\",\"Flutter\",\"Hadoop\",\"Keras\",\"NumPy\",\"Pandas\",\"Qt\",\"React Native\",\"TensorFlow\",\"Torch/PyTorch\",\"Ansible\",\"Chef\",\"Deno\",\"Docker\",\"Flow\",\"Git\",\"Kubernetes\",\"Pulumi\",\"Puppet\",\"Terraform\",\"Unity 3D\",\"Unreal Engine\",\"Xamarin\",\"Yarn\",\"Android Studio\",\"Atom\",\"Eclipse\",\"Emacs\",\"IPython/Jupyter\",\"IntelliJ\",\"Neovim\",\"NetBeans\",\"Notepad++\",\"PHPStorm\",\"PyCharm\",\"RStudio\",\"Rider\",\"RubyMine\",\"Sublime Text\",\"TextMate\",\"Vim\",\"Visual Studio\",\"Visual Studio Code\",\"Webstorm\",\"Xcode\"],\"textposition\":\"top center\",\"type\":\"scatter\",\"x\":[4.605247974395752,-61.94532775878906,-104.63541412353516,-63.02702713012695,129.82489013671875,-63.01929473876953,0.5187837481498718,-55.25922775268555,-1.2271349430084229,28.918359756469727,-5.149548053741455,-34.98728561401367,-36.18221664428711,135.8561553955078,-38.328922271728516,2.394066095352173,41.23966979980469,-73.31800079345703,10.203278541564941,38.3225212097168,-84.78345489501953,23.756025314331055,-57.99916458129883,-83.53423309326172,18.422693252563477,53.01066207885742,54.698997497558594,-105.9701156616211,143.88778686523438,-94.27690887451172,-80.55612182617188,-28.379501342773438,-101.11397552490234,63.589534759521484,-64.30867004394531,51.59822082519531,38.62073516845703,120.49776458740234,-64.52342224121094,-68.43050384521484,-42.3079719543457,-58.82160949707031,18.30866050720215,2.2118587493896484,60.151344299316406,124.76399993896484,16.861572265625,56.81448745727539,7.785147190093994,-48.37139892578125,-57.882568359375,31.546363830566406,-43.6322135925293,-60.297515869140625,15.419944763183594,23.506885528564453,4.209980010986328,141.0408935546875,6.632806777954102,123.58331298828125,130.3687744140625,40.93303298950195,40.679473876953125,-97.38052368164062,60.80048370361328,19.362592697143555,-89.63235473632812,-92.34335327148438,9.135313987731934,51.065338134765625,12.791500091552734,-27.206178665161133,7.15752649307251,-9.906405448913574,57.16162872314453,46.01301193237305,47.27386474609375,133.3608856201172,126.55963134765625,-67.33372497558594,46.08541488647461,27.463281631469727,-70.04405975341797,-101.30652618408203,-89.63439178466797,-91.88602447509766,-62.660465240478516,8.925209045410156,-100.6083755493164,-99.93009948730469,-31.17186164855957,-27.58969497680664,-12.82861328125,-44.28997802734375,-22.66876983642578,-47.33642578125,-40.80936050415039,-29.28527069091797,-27.792865753173828,-34.73772430419922,107.8050308227539,105.5002212524414,136.60952758789062,15.73294734954834,25.711156845092773,9.44926929473877,11.992867469787598,-56.767059326171875,-89.633056640625,12.480234146118164,-102.04076385498047,15.347679138183594,125.27837371826172,53.20817565917969,-98.24484252929688,-77.85340881347656,136.33734130859375,-22.767637252807617,9.79695987701416,-17.895118713378906,-104.05915832519531,127.31640625,33.60443115234375,48.964176177978516,48.642417907714844],\"xaxis\":\"x\",\"y\":[54.94388961791992,74.07750701904297,-11.482795715332031,78.1003189086914,59.023319244384766,81.10063171386719,51.26830291748047,36.016845703125,56.20531463623047,-27.389577865600586,50.1992301940918,23.395814895629883,25.992515563964844,42.32773971557617,-54.90530014038086,22.095014572143555,-80.60317993164062,24.117341995239258,19.761491775512695,-81.18656158447266,114.3995361328125,-15.1431303024292,42.11283493041992,88.23621368408203,-90.53348541259766,-4.166146278381348,-60.57147216796875,-7.067653656005859,52.26565170288086,82.6126937866211,112.51676177978516,-15.193392753601074,-27.440874099731445,-71.69779968261719,-25.947772979736328,-7.742301940917969,-100.34809112548828,45.07264709472656,-40.66146469116211,-42.67165756225586,-42.88242721557617,-48.052860260009766,-23.860971450805664,47.7242431640625,-60.2151985168457,47.636207580566406,-97.50313568115234,-65.26510620117188,30.696443557739258,-55.58246612548828,-51.33025360107422,-15.93624210357666,-45.744083404541016,-55.74540710449219,-25.451854705810547,-96.27494812011719,43.565670013427734,63.86627960205078,37.08159637451172,53.96007537841797,51.128273010253906,-102.86670684814453,-107.11417388916016,76.99868774414062,-48.76858901977539,-93.56022644042969,73.6745376586914,77.46163177490234,-89.57795715332031,-60.574798583984375,-86.00729370117188,-12.588985443115234,23.12928581237793,-74.19110870361328,-51.75435256958008,-62.35911178588867,-73.9605712890625,52.74232864379883,57.315773010253906,-28.611770629882812,-102.7287368774414,-24.86968994140625,-29.727855682373047,98.75511932373047,89.0306396484375,90.96887969970703,85.46942138671875,-82.53276824951172,101.69210052490234,105.75205993652344,-60.33449172973633,-76.32145690917969,-73.87173461914062,-58.67891311645508,-73.02484130859375,-63.462646484375,-59.16596603393555,-68.12059020996094,-79.25482940673828,-62.66012954711914,78.72840881347656,80.49309539794922,56.70582580566406,-82.38359069824219,-18.17755889892578,7.180760860443115,13.712848663330078,39.052303314208984,95.11521911621094,21.90711212158203,-24.569551467895508,11.627828598022461,68.5424575805664,-55.00802993774414,84.33616638183594,111.34244537353516,48.08635330200195,-14.963736534118652,3.546215295791626,-15.959558486938477,-14.383781433105469,64.11351013183594,-83.80855560302734,-51.170143127441406,-8.271013259887695],\"yaxis\":\"y\"}],                        {\"height\":1000,\"legend\":{\"tracegroupgap\":0},\"margin\":{\"t\":60},\"template\":{\"data\":{\"bar\":[{\"error_x\":{\"color\":\"#2a3f5f\"},\"error_y\":{\"color\":\"#2a3f5f\"},\"marker\":{\"line\":{\"color\":\"#E5ECF6\",\"width\":0.5},\"pattern\":{\"fillmode\":\"overlay\",\"size\":10,\"solidity\":0.2}},\"type\":\"bar\"}],\"barpolar\":[{\"marker\":{\"line\":{\"color\":\"#E5ECF6\",\"width\":0.5},\"pattern\":{\"fillmode\":\"overlay\",\"size\":10,\"solidity\":0.2}},\"type\":\"barpolar\"}],\"carpet\":[{\"aaxis\":{\"endlinecolor\":\"#2a3f5f\",\"gridcolor\":\"white\",\"linecolor\":\"white\",\"minorgridcolor\":\"white\",\"startlinecolor\":\"#2a3f5f\"},\"baxis\":{\"endlinecolor\":\"#2a3f5f\",\"gridcolor\":\"white\",\"linecolor\":\"white\",\"minorgridcolor\":\"white\",\"startlinecolor\":\"#2a3f5f\"},\"type\":\"carpet\"}],\"choropleth\":[{\"colorbar\":{\"outlinewidth\":0,\"ticks\":\"\"},\"type\":\"choropleth\"}],\"contour\":[{\"colorbar\":{\"outlinewidth\":0,\"ticks\":\"\"},\"colorscale\":[[0.0,\"#0d0887\"],[0.1111111111111111,\"#46039f\"],[0.2222222222222222,\"#7201a8\"],[0.3333333333333333,\"#9c179e\"],[0.4444444444444444,\"#bd3786\"],[0.5555555555555556,\"#d8576b\"],[0.6666666666666666,\"#ed7953\"],[0.7777777777777778,\"#fb9f3a\"],[0.8888888888888888,\"#fdca26\"],[1.0,\"#f0f921\"]],\"type\":\"contour\"}],\"contourcarpet\":[{\"colorbar\":{\"outlinewidth\":0,\"ticks\":\"\"},\"type\":\"contourcarpet\"}],\"heatmap\":[{\"colorbar\":{\"outlinewidth\":0,\"ticks\":\"\"},\"colorscale\":[[0.0,\"#0d0887\"],[0.1111111111111111,\"#46039f\"],[0.2222222222222222,\"#7201a8\"],[0.3333333333333333,\"#9c179e\"],[0.4444444444444444,\"#bd3786\"],[0.5555555555555556,\"#d8576b\"],[0.6666666666666666,\"#ed7953\"],[0.7777777777777778,\"#fb9f3a\"],[0.8888888888888888,\"#fdca26\"],[1.0,\"#f0f921\"]],\"type\":\"heatmap\"}],\"heatmapgl\":[{\"colorbar\":{\"outlinewidth\":0,\"ticks\":\"\"},\"colorscale\":[[0.0,\"#0d0887\"],[0.1111111111111111,\"#46039f\"],[0.2222222222222222,\"#7201a8\"],[0.3333333333333333,\"#9c179e\"],[0.4444444444444444,\"#bd3786\"],[0.5555555555555556,\"#d8576b\"],[0.6666666666666666,\"#ed7953\"],[0.7777777777777778,\"#fb9f3a\"],[0.8888888888888888,\"#fdca26\"],[1.0,\"#f0f921\"]],\"type\":\"heatmapgl\"}],\"histogram\":[{\"marker\":{\"pattern\":{\"fillmode\":\"overlay\",\"size\":10,\"solidity\":0.2}},\"type\":\"histogram\"}],\"histogram2d\":[{\"colorbar\":{\"outlinewidth\":0,\"ticks\":\"\"},\"colorscale\":[[0.0,\"#0d0887\"],[0.1111111111111111,\"#46039f\"],[0.2222222222222222,\"#7201a8\"],[0.3333333333333333,\"#9c179e\"],[0.4444444444444444,\"#bd3786\"],[0.5555555555555556,\"#d8576b\"],[0.6666666666666666,\"#ed7953\"],[0.7777777777777778,\"#fb9f3a\"],[0.8888888888888888,\"#fdca26\"],[1.0,\"#f0f921\"]],\"type\":\"histogram2d\"}],\"histogram2dcontour\":[{\"colorbar\":{\"outlinewidth\":0,\"ticks\":\"\"},\"colorscale\":[[0.0,\"#0d0887\"],[0.1111111111111111,\"#46039f\"],[0.2222222222222222,\"#7201a8\"],[0.3333333333333333,\"#9c179e\"],[0.4444444444444444,\"#bd3786\"],[0.5555555555555556,\"#d8576b\"],[0.6666666666666666,\"#ed7953\"],[0.7777777777777778,\"#fb9f3a\"],[0.8888888888888888,\"#fdca26\"],[1.0,\"#f0f921\"]],\"type\":\"histogram2dcontour\"}],\"mesh3d\":[{\"colorbar\":{\"outlinewidth\":0,\"ticks\":\"\"},\"type\":\"mesh3d\"}],\"parcoords\":[{\"line\":{\"colorbar\":{\"outlinewidth\":0,\"ticks\":\"\"}},\"type\":\"parcoords\"}],\"pie\":[{\"automargin\":true,\"type\":\"pie\"}],\"scatter\":[{\"marker\":{\"colorbar\":{\"outlinewidth\":0,\"ticks\":\"\"}},\"type\":\"scatter\"}],\"scatter3d\":[{\"line\":{\"colorbar\":{\"outlinewidth\":0,\"ticks\":\"\"}},\"marker\":{\"colorbar\":{\"outlinewidth\":0,\"ticks\":\"\"}},\"type\":\"scatter3d\"}],\"scattercarpet\":[{\"marker\":{\"colorbar\":{\"outlinewidth\":0,\"ticks\":\"\"}},\"type\":\"scattercarpet\"}],\"scattergeo\":[{\"marker\":{\"colorbar\":{\"outlinewidth\":0,\"ticks\":\"\"}},\"type\":\"scattergeo\"}],\"scattergl\":[{\"marker\":{\"colorbar\":{\"outlinewidth\":0,\"ticks\":\"\"}},\"type\":\"scattergl\"}],\"scattermapbox\":[{\"marker\":{\"colorbar\":{\"outlinewidth\":0,\"ticks\":\"\"}},\"type\":\"scattermapbox\"}],\"scatterpolar\":[{\"marker\":{\"colorbar\":{\"outlinewidth\":0,\"ticks\":\"\"}},\"type\":\"scatterpolar\"}],\"scatterpolargl\":[{\"marker\":{\"colorbar\":{\"outlinewidth\":0,\"ticks\":\"\"}},\"type\":\"scatterpolargl\"}],\"scatterternary\":[{\"marker\":{\"colorbar\":{\"outlinewidth\":0,\"ticks\":\"\"}},\"type\":\"scatterternary\"}],\"surface\":[{\"colorbar\":{\"outlinewidth\":0,\"ticks\":\"\"},\"colorscale\":[[0.0,\"#0d0887\"],[0.1111111111111111,\"#46039f\"],[0.2222222222222222,\"#7201a8\"],[0.3333333333333333,\"#9c179e\"],[0.4444444444444444,\"#bd3786\"],[0.5555555555555556,\"#d8576b\"],[0.6666666666666666,\"#ed7953\"],[0.7777777777777778,\"#fb9f3a\"],[0.8888888888888888,\"#fdca26\"],[1.0,\"#f0f921\"]],\"type\":\"surface\"}],\"table\":[{\"cells\":{\"fill\":{\"color\":\"#EBF0F8\"},\"line\":{\"color\":\"white\"}},\"header\":{\"fill\":{\"color\":\"#C8D4E3\"},\"line\":{\"color\":\"white\"}},\"type\":\"table\"}]},\"layout\":{\"annotationdefaults\":{\"arrowcolor\":\"#2a3f5f\",\"arrowhead\":0,\"arrowwidth\":1},\"autotypenumbers\":\"strict\",\"coloraxis\":{\"colorbar\":{\"outlinewidth\":0,\"ticks\":\"\"}},\"colorscale\":{\"diverging\":[[0,\"#8e0152\"],[0.1,\"#c51b7d\"],[0.2,\"#de77ae\"],[0.3,\"#f1b6da\"],[0.4,\"#fde0ef\"],[0.5,\"#f7f7f7\"],[0.6,\"#e6f5d0\"],[0.7,\"#b8e186\"],[0.8,\"#7fbc41\"],[0.9,\"#4d9221\"],[1,\"#276419\"]],\"sequential\":[[0.0,\"#0d0887\"],[0.1111111111111111,\"#46039f\"],[0.2222222222222222,\"#7201a8\"],[0.3333333333333333,\"#9c179e\"],[0.4444444444444444,\"#bd3786\"],[0.5555555555555556,\"#d8576b\"],[0.6666666666666666,\"#ed7953\"],[0.7777777777777778,\"#fb9f3a\"],[0.8888888888888888,\"#fdca26\"],[1.0,\"#f0f921\"]],\"sequentialminus\":[[0.0,\"#0d0887\"],[0.1111111111111111,\"#46039f\"],[0.2222222222222222,\"#7201a8\"],[0.3333333333333333,\"#9c179e\"],[0.4444444444444444,\"#bd3786\"],[0.5555555555555556,\"#d8576b\"],[0.6666666666666666,\"#ed7953\"],[0.7777777777777778,\"#fb9f3a\"],[0.8888888888888888,\"#fdca26\"],[1.0,\"#f0f921\"]]},\"colorway\":[\"#636efa\",\"#EF553B\",\"#00cc96\",\"#ab63fa\",\"#FFA15A\",\"#19d3f3\",\"#FF6692\",\"#B6E880\",\"#FF97FF\",\"#FECB52\"],\"font\":{\"color\":\"#2a3f5f\"},\"geo\":{\"bgcolor\":\"white\",\"lakecolor\":\"white\",\"landcolor\":\"#E5ECF6\",\"showlakes\":true,\"showland\":true,\"subunitcolor\":\"white\"},\"hoverlabel\":{\"align\":\"left\"},\"hovermode\":\"closest\",\"mapbox\":{\"style\":\"light\"},\"paper_bgcolor\":\"white\",\"plot_bgcolor\":\"#E5ECF6\",\"polar\":{\"angularaxis\":{\"gridcolor\":\"white\",\"linecolor\":\"white\",\"ticks\":\"\"},\"bgcolor\":\"#E5ECF6\",\"radialaxis\":{\"gridcolor\":\"white\",\"linecolor\":\"white\",\"ticks\":\"\"}},\"scene\":{\"xaxis\":{\"backgroundcolor\":\"#E5ECF6\",\"gridcolor\":\"white\",\"gridwidth\":2,\"linecolor\":\"white\",\"showbackground\":true,\"ticks\":\"\",\"zerolinecolor\":\"white\"},\"yaxis\":{\"backgroundcolor\":\"#E5ECF6\",\"gridcolor\":\"white\",\"gridwidth\":2,\"linecolor\":\"white\",\"showbackground\":true,\"ticks\":\"\",\"zerolinecolor\":\"white\"},\"zaxis\":{\"backgroundcolor\":\"#E5ECF6\",\"gridcolor\":\"white\",\"gridwidth\":2,\"linecolor\":\"white\",\"showbackground\":true,\"ticks\":\"\",\"zerolinecolor\":\"white\"}},\"shapedefaults\":{\"line\":{\"color\":\"#2a3f5f\"}},\"ternary\":{\"aaxis\":{\"gridcolor\":\"white\",\"linecolor\":\"white\",\"ticks\":\"\"},\"baxis\":{\"gridcolor\":\"white\",\"linecolor\":\"white\",\"ticks\":\"\"},\"bgcolor\":\"#E5ECF6\",\"caxis\":{\"gridcolor\":\"white\",\"linecolor\":\"white\",\"ticks\":\"\"}},\"title\":{\"x\":0.05},\"xaxis\":{\"automargin\":true,\"gridcolor\":\"white\",\"linecolor\":\"white\",\"ticks\":\"\",\"title\":{\"standoff\":15},\"zerolinecolor\":\"white\",\"zerolinewidth\":2},\"yaxis\":{\"automargin\":true,\"gridcolor\":\"white\",\"linecolor\":\"white\",\"ticks\":\"\",\"title\":{\"standoff\":15},\"zerolinecolor\":\"white\",\"zerolinewidth\":2}}},\"title\":{\"text\":\"TSNE\"},\"width\":1000,\"xaxis\":{\"anchor\":\"y\",\"domain\":[0.0,1.0],\"title\":{\"text\":\"x\"}},\"yaxis\":{\"anchor\":\"x\",\"domain\":[0.0,1.0],\"title\":{\"text\":\"y\"}}},                        {\"responsive\": true}                    ).then(function(){\n",
       "                            \n",
       "var gd = document.getElementById('f2ef65be-3743-46f5-8e80-01891c5979ca');\n",
       "var x = new MutationObserver(function (mutations, observer) {{\n",
       "        var display = window.getComputedStyle(gd).display;\n",
       "        if (!display || display === 'none') {{\n",
       "            console.log([gd, 'removed!']);\n",
       "            Plotly.purge(gd);\n",
       "            observer.disconnect();\n",
       "        }}\n",
       "}});\n",
       "\n",
       "// Listen for the removal of the full notebook cells\n",
       "var notebookContainer = gd.closest('#notebook-container');\n",
       "if (notebookContainer) {{\n",
       "    x.observe(notebookContainer, {childList: true});\n",
       "}}\n",
       "\n",
       "// Listen for the clearing of the current output cell\n",
       "var outputEl = gd.closest('.output');\n",
       "if (outputEl) {{\n",
       "    x.observe(outputEl, {childList: true});\n",
       "}}\n",
       "\n",
       "                        })                };                });            </script>        </div>"
      ]
     },
     "metadata": {},
     "output_type": "display_data"
    }
   ],
   "source": [
    "fig=px.scatter(x=tsne_projection[0], y=tsne_projection[1], text = tsne_projection.droplevel(0).index)\n",
    "fig.update_traces(textposition='top center')\n",
    "fig.update_layout(height=1000, width=1000, title_text='TSNE')\n",
    "fig.show()\n",
    "fig.write_html(os.path.join(FIG_DIR, 'TSNE_Scatter.html'))"
   ]
  },
  {
   "cell_type": "markdown",
   "id": "accdf6f6",
   "metadata": {},
   "source": [
    "<br>"
   ]
  },
  {
   "cell_type": "markdown",
   "id": "e7f1080d",
   "metadata": {},
   "source": [
    "## Clustering\n",
    "\n",
    "a= intracluster distance\n",
    "\n",
    "b=intercluster distance\n",
    "\n",
    "Silhouette coefficient= b-a/max(b,a)\n",
    "\n",
    "If our clustering is good then we have small intracluster distance then the Silhouette coefficient value is positive\n",
    "\n",
    "If our clustering is bad then we have large intracluster distance then the Silhouette coefficient value is negative\n",
    "\n",
    "Silhouette coefficient lies in between -1 and 1\n",
    "\n",
    "If the value moves towards 1 then clustering is good\n",
    "\n",
    "If the value moves towards <0 then clustering is bad"
   ]
  },
  {
   "cell_type": "markdown",
   "id": "ab2c327b",
   "metadata": {},
   "source": [
    "<br>"
   ]
  },
  {
   "cell_type": "code",
   "execution_count": 181,
   "id": "203b5447",
   "metadata": {},
   "outputs": [],
   "source": [
    "range_n_cluster = list(range(10,25))\n",
    "silhoutte_score = []\n",
    "best_cluster_model = None \n",
    "\n",
    "for n_clusters in range_n_cluster:\n",
    "    cluster_model  = AgglomerativeClustering(n_clusters=n_clusters, linkage='ward')\n",
    "    cluster_labels = cluster_model.fit_predict(tsne_projection)\n",
    "    silhouette_avg = silhouette_score(tsne_projection, cluster_labels)\n",
    "\n",
    "    silhoutte_score += [silhouette_avg]\n",
    "    \n",
    "    if silhouette_avg >= np.max(silhoutte_score):\n",
    "        best_cluster_model = cluster_model"
   ]
  },
  {
   "cell_type": "code",
   "execution_count": 182,
   "id": "14b57f4d",
   "metadata": {},
   "outputs": [
    {
     "data": {
      "text/plain": [
       "<matplotlib.lines.Line2D at 0x23ea55b1250>"
      ]
     },
     "execution_count": 182,
     "metadata": {},
     "output_type": "execute_result"
    },
    {
     "data": {
      "image/png": "[encoded data removed]",
      "text/plain": [
       "<Figure size 432x288 with 1 Axes>"
      ]
     },
     "metadata": {
      "needs_background": "light"
     },
     "output_type": "display_data"
    }
   ],
   "source": [
    "plt.plot(range_n_cluster, silhoutte_score)\n",
    "plt.axvline(best_cluster_model.n_clusters, color='black')"
   ]
  },
  {
   "cell_type": "code",
   "execution_count": 183,
   "id": "28e0504e",
   "metadata": {},
   "outputs": [],
   "source": [
    "cluster_labels = [\"skills_group_\" + str(label) \n",
    "                 for label in best_cluster_model.labels_]"
   ]
  },
  {
   "cell_type": "code",
   "execution_count": 184,
   "id": "b73e1d97",
   "metadata": {},
   "outputs": [
    {
     "data": {
      "application/vnd.plotly.v1+json": {
       "config": {
        "plotlyServerURL": "https://plot.ly"
       },
       "data": [
        {
         "hovertemplate": "color=skills_group_11<br>x=%{x}<br>y=%{y}<br>text=%{text}<extra></extra>",
         "legendgroup": "skills_group_11",
         "marker": {
          "color": "#636efa",
          "symbol": "circle"
         },
         "mode": "markers+text",
         "name": "skills_group_11",
         "orientation": "v",
         "showlegend": true,
         "text": [
          "APL",
          "COBOL",
          "Crystal",
          "Delphi",
          "IBM DB2",
          "IBM Cloud or Watson"
         ],
         "textposition": "top center",
         "type": "scatter",
         "x": [
          4.605247974395752,
          0.5187837481498718,
          -1.2271349430084229,
          -5.149548053741455,
          2.2118587493896484,
          4.209980010986328
         ],
         "xaxis": "x",
         "y": [
          54.94388961791992,
          51.26830291748047,
          56.20531463623047,
          50.1992301940918,
          47.7242431640625,
          43.565670013427734
         ],
         "yaxis": "y"
        },
        {
         "hovertemplate": "color=skills_group_0<br>x=%{x}<br>y=%{y}<br>text=%{text}<extra></extra>",
         "legendgroup": "skills_group_0",
         "marker": {
          "color": "#EF553B",
          "symbol": "circle"
         },
         "mode": "markers+text",
         "name": "skills_group_0",
         "orientation": "v",
         "showlegend": true,
         "text": [
          "Assembly",
          "C",
          "C++",
          "Julia",
          "Matlab",
          "Python",
          "R",
          "Django",
          "FastAPI",
          "Flask",
          "Keras",
          "NumPy",
          "Pandas",
          "Qt",
          "TensorFlow",
          "Torch/PyTorch",
          "IPython/Jupyter",
          "PyCharm",
          "RStudio"
         ],
         "textposition": "top center",
         "type": "scatter",
         "x": [
          -61.94532775878906,
          -63.02702713012695,
          -63.01929473876953,
          -84.78345489501953,
          -83.53423309326172,
          -94.27690887451172,
          -80.55612182617188,
          -97.38052368164062,
          -89.63235473632812,
          -92.34335327148438,
          -101.30652618408203,
          -89.63439178466797,
          -91.88602447509766,
          -62.660465240478516,
          -100.6083755493164,
          -99.93009948730469,
          -89.633056640625,
          -98.24484252929688,
          -77.85340881347656
         ],
         "xaxis": "x",
         "y": [
          74.07750701904297,
          78.1003189086914,
          81.10063171386719,
          114.3995361328125,
          88.23621368408203,
          82.6126937866211,
          112.51676177978516,
          76.99868774414062,
          73.6745376586914,
          77.46163177490234,
          98.75511932373047,
          89.0306396484375,
          90.96887969970703,
          85.46942138671875,
          101.69210052490234,
          105.75205993652344,
          95.11521911621094,
          84.33616638183594,
          111.34244537353516
         ],
         "yaxis": "y"
        },
        {
         "hovertemplate": "color=skills_group_7<br>x=%{x}<br>y=%{y}<br>text=%{text}<extra></extra>",
         "legendgroup": "skills_group_7",
         "marker": {
          "color": "#00cc96",
          "symbol": "circle"
         },
         "mode": "markers+text",
         "name": "skills_group_7",
         "orientation": "v",
         "showlegend": true,
         "text": [
          "Bash/Shell",
          "Perl",
          "Rust",
          "Neovim",
          "Vim"
         ],
         "textposition": "top center",
         "type": "scatter",
         "x": [
          -104.63541412353516,
          -105.9701156616211,
          -101.11397552490234,
          -102.04076385498047,
          -104.05915832519531
         ],
         "xaxis": "x",
         "y": [
          -11.482795715332031,
          -7.067653656005859,
          -27.440874099731445,
          -24.569551467895508,
          -14.383781433105469
         ],
         "yaxis": "y"
        },
        {
         "hovertemplate": "color=skills_group_3<br>x=%{x}<br>y=%{y}<br>text=%{text}<extra></extra>",
         "legendgroup": "skills_group_3",
         "marker": {
          "color": "#ab63fa",
          "symbol": "circle"
         },
         "mode": "markers+text",
         "name": "skills_group_3",
         "orientation": "v",
         "showlegend": true,
         "text": [
          "C#",
          "F#",
          "PowerShell",
          "VBA",
          "Microsoft SQL Server",
          "Microsoft Azure",
          "ASP.NET",
          "ASP.NET Core ",
          ".NET Core / .NET 5",
          ".NET Framework",
          "Unity 3D",
          "Unreal Engine",
          "Xamarin",
          "Notepad++",
          "Rider",
          "Visual Studio"
         ],
         "textposition": "top center",
         "type": "scatter",
         "x": [
          129.82489013671875,
          135.8561553955078,
          143.88778686523438,
          120.49776458740234,
          124.76399993896484,
          141.0408935546875,
          123.58331298828125,
          130.3687744140625,
          133.3608856201172,
          126.55963134765625,
          107.8050308227539,
          105.5002212524414,
          136.60952758789062,
          125.27837371826172,
          136.33734130859375,
          127.31640625
         ],
         "xaxis": "x",
         "y": [
          59.023319244384766,
          42.32773971557617,
          52.26565170288086,
          45.07264709472656,
          47.636207580566406,
          63.86627960205078,
          53.96007537841797,
          51.128273010253906,
          52.74232864379883,
          57.315773010253906,
          78.72840881347656,
          80.49309539794922,
          56.70582580566406,
          68.5424575805664,
          48.08635330200195,
          64.11351013183594
         ],
         "yaxis": "y"
        },
        {
         "hovertemplate": "color=skills_group_4<br>x=%{x}<br>y=%{y}<br>text=%{text}<extra></extra>",
         "legendgroup": "skills_group_4",
         "marker": {
          "color": "#FFA15A",
          "symbol": "circle"
         },
         "mode": "markers+text",
         "name": "skills_group_4",
         "orientation": "v",
         "showlegend": true,
         "text": [
          "Clojure",
          "Elixir",
          "Erlang",
          "Haskell",
          "LISP",
          "Emacs"
         ],
         "textposition": "top center",
         "type": "scatter",
         "x": [
          -55.25922775268555,
          -34.98728561401367,
          -36.18221664428711,
          -73.31800079345703,
          -57.99916458129883,
          -56.767059326171875
         ],
         "xaxis": "x",
         "y": [
          36.016845703125,
          23.395814895629883,
          25.992515563964844,
          24.117341995239258,
          42.11283493041992,
          39.052303314208984
         ],
         "yaxis": "y"
        },
        {
         "hovertemplate": "color=skills_group_6<br>x=%{x}<br>y=%{y}<br>text=%{text}<extra></extra>",
         "legendgroup": "skills_group_6",
         "marker": {
          "color": "#19d3f3",
          "symbol": "circle"
         },
         "mode": "markers+text",
         "name": "skills_group_6",
         "orientation": "v",
         "showlegend": true,
         "text": [
          "Dart",
          "Kotlin",
          "Objective-C",
          "Swift",
          "Firebase",
          "SQLite",
          "Google Cloud Platform",
          "Flutter",
          "Android Studio",
          "Xcode"
         ],
         "textposition": "top center",
         "type": "scatter",
         "x": [
          28.918359756469727,
          23.756025314331055,
          53.01066207885742,
          51.59822082519531,
          18.30866050720215,
          31.546363830566406,
          15.419944763183594,
          27.463281631469727,
          25.711156845092773,
          48.642417907714844
         ],
         "xaxis": "x",
         "y": [
          -27.389577865600586,
          -15.1431303024292,
          -4.166146278381348,
          -7.742301940917969,
          -23.860971450805664,
          -15.93624210357666,
          -25.451854705810547,
          -24.86968994140625,
          -18.17755889892578,
          -8.271013259887695
         ],
         "yaxis": "y"
        },
        {
         "hovertemplate": "color=skills_group_1<br>x=%{x}<br>y=%{y}<br>text=%{text}<extra></extra>",
         "legendgroup": "skills_group_1",
         "marker": {
          "color": "#FF6692",
          "symbol": "circle"
         },
         "mode": "markers+text",
         "name": "skills_group_1",
         "orientation": "v",
         "showlegend": true,
         "text": [
          "Go",
          "DynamoDB",
          "PostgreSQL",
          "AWS",
          "Svelte",
          "Ansible",
          "Chef",
          "Deno",
          "Docker",
          "Flow",
          "Git",
          "Kubernetes",
          "Pulumi",
          "Puppet",
          "Terraform"
         ],
         "textposition": "top center",
         "type": "scatter",
         "x": [
          -38.328922271728516,
          -42.3079719543457,
          -48.37139892578125,
          -43.6322135925293,
          -9.906405448913574,
          -31.17186164855957,
          -27.58969497680664,
          -12.82861328125,
          -44.28997802734375,
          -22.66876983642578,
          -47.33642578125,
          -40.80936050415039,
          -29.28527069091797,
          -27.792865753173828,
          -34.73772430419922
         ],
         "xaxis": "x",
         "y": [
          -54.90530014038086,
          -42.88242721557617,
          -55.58246612548828,
          -45.744083404541016,
          -74.19110870361328,
          -60.33449172973633,
          -76.32145690917969,
          -73.87173461914062,
          -58.67891311645508,
          -73.02484130859375,
          -63.462646484375,
          -59.16596603393555,
          -68.12059020996094,
          -79.25482940673828,
          -62.66012954711914
         ],
         "yaxis": "y"
        },
        {
         "hovertemplate": "color=skills_group_5<br>x=%{x}<br>y=%{y}<br>text=%{text}<extra></extra>",
         "legendgroup": "skills_group_5",
         "marker": {
          "color": "#B6E880",
          "symbol": "circle"
         },
         "mode": "markers+text",
         "name": "skills_group_5",
         "orientation": "v",
         "showlegend": true,
         "text": [
          "Groovy",
          "Java",
          "Oracle",
          "Oracle Cloud Infrastructure",
          "Spring",
          "Atom",
          "Eclipse",
          "IntelliJ",
          "NetBeans",
          "Sublime Text"
         ],
         "textposition": "top center",
         "type": "scatter",
         "x": [
          2.394066095352173,
          10.203278541564941,
          7.785147190093994,
          6.632806777954102,
          7.15752649307251,
          9.44926929473877,
          11.992867469787598,
          12.480234146118164,
          15.347679138183594,
          9.79695987701416
         ],
         "xaxis": "x",
         "y": [
          22.095014572143555,
          19.761491775512695,
          30.696443557739258,
          37.08159637451172,
          23.12928581237793,
          7.180760860443115,
          13.712848663330078,
          21.90711212158203,
          11.627828598022461,
          3.546215295791626
         ],
         "yaxis": "y"
        },
        {
         "hovertemplate": "color=skills_group_2<br>x=%{x}<br>y=%{y}<br>text=%{text}<extra></extra>",
         "legendgroup": "skills_group_2",
         "marker": {
          "color": "#FF97FF",
          "symbol": "circle"
         },
         "mode": "markers+text",
         "name": "skills_group_2",
         "orientation": "v",
         "showlegend": true,
         "text": [
          "HTML/CSS",
          "JavaScript",
          "Node.js",
          "TypeScript",
          "MongoDB",
          "Heroku",
          "Angular",
          "Angular.js",
          "Express",
          "Gatsby",
          "React.js",
          "jQuery",
          "Cordova",
          "React Native",
          "Yarn",
          "Visual Studio Code"
         ],
         "textposition": "top center",
         "type": "scatter",
         "x": [
          41.23966979980469,
          38.3225212097168,
          18.422693252563477,
          38.62073516845703,
          16.861572265625,
          23.506885528564453,
          40.93303298950195,
          40.679473876953125,
          19.362592697143555,
          9.135313987731934,
          12.791500091552734,
          47.27386474609375,
          46.08541488647461,
          8.925209045410156,
          15.73294734954834,
          33.60443115234375
         ],
         "xaxis": "x",
         "y": [
          -80.60317993164062,
          -81.18656158447266,
          -90.53348541259766,
          -100.34809112548828,
          -97.50313568115234,
          -96.27494812011719,
          -102.86670684814453,
          -107.11417388916016,
          -93.56022644042969,
          -89.57795715332031,
          -86.00729370117188,
          -73.9605712890625,
          -102.7287368774414,
          -82.53276824951172,
          -82.38359069824219,
          -83.80855560302734
         ],
         "yaxis": "y"
        },
        {
         "hovertemplate": "color=skills_group_8<br>x=%{x}<br>y=%{y}<br>text=%{text}<extra></extra>",
         "legendgroup": "skills_group_8",
         "marker": {
          "color": "#FECB52",
          "symbol": "circle"
         },
         "mode": "markers+text",
         "name": "skills_group_8",
         "orientation": "v",
         "showlegend": true,
         "text": [
          "PHP",
          "SQL",
          "MariaDB",
          "MySQL",
          "Drupal",
          "Laravel",
          "Symfony",
          "Vue.js",
          "PHPStorm",
          "Webstorm"
         ],
         "textposition": "top center",
         "type": "scatter",
         "x": [
          54.698997497558594,
          63.589534759521484,
          60.151344299316406,
          56.81448745727539,
          60.80048370361328,
          51.065338134765625,
          57.16162872314453,
          46.01301193237305,
          53.20817565917969,
          48.964176177978516
         ],
         "xaxis": "x",
         "y": [
          -60.57147216796875,
          -71.69779968261719,
          -60.2151985168457,
          -65.26510620117188,
          -48.76858901977539,
          -60.574798583984375,
          -51.75435256958008,
          -62.35911178588867,
          -55.00802993774414,
          -51.170143127441406
         ],
         "yaxis": "y"
        },
        {
         "hovertemplate": "color=skills_group_10<br>x=%{x}<br>y=%{y}<br>text=%{text}<extra></extra>",
         "legendgroup": "skills_group_10",
         "marker": {
          "color": "#636efa",
          "symbol": "circle"
         },
         "mode": "markers+text",
         "name": "skills_group_10",
         "orientation": "v",
         "showlegend": true,
         "text": [
          "Ruby",
          "Ruby on Rails",
          "RubyMine",
          "TextMate"
         ],
         "textposition": "top center",
         "type": "scatter",
         "x": [
          -28.379501342773438,
          -27.206178665161133,
          -22.767637252807617,
          -17.895118713378906
         ],
         "xaxis": "x",
         "y": [
          -15.193392753601074,
          -12.588985443115234,
          -14.963736534118652,
          -15.959558486938477
         ],
         "yaxis": "y"
        },
        {
         "hovertemplate": "color=skills_group_9<br>x=%{x}<br>y=%{y}<br>text=%{text}<extra></extra>",
         "legendgroup": "skills_group_9",
         "marker": {
          "color": "#EF553B",
          "symbol": "circle"
         },
         "mode": "markers+text",
         "name": "skills_group_9",
         "orientation": "v",
         "showlegend": true,
         "text": [
          "Scala",
          "Cassandra",
          "Couchbase",
          "Elasticsearch",
          "Redis",
          "DigitalOcean",
          "Apache Spark",
          "Hadoop"
         ],
         "textposition": "top center",
         "type": "scatter",
         "x": [
          -64.30867004394531,
          -64.52342224121094,
          -68.43050384521484,
          -58.82160949707031,
          -57.882568359375,
          -60.297515869140625,
          -67.33372497558594,
          -70.04405975341797
         ],
         "xaxis": "x",
         "y": [
          -25.947772979736328,
          -40.66146469116211,
          -42.67165756225586,
          -48.052860260009766,
          -51.33025360107422,
          -55.74540710449219,
          -28.611770629882812,
          -29.727855682373047
         ],
         "yaxis": "y"
        }
       ],
       "layout": {
        "height": 800,
        "legend": {
         "title": {
          "text": "color"
         },
         "tracegroupgap": 0
        },
        "margin": {
         "t": 60
        },
        "template": {
         "data": {
          "bar": [
           {
            "error_x": {
             "color": "#2a3f5f"
            },
            "error_y": {
             "color": "#2a3f5f"
            },
            "marker": {
             "line": {
              "color": "#E5ECF6",
              "width": 0.5
             },
             "pattern": {
              "fillmode": "overlay",
              "size": 10,
              "solidity": 0.2
             }
            },
            "type": "bar"
           }
          ],
          "barpolar": [
           {
            "marker": {
             "line": {
              "color": "#E5ECF6",
              "width": 0.5
             },
             "pattern": {
              "fillmode": "overlay",
              "size": 10,
              "solidity": 0.2
             }
            },
            "type": "barpolar"
           }
          ],
          "carpet": [
           {
            "aaxis": {
             "endlinecolor": "#2a3f5f",
             "gridcolor": "white",
             "linecolor": "white",
             "minorgridcolor": "white",
             "startlinecolor": "#2a3f5f"
            },
            "baxis": {
             "endlinecolor": "#2a3f5f",
             "gridcolor": "white",
             "linecolor": "white",
             "minorgridcolor": "white",
             "startlinecolor": "#2a3f5f"
            },
            "type": "carpet"
           }
          ],
          "choropleth": [
           {
            "colorbar": {
             "outlinewidth": 0,
             "ticks": ""
            },
            "type": "choropleth"
           }
          ],
          "contour": [
           {
            "colorbar": {
             "outlinewidth": 0,
             "ticks": ""
            },
            "colorscale": [
             [
              0,
              "#0d0887"
             ],
             [
              0.1111111111111111,
              "#46039f"
             ],
             [
              0.2222222222222222,
              "#7201a8"
             ],
             [
              0.3333333333333333,
              "#9c179e"
             ],
             [
              0.4444444444444444,
              "#bd3786"
             ],
             [
              0.5555555555555556,
              "#d8576b"
             ],
             [
              0.6666666666666666,
              "#ed7953"
             ],
             [
              0.7777777777777778,
              "#fb9f3a"
             ],
             [
              0.8888888888888888,
              "#fdca26"
             ],
             [
              1,
              "#f0f921"
             ]
            ],
            "type": "contour"
           }
          ],
          "contourcarpet": [
           {
            "colorbar": {
             "outlinewidth": 0,
             "ticks": ""
            },
            "type": "contourcarpet"
           }
          ],
          "heatmap": [
           {
            "colorbar": {
             "outlinewidth": 0,
             "ticks": ""
            },
            "colorscale": [
             [
              0,
              "#0d0887"
             ],
             [
              0.1111111111111111,
              "#46039f"
             ],
             [
              0.2222222222222222,
              "#7201a8"
             ],
             [
              0.3333333333333333,
              "#9c179e"
             ],
             [
              0.4444444444444444,
              "#bd3786"
             ],
             [
              0.5555555555555556,
              "#d8576b"
             ],
             [
              0.6666666666666666,
              "#ed7953"
             ],
             [
              0.7777777777777778,
              "#fb9f3a"
             ],
             [
              0.8888888888888888,
              "#fdca26"
             ],
             [
              1,
              "#f0f921"
             ]
            ],
            "type": "heatmap"
           }
          ],
          "heatmapgl": [
           {
            "colorbar": {
             "outlinewidth": 0,
             "ticks": ""
            },
            "colorscale": [
             [
              0,
              "#0d0887"
             ],
             [
              0.1111111111111111,
              "#46039f"
             ],
             [
              0.2222222222222222,
              "#7201a8"
             ],
             [
              0.3333333333333333,
              "#9c179e"
             ],
             [
              0.4444444444444444,
              "#bd3786"
             ],
             [
              0.5555555555555556,
              "#d8576b"
             ],
             [
              0.6666666666666666,
              "#ed7953"
             ],
             [
              0.7777777777777778,
              "#fb9f3a"
             ],
             [
              0.8888888888888888,
              "#fdca26"
             ],
             [
              1,
              "#f0f921"
             ]
            ],
            "type": "heatmapgl"
           }
          ],
          "histogram": [
           {
            "marker": {
             "pattern": {
              "fillmode": "overlay",
              "size": 10,
              "solidity": 0.2
             }
            },
            "type": "histogram"
           }
          ],
          "histogram2d": [
           {
            "colorbar": {
             "outlinewidth": 0,
             "ticks": ""
            },
            "colorscale": [
             [
              0,
              "#0d0887"
             ],
             [
              0.1111111111111111,
              "#46039f"
             ],
             [
              0.2222222222222222,
              "#7201a8"
             ],
             [
              0.3333333333333333,
              "#9c179e"
             ],
             [
              0.4444444444444444,
              "#bd3786"
             ],
             [
              0.5555555555555556,
              "#d8576b"
             ],
             [
              0.6666666666666666,
              "#ed7953"
             ],
             [
              0.7777777777777778,
              "#fb9f3a"
             ],
             [
              0.8888888888888888,
              "#fdca26"
             ],
             [
              1,
              "#f0f921"
             ]
            ],
            "type": "histogram2d"
           }
          ],
          "histogram2dcontour": [
           {
            "colorbar": {
             "outlinewidth": 0,
             "ticks": ""
            },
            "colorscale": [
             [
              0,
              "#0d0887"
             ],
             [
              0.1111111111111111,
              "#46039f"
             ],
             [
              0.2222222222222222,
              "#7201a8"
             ],
             [
              0.3333333333333333,
              "#9c179e"
             ],
             [
              0.4444444444444444,
              "#bd3786"
             ],
             [
              0.5555555555555556,
              "#d8576b"
             ],
             [
              0.6666666666666666,
              "#ed7953"
             ],
             [
              0.7777777777777778,
              "#fb9f3a"
             ],
             [
              0.8888888888888888,
              "#fdca26"
             ],
             [
              1,
              "#f0f921"
             ]
            ],
            "type": "histogram2dcontour"
           }
          ],
          "mesh3d": [
           {
            "colorbar": {
             "outlinewidth": 0,
             "ticks": ""
            },
            "type": "mesh3d"
           }
          ],
          "parcoords": [
           {
            "line": {
             "colorbar": {
              "outlinewidth": 0,
              "ticks": ""
             }
            },
            "type": "parcoords"
           }
          ],
          "pie": [
           {
            "automargin": true,
            "type": "pie"
           }
          ],
          "scatter": [
           {
            "marker": {
             "colorbar": {
              "outlinewidth": 0,
              "ticks": ""
             }
            },
            "type": "scatter"
           }
          ],
          "scatter3d": [
           {
            "line": {
             "colorbar": {
              "outlinewidth": 0,
              "ticks": ""
             }
            },
            "marker": {
             "colorbar": {
              "outlinewidth": 0,
              "ticks": ""
             }
            },
            "type": "scatter3d"
           }
          ],
          "scattercarpet": [
           {
            "marker": {
             "colorbar": {
              "outlinewidth": 0,
              "ticks": ""
             }
            },
            "type": "scattercarpet"
           }
          ],
          "scattergeo": [
           {
            "marker": {
             "colorbar": {
              "outlinewidth": 0,
              "ticks": ""
             }
            },
            "type": "scattergeo"
           }
          ],
          "scattergl": [
           {
            "marker": {
             "colorbar": {
              "outlinewidth": 0,
              "ticks": ""
             }
            },
            "type": "scattergl"
           }
          ],
          "scattermapbox": [
           {
            "marker": {
             "colorbar": {
              "outlinewidth": 0,
              "ticks": ""
             }
            },
            "type": "scattermapbox"
           }
          ],
          "scatterpolar": [
           {
            "marker": {
             "colorbar": {
              "outlinewidth": 0,
              "ticks": ""
             }
            },
            "type": "scatterpolar"
           }
          ],
          "scatterpolargl": [
           {
            "marker": {
             "colorbar": {
              "outlinewidth": 0,
              "ticks": ""
             }
            },
            "type": "scatterpolargl"
           }
          ],
          "scatterternary": [
           {
            "marker": {
             "colorbar": {
              "outlinewidth": 0,
              "ticks": ""
             }
            },
            "type": "scatterternary"
           }
          ],
          "surface": [
           {
            "colorbar": {
             "outlinewidth": 0,
             "ticks": ""
            },
            "colorscale": [
             [
              0,
              "#0d0887"
             ],
             [
              0.1111111111111111,
              "#46039f"
             ],
             [
              0.2222222222222222,
              "#7201a8"
             ],
             [
              0.3333333333333333,
              "#9c179e"
             ],
             [
              0.4444444444444444,
              "#bd3786"
             ],
             [
              0.5555555555555556,
              "#d8576b"
             ],
             [
              0.6666666666666666,
              "#ed7953"
             ],
             [
              0.7777777777777778,
              "#fb9f3a"
             ],
             [
              0.8888888888888888,
              "#fdca26"
             ],
             [
              1,
              "#f0f921"
             ]
            ],
            "type": "surface"
           }
          ],
          "table": [
           {
            "cells": {
             "fill": {
              "color": "#EBF0F8"
             },
             "line": {
              "color": "white"
             }
            },
            "header": {
             "fill": {
              "color": "#C8D4E3"
             },
             "line": {
              "color": "white"
             }
            },
            "type": "table"
           }
          ]
         },
         "layout": {
          "annotationdefaults": {
           "arrowcolor": "#2a3f5f",
           "arrowhead": 0,
           "arrowwidth": 1
          },
          "autotypenumbers": "strict",
          "coloraxis": {
           "colorbar": {
            "outlinewidth": 0,
            "ticks": ""
           }
          },
          "colorscale": {
           "diverging": [
            [
             0,
             "#8e0152"
            ],
            [
             0.1,
             "#c51b7d"
            ],
            [
             0.2,
             "#de77ae"
            ],
            [
             0.3,
             "#f1b6da"
            ],
            [
             0.4,
             "#fde0ef"
            ],
            [
             0.5,
             "#f7f7f7"
            ],
            [
             0.6,
             "#e6f5d0"
            ],
            [
             0.7,
             "#b8e186"
            ],
            [
             0.8,
             "#7fbc41"
            ],
            [
             0.9,
             "#4d9221"
            ],
            [
             1,
             "#276419"
            ]
           ],
           "sequential": [
            [
             0,
             "#0d0887"
            ],
            [
             0.1111111111111111,
             "#46039f"
            ],
            [
             0.2222222222222222,
             "#7201a8"
            ],
            [
             0.3333333333333333,
             "#9c179e"
            ],
            [
             0.4444444444444444,
             "#bd3786"
            ],
            [
             0.5555555555555556,
             "#d8576b"
            ],
            [
             0.6666666666666666,
             "#ed7953"
            ],
            [
             0.7777777777777778,
             "#fb9f3a"
            ],
            [
             0.8888888888888888,
             "#fdca26"
            ],
            [
             1,
             "#f0f921"
            ]
           ],
           "sequentialminus": [
            [
             0,
             "#0d0887"
            ],
            [
             0.1111111111111111,
             "#46039f"
            ],
            [
             0.2222222222222222,
             "#7201a8"
            ],
            [
             0.3333333333333333,
             "#9c179e"
            ],
            [
             0.4444444444444444,
             "#bd3786"
            ],
            [
             0.5555555555555556,
             "#d8576b"
            ],
            [
             0.6666666666666666,
             "#ed7953"
            ],
            [
             0.7777777777777778,
             "#fb9f3a"
            ],
            [
             0.8888888888888888,
             "#fdca26"
            ],
            [
             1,
             "#f0f921"
            ]
           ]
          },
          "colorway": [
           "#636efa",
           "#EF553B",
           "#00cc96",
           "#ab63fa",
           "#FFA15A",
           "#19d3f3",
           "#FF6692",
           "#B6E880",
           "#FF97FF",
           "#FECB52"
          ],
          "font": {
           "color": "#2a3f5f"
          },
          "geo": {
           "bgcolor": "white",
           "lakecolor": "white",
           "landcolor": "#E5ECF6",
           "showlakes": true,
           "showland": true,
           "subunitcolor": "white"
          },
          "hoverlabel": {
           "align": "left"
          },
          "hovermode": "closest",
          "mapbox": {
           "style": "light"
          },
          "paper_bgcolor": "white",
          "plot_bgcolor": "#E5ECF6",
          "polar": {
           "angularaxis": {
            "gridcolor": "white",
            "linecolor": "white",
            "ticks": ""
           },
           "bgcolor": "#E5ECF6",
           "radialaxis": {
            "gridcolor": "white",
            "linecolor": "white",
            "ticks": ""
           }
          },
          "scene": {
           "xaxis": {
            "backgroundcolor": "#E5ECF6",
            "gridcolor": "white",
            "gridwidth": 2,
            "linecolor": "white",
            "showbackground": true,
            "ticks": "",
            "zerolinecolor": "white"
           },
           "yaxis": {
            "backgroundcolor": "#E5ECF6",
            "gridcolor": "white",
            "gridwidth": 2,
            "linecolor": "white",
            "showbackground": true,
            "ticks": "",
            "zerolinecolor": "white"
           },
           "zaxis": {
            "backgroundcolor": "#E5ECF6",
            "gridcolor": "white",
            "gridwidth": 2,
            "linecolor": "white",
            "showbackground": true,
            "ticks": "",
            "zerolinecolor": "white"
           }
          },
          "shapedefaults": {
           "line": {
            "color": "#2a3f5f"
           }
          },
          "ternary": {
           "aaxis": {
            "gridcolor": "white",
            "linecolor": "white",
            "ticks": ""
           },
           "baxis": {
            "gridcolor": "white",
            "linecolor": "white",
            "ticks": ""
           },
           "bgcolor": "#E5ECF6",
           "caxis": {
            "gridcolor": "white",
            "linecolor": "white",
            "ticks": ""
           }
          },
          "title": {
           "x": 0.05
          },
          "xaxis": {
           "automargin": true,
           "gridcolor": "white",
           "linecolor": "white",
           "ticks": "",
           "title": {
            "standoff": 15
           },
           "zerolinecolor": "white",
           "zerolinewidth": 2
          },
          "yaxis": {
           "automargin": true,
           "gridcolor": "white",
           "linecolor": "white",
           "ticks": "",
           "title": {
            "standoff": 15
           },
           "zerolinecolor": "white",
           "zerolinewidth": 2
          }
         }
        },
        "title": {
         "text": "Cluster"
        },
        "width": 800,
        "xaxis": {
         "anchor": "y",
         "domain": [
          0,
          1
         ],
         "title": {
          "text": "x"
         }
        },
        "yaxis": {
         "anchor": "x",
         "domain": [
          0,
          1
         ],
         "title": {
          "text": "y"
         }
        }
       }
      },
      "text/html": [
       "<div>                            <div id=\"738b9956-c93c-44ae-b59b-01af10f7107a\" class=\"plotly-graph-div\" style=\"height:800px; width:800px;\"></div>            <script type=\"text/javascript\">                require([\"plotly\"], function(Plotly) {                    window.PLOTLYENV=window.PLOTLYENV || {};                                    if (document.getElementById(\"738b9956-c93c-44ae-b59b-01af10f7107a\")) {                    Plotly.newPlot(                        \"738b9956-c93c-44ae-b59b-01af10f7107a\",                        [{\"hovertemplate\":\"color=skills_group_11<br>x=%{x}<br>y=%{y}<br>text=%{text}<extra></extra>\",\"legendgroup\":\"skills_group_11\",\"marker\":{\"color\":\"#636efa\",\"symbol\":\"circle\"},\"mode\":\"markers+text\",\"name\":\"skills_group_11\",\"orientation\":\"v\",\"showlegend\":true,\"text\":[\"APL\",\"COBOL\",\"Crystal\",\"Delphi\",\"IBM DB2\",\"IBM Cloud or Watson\"],\"textposition\":\"top center\",\"type\":\"scatter\",\"x\":[4.605247974395752,0.5187837481498718,-1.2271349430084229,-5.149548053741455,2.2118587493896484,4.209980010986328],\"xaxis\":\"x\",\"y\":[54.94388961791992,51.26830291748047,56.20531463623047,50.1992301940918,47.7242431640625,43.565670013427734],\"yaxis\":\"y\"},{\"hovertemplate\":\"color=skills_group_0<br>x=%{x}<br>y=%{y}<br>text=%{text}<extra></extra>\",\"legendgroup\":\"skills_group_0\",\"marker\":{\"color\":\"#EF553B\",\"symbol\":\"circle\"},\"mode\":\"markers+text\",\"name\":\"skills_group_0\",\"orientation\":\"v\",\"showlegend\":true,\"text\":[\"Assembly\",\"C\",\"C++\",\"Julia\",\"Matlab\",\"Python\",\"R\",\"Django\",\"FastAPI\",\"Flask\",\"Keras\",\"NumPy\",\"Pandas\",\"Qt\",\"TensorFlow\",\"Torch/PyTorch\",\"IPython/Jupyter\",\"PyCharm\",\"RStudio\"],\"textposition\":\"top center\",\"type\":\"scatter\",\"x\":[-61.94532775878906,-63.02702713012695,-63.01929473876953,-84.78345489501953,-83.53423309326172,-94.27690887451172,-80.55612182617188,-97.38052368164062,-89.63235473632812,-92.34335327148438,-101.30652618408203,-89.63439178466797,-91.88602447509766,-62.660465240478516,-100.6083755493164,-99.93009948730469,-89.633056640625,-98.24484252929688,-77.85340881347656],\"xaxis\":\"x\",\"y\":[74.07750701904297,78.1003189086914,81.10063171386719,114.3995361328125,88.23621368408203,82.6126937866211,112.51676177978516,76.99868774414062,73.6745376586914,77.46163177490234,98.75511932373047,89.0306396484375,90.96887969970703,85.46942138671875,101.69210052490234,105.75205993652344,95.11521911621094,84.33616638183594,111.34244537353516],\"yaxis\":\"y\"},{\"hovertemplate\":\"color=skills_group_7<br>x=%{x}<br>y=%{y}<br>text=%{text}<extra></extra>\",\"legendgroup\":\"skills_group_7\",\"marker\":{\"color\":\"#00cc96\",\"symbol\":\"circle\"},\"mode\":\"markers+text\",\"name\":\"skills_group_7\",\"orientation\":\"v\",\"showlegend\":true,\"text\":[\"Bash/Shell\",\"Perl\",\"Rust\",\"Neovim\",\"Vim\"],\"textposition\":\"top center\",\"type\":\"scatter\",\"x\":[-104.63541412353516,-105.9701156616211,-101.11397552490234,-102.04076385498047,-104.05915832519531],\"xaxis\":\"x\",\"y\":[-11.482795715332031,-7.067653656005859,-27.440874099731445,-24.569551467895508,-14.383781433105469],\"yaxis\":\"y\"},{\"hovertemplate\":\"color=skills_group_3<br>x=%{x}<br>y=%{y}<br>text=%{text}<extra></extra>\",\"legendgroup\":\"skills_group_3\",\"marker\":{\"color\":\"#ab63fa\",\"symbol\":\"circle\"},\"mode\":\"markers+text\",\"name\":\"skills_group_3\",\"orientation\":\"v\",\"showlegend\":true,\"text\":[\"C#\",\"F#\",\"PowerShell\",\"VBA\",\"Microsoft SQL Server\",\"Microsoft Azure\",\"ASP.NET\",\"ASP.NET Core \",\".NET Core / .NET 5\",\".NET Framework\",\"Unity 3D\",\"Unreal Engine\",\"Xamarin\",\"Notepad++\",\"Rider\",\"Visual Studio\"],\"textposition\":\"top center\",\"type\":\"scatter\",\"x\":[129.82489013671875,135.8561553955078,143.88778686523438,120.49776458740234,124.76399993896484,141.0408935546875,123.58331298828125,130.3687744140625,133.3608856201172,126.55963134765625,107.8050308227539,105.5002212524414,136.60952758789062,125.27837371826172,136.33734130859375,127.31640625],\"xaxis\":\"x\",\"y\":[59.023319244384766,42.32773971557617,52.26565170288086,45.07264709472656,47.636207580566406,63.86627960205078,53.96007537841797,51.128273010253906,52.74232864379883,57.315773010253906,78.72840881347656,80.49309539794922,56.70582580566406,68.5424575805664,48.08635330200195,64.11351013183594],\"yaxis\":\"y\"},{\"hovertemplate\":\"color=skills_group_4<br>x=%{x}<br>y=%{y}<br>text=%{text}<extra></extra>\",\"legendgroup\":\"skills_group_4\",\"marker\":{\"color\":\"#FFA15A\",\"symbol\":\"circle\"},\"mode\":\"markers+text\",\"name\":\"skills_group_4\",\"orientation\":\"v\",\"showlegend\":true,\"text\":[\"Clojure\",\"Elixir\",\"Erlang\",\"Haskell\",\"LISP\",\"Emacs\"],\"textposition\":\"top center\",\"type\":\"scatter\",\"x\":[-55.25922775268555,-34.98728561401367,-36.18221664428711,-73.31800079345703,-57.99916458129883,-56.767059326171875],\"xaxis\":\"x\",\"y\":[36.016845703125,23.395814895629883,25.992515563964844,24.117341995239258,42.11283493041992,39.052303314208984],\"yaxis\":\"y\"},{\"hovertemplate\":\"color=skills_group_6<br>x=%{x}<br>y=%{y}<br>text=%{text}<extra></extra>\",\"legendgroup\":\"skills_group_6\",\"marker\":{\"color\":\"#19d3f3\",\"symbol\":\"circle\"},\"mode\":\"markers+text\",\"name\":\"skills_group_6\",\"orientation\":\"v\",\"showlegend\":true,\"text\":[\"Dart\",\"Kotlin\",\"Objective-C\",\"Swift\",\"Firebase\",\"SQLite\",\"Google Cloud Platform\",\"Flutter\",\"Android Studio\",\"Xcode\"],\"textposition\":\"top center\",\"type\":\"scatter\",\"x\":[28.918359756469727,23.756025314331055,53.01066207885742,51.59822082519531,18.30866050720215,31.546363830566406,15.419944763183594,27.463281631469727,25.711156845092773,48.642417907714844],\"xaxis\":\"x\",\"y\":[-27.389577865600586,-15.1431303024292,-4.166146278381348,-7.742301940917969,-23.860971450805664,-15.93624210357666,-25.451854705810547,-24.86968994140625,-18.17755889892578,-8.271013259887695],\"yaxis\":\"y\"},{\"hovertemplate\":\"color=skills_group_1<br>x=%{x}<br>y=%{y}<br>text=%{text}<extra></extra>\",\"legendgroup\":\"skills_group_1\",\"marker\":{\"color\":\"#FF6692\",\"symbol\":\"circle\"},\"mode\":\"markers+text\",\"name\":\"skills_group_1\",\"orientation\":\"v\",\"showlegend\":true,\"text\":[\"Go\",\"DynamoDB\",\"PostgreSQL\",\"AWS\",\"Svelte\",\"Ansible\",\"Chef\",\"Deno\",\"Docker\",\"Flow\",\"Git\",\"Kubernetes\",\"Pulumi\",\"Puppet\",\"Terraform\"],\"textposition\":\"top center\",\"type\":\"scatter\",\"x\":[-38.328922271728516,-42.3079719543457,-48.37139892578125,-43.6322135925293,-9.906405448913574,-31.17186164855957,-27.58969497680664,-12.82861328125,-44.28997802734375,-22.66876983642578,-47.33642578125,-40.80936050415039,-29.28527069091797,-27.792865753173828,-34.73772430419922],\"xaxis\":\"x\",\"y\":[-54.90530014038086,-42.88242721557617,-55.58246612548828,-45.744083404541016,-74.19110870361328,-60.33449172973633,-76.32145690917969,-73.87173461914062,-58.67891311645508,-73.02484130859375,-63.462646484375,-59.16596603393555,-68.12059020996094,-79.25482940673828,-62.66012954711914],\"yaxis\":\"y\"},{\"hovertemplate\":\"color=skills_group_5<br>x=%{x}<br>y=%{y}<br>text=%{text}<extra></extra>\",\"legendgroup\":\"skills_group_5\",\"marker\":{\"color\":\"#B6E880\",\"symbol\":\"circle\"},\"mode\":\"markers+text\",\"name\":\"skills_group_5\",\"orientation\":\"v\",\"showlegend\":true,\"text\":[\"Groovy\",\"Java\",\"Oracle\",\"Oracle Cloud Infrastructure\",\"Spring\",\"Atom\",\"Eclipse\",\"IntelliJ\",\"NetBeans\",\"Sublime Text\"],\"textposition\":\"top center\",\"type\":\"scatter\",\"x\":[2.394066095352173,10.203278541564941,7.785147190093994,6.632806777954102,7.15752649307251,9.44926929473877,11.992867469787598,12.480234146118164,15.347679138183594,9.79695987701416],\"xaxis\":\"x\",\"y\":[22.095014572143555,19.761491775512695,30.696443557739258,37.08159637451172,23.12928581237793,7.180760860443115,13.712848663330078,21.90711212158203,11.627828598022461,3.546215295791626],\"yaxis\":\"y\"},{\"hovertemplate\":\"color=skills_group_2<br>x=%{x}<br>y=%{y}<br>text=%{text}<extra></extra>\",\"legendgroup\":\"skills_group_2\",\"marker\":{\"color\":\"#FF97FF\",\"symbol\":\"circle\"},\"mode\":\"markers+text\",\"name\":\"skills_group_2\",\"orientation\":\"v\",\"showlegend\":true,\"text\":[\"HTML/CSS\",\"JavaScript\",\"Node.js\",\"TypeScript\",\"MongoDB\",\"Heroku\",\"Angular\",\"Angular.js\",\"Express\",\"Gatsby\",\"React.js\",\"jQuery\",\"Cordova\",\"React Native\",\"Yarn\",\"Visual Studio Code\"],\"textposition\":\"top center\",\"type\":\"scatter\",\"x\":[41.23966979980469,38.3225212097168,18.422693252563477,38.62073516845703,16.861572265625,23.506885528564453,40.93303298950195,40.679473876953125,19.362592697143555,9.135313987731934,12.791500091552734,47.27386474609375,46.08541488647461,8.925209045410156,15.73294734954834,33.60443115234375],\"xaxis\":\"x\",\"y\":[-80.60317993164062,-81.18656158447266,-90.53348541259766,-100.34809112548828,-97.50313568115234,-96.27494812011719,-102.86670684814453,-107.11417388916016,-93.56022644042969,-89.57795715332031,-86.00729370117188,-73.9605712890625,-102.7287368774414,-82.53276824951172,-82.38359069824219,-83.80855560302734],\"yaxis\":\"y\"},{\"hovertemplate\":\"color=skills_group_8<br>x=%{x}<br>y=%{y}<br>text=%{text}<extra></extra>\",\"legendgroup\":\"skills_group_8\",\"marker\":{\"color\":\"#FECB52\",\"symbol\":\"circle\"},\"mode\":\"markers+text\",\"name\":\"skills_group_8\",\"orientation\":\"v\",\"showlegend\":true,\"text\":[\"PHP\",\"SQL\",\"MariaDB\",\"MySQL\",\"Drupal\",\"Laravel\",\"Symfony\",\"Vue.js\",\"PHPStorm\",\"Webstorm\"],\"textposition\":\"top center\",\"type\":\"scatter\",\"x\":[54.698997497558594,63.589534759521484,60.151344299316406,56.81448745727539,60.80048370361328,51.065338134765625,57.16162872314453,46.01301193237305,53.20817565917969,48.964176177978516],\"xaxis\":\"x\",\"y\":[-60.57147216796875,-71.69779968261719,-60.2151985168457,-65.26510620117188,-48.76858901977539,-60.574798583984375,-51.75435256958008,-62.35911178588867,-55.00802993774414,-51.170143127441406],\"yaxis\":\"y\"},{\"hovertemplate\":\"color=skills_group_10<br>x=%{x}<br>y=%{y}<br>text=%{text}<extra></extra>\",\"legendgroup\":\"skills_group_10\",\"marker\":{\"color\":\"#636efa\",\"symbol\":\"circle\"},\"mode\":\"markers+text\",\"name\":\"skills_group_10\",\"orientation\":\"v\",\"showlegend\":true,\"text\":[\"Ruby\",\"Ruby on Rails\",\"RubyMine\",\"TextMate\"],\"textposition\":\"top center\",\"type\":\"scatter\",\"x\":[-28.379501342773438,-27.206178665161133,-22.767637252807617,-17.895118713378906],\"xaxis\":\"x\",\"y\":[-15.193392753601074,-12.588985443115234,-14.963736534118652,-15.959558486938477],\"yaxis\":\"y\"},{\"hovertemplate\":\"color=skills_group_9<br>x=%{x}<br>y=%{y}<br>text=%{text}<extra></extra>\",\"legendgroup\":\"skills_group_9\",\"marker\":{\"color\":\"#EF553B\",\"symbol\":\"circle\"},\"mode\":\"markers+text\",\"name\":\"skills_group_9\",\"orientation\":\"v\",\"showlegend\":true,\"text\":[\"Scala\",\"Cassandra\",\"Couchbase\",\"Elasticsearch\",\"Redis\",\"DigitalOcean\",\"Apache Spark\",\"Hadoop\"],\"textposition\":\"top center\",\"type\":\"scatter\",\"x\":[-64.30867004394531,-64.52342224121094,-68.43050384521484,-58.82160949707031,-57.882568359375,-60.297515869140625,-67.33372497558594,-70.04405975341797],\"xaxis\":\"x\",\"y\":[-25.947772979736328,-40.66146469116211,-42.67165756225586,-48.052860260009766,-51.33025360107422,-55.74540710449219,-28.611770629882812,-29.727855682373047],\"yaxis\":\"y\"}],                        {\"height\":800,\"legend\":{\"title\":{\"text\":\"color\"},\"tracegroupgap\":0},\"margin\":{\"t\":60},\"template\":{\"data\":{\"bar\":[{\"error_x\":{\"color\":\"#2a3f5f\"},\"error_y\":{\"color\":\"#2a3f5f\"},\"marker\":{\"line\":{\"color\":\"#E5ECF6\",\"width\":0.5},\"pattern\":{\"fillmode\":\"overlay\",\"size\":10,\"solidity\":0.2}},\"type\":\"bar\"}],\"barpolar\":[{\"marker\":{\"line\":{\"color\":\"#E5ECF6\",\"width\":0.5},\"pattern\":{\"fillmode\":\"overlay\",\"size\":10,\"solidity\":0.2}},\"type\":\"barpolar\"}],\"carpet\":[{\"aaxis\":{\"endlinecolor\":\"#2a3f5f\",\"gridcolor\":\"white\",\"linecolor\":\"white\",\"minorgridcolor\":\"white\",\"startlinecolor\":\"#2a3f5f\"},\"baxis\":{\"endlinecolor\":\"#2a3f5f\",\"gridcolor\":\"white\",\"linecolor\":\"white\",\"minorgridcolor\":\"white\",\"startlinecolor\":\"#2a3f5f\"},\"type\":\"carpet\"}],\"choropleth\":[{\"colorbar\":{\"outlinewidth\":0,\"ticks\":\"\"},\"type\":\"choropleth\"}],\"contour\":[{\"colorbar\":{\"outlinewidth\":0,\"ticks\":\"\"},\"colorscale\":[[0.0,\"#0d0887\"],[0.1111111111111111,\"#46039f\"],[0.2222222222222222,\"#7201a8\"],[0.3333333333333333,\"#9c179e\"],[0.4444444444444444,\"#bd3786\"],[0.5555555555555556,\"#d8576b\"],[0.6666666666666666,\"#ed7953\"],[0.7777777777777778,\"#fb9f3a\"],[0.8888888888888888,\"#fdca26\"],[1.0,\"#f0f921\"]],\"type\":\"contour\"}],\"contourcarpet\":[{\"colorbar\":{\"outlinewidth\":0,\"ticks\":\"\"},\"type\":\"contourcarpet\"}],\"heatmap\":[{\"colorbar\":{\"outlinewidth\":0,\"ticks\":\"\"},\"colorscale\":[[0.0,\"#0d0887\"],[0.1111111111111111,\"#46039f\"],[0.2222222222222222,\"#7201a8\"],[0.3333333333333333,\"#9c179e\"],[0.4444444444444444,\"#bd3786\"],[0.5555555555555556,\"#d8576b\"],[0.6666666666666666,\"#ed7953\"],[0.7777777777777778,\"#fb9f3a\"],[0.8888888888888888,\"#fdca26\"],[1.0,\"#f0f921\"]],\"type\":\"heatmap\"}],\"heatmapgl\":[{\"colorbar\":{\"outlinewidth\":0,\"ticks\":\"\"},\"colorscale\":[[0.0,\"#0d0887\"],[0.1111111111111111,\"#46039f\"],[0.2222222222222222,\"#7201a8\"],[0.3333333333333333,\"#9c179e\"],[0.4444444444444444,\"#bd3786\"],[0.5555555555555556,\"#d8576b\"],[0.6666666666666666,\"#ed7953\"],[0.7777777777777778,\"#fb9f3a\"],[0.8888888888888888,\"#fdca26\"],[1.0,\"#f0f921\"]],\"type\":\"heatmapgl\"}],\"histogram\":[{\"marker\":{\"pattern\":{\"fillmode\":\"overlay\",\"size\":10,\"solidity\":0.2}},\"type\":\"histogram\"}],\"histogram2d\":[{\"colorbar\":{\"outlinewidth\":0,\"ticks\":\"\"},\"colorscale\":[[0.0,\"#0d0887\"],[0.1111111111111111,\"#46039f\"],[0.2222222222222222,\"#7201a8\"],[0.3333333333333333,\"#9c179e\"],[0.4444444444444444,\"#bd3786\"],[0.5555555555555556,\"#d8576b\"],[0.6666666666666666,\"#ed7953\"],[0.7777777777777778,\"#fb9f3a\"],[0.8888888888888888,\"#fdca26\"],[1.0,\"#f0f921\"]],\"type\":\"histogram2d\"}],\"histogram2dcontour\":[{\"colorbar\":{\"outlinewidth\":0,\"ticks\":\"\"},\"colorscale\":[[0.0,\"#0d0887\"],[0.1111111111111111,\"#46039f\"],[0.2222222222222222,\"#7201a8\"],[0.3333333333333333,\"#9c179e\"],[0.4444444444444444,\"#bd3786\"],[0.5555555555555556,\"#d8576b\"],[0.6666666666666666,\"#ed7953\"],[0.7777777777777778,\"#fb9f3a\"],[0.8888888888888888,\"#fdca26\"],[1.0,\"#f0f921\"]],\"type\":\"histogram2dcontour\"}],\"mesh3d\":[{\"colorbar\":{\"outlinewidth\":0,\"ticks\":\"\"},\"type\":\"mesh3d\"}],\"parcoords\":[{\"line\":{\"colorbar\":{\"outlinewidth\":0,\"ticks\":\"\"}},\"type\":\"parcoords\"}],\"pie\":[{\"automargin\":true,\"type\":\"pie\"}],\"scatter\":[{\"marker\":{\"colorbar\":{\"outlinewidth\":0,\"ticks\":\"\"}},\"type\":\"scatter\"}],\"scatter3d\":[{\"line\":{\"colorbar\":{\"outlinewidth\":0,\"ticks\":\"\"}},\"marker\":{\"colorbar\":{\"outlinewidth\":0,\"ticks\":\"\"}},\"type\":\"scatter3d\"}],\"scattercarpet\":[{\"marker\":{\"colorbar\":{\"outlinewidth\":0,\"ticks\":\"\"}},\"type\":\"scattercarpet\"}],\"scattergeo\":[{\"marker\":{\"colorbar\":{\"outlinewidth\":0,\"ticks\":\"\"}},\"type\":\"scattergeo\"}],\"scattergl\":[{\"marker\":{\"colorbar\":{\"outlinewidth\":0,\"ticks\":\"\"}},\"type\":\"scattergl\"}],\"scattermapbox\":[{\"marker\":{\"colorbar\":{\"outlinewidth\":0,\"ticks\":\"\"}},\"type\":\"scattermapbox\"}],\"scatterpolar\":[{\"marker\":{\"colorbar\":{\"outlinewidth\":0,\"ticks\":\"\"}},\"type\":\"scatterpolar\"}],\"scatterpolargl\":[{\"marker\":{\"colorbar\":{\"outlinewidth\":0,\"ticks\":\"\"}},\"type\":\"scatterpolargl\"}],\"scatterternary\":[{\"marker\":{\"colorbar\":{\"outlinewidth\":0,\"ticks\":\"\"}},\"type\":\"scatterternary\"}],\"surface\":[{\"colorbar\":{\"outlinewidth\":0,\"ticks\":\"\"},\"colorscale\":[[0.0,\"#0d0887\"],[0.1111111111111111,\"#46039f\"],[0.2222222222222222,\"#7201a8\"],[0.3333333333333333,\"#9c179e\"],[0.4444444444444444,\"#bd3786\"],[0.5555555555555556,\"#d8576b\"],[0.6666666666666666,\"#ed7953\"],[0.7777777777777778,\"#fb9f3a\"],[0.8888888888888888,\"#fdca26\"],[1.0,\"#f0f921\"]],\"type\":\"surface\"}],\"table\":[{\"cells\":{\"fill\":{\"color\":\"#EBF0F8\"},\"line\":{\"color\":\"white\"}},\"header\":{\"fill\":{\"color\":\"#C8D4E3\"},\"line\":{\"color\":\"white\"}},\"type\":\"table\"}]},\"layout\":{\"annotationdefaults\":{\"arrowcolor\":\"#2a3f5f\",\"arrowhead\":0,\"arrowwidth\":1},\"autotypenumbers\":\"strict\",\"coloraxis\":{\"colorbar\":{\"outlinewidth\":0,\"ticks\":\"\"}},\"colorscale\":{\"diverging\":[[0,\"#8e0152\"],[0.1,\"#c51b7d\"],[0.2,\"#de77ae\"],[0.3,\"#f1b6da\"],[0.4,\"#fde0ef\"],[0.5,\"#f7f7f7\"],[0.6,\"#e6f5d0\"],[0.7,\"#b8e186\"],[0.8,\"#7fbc41\"],[0.9,\"#4d9221\"],[1,\"#276419\"]],\"sequential\":[[0.0,\"#0d0887\"],[0.1111111111111111,\"#46039f\"],[0.2222222222222222,\"#7201a8\"],[0.3333333333333333,\"#9c179e\"],[0.4444444444444444,\"#bd3786\"],[0.5555555555555556,\"#d8576b\"],[0.6666666666666666,\"#ed7953\"],[0.7777777777777778,\"#fb9f3a\"],[0.8888888888888888,\"#fdca26\"],[1.0,\"#f0f921\"]],\"sequentialminus\":[[0.0,\"#0d0887\"],[0.1111111111111111,\"#46039f\"],[0.2222222222222222,\"#7201a8\"],[0.3333333333333333,\"#9c179e\"],[0.4444444444444444,\"#bd3786\"],[0.5555555555555556,\"#d8576b\"],[0.6666666666666666,\"#ed7953\"],[0.7777777777777778,\"#fb9f3a\"],[0.8888888888888888,\"#fdca26\"],[1.0,\"#f0f921\"]]},\"colorway\":[\"#636efa\",\"#EF553B\",\"#00cc96\",\"#ab63fa\",\"#FFA15A\",\"#19d3f3\",\"#FF6692\",\"#B6E880\",\"#FF97FF\",\"#FECB52\"],\"font\":{\"color\":\"#2a3f5f\"},\"geo\":{\"bgcolor\":\"white\",\"lakecolor\":\"white\",\"landcolor\":\"#E5ECF6\",\"showlakes\":true,\"showland\":true,\"subunitcolor\":\"white\"},\"hoverlabel\":{\"align\":\"left\"},\"hovermode\":\"closest\",\"mapbox\":{\"style\":\"light\"},\"paper_bgcolor\":\"white\",\"plot_bgcolor\":\"#E5ECF6\",\"polar\":{\"angularaxis\":{\"gridcolor\":\"white\",\"linecolor\":\"white\",\"ticks\":\"\"},\"bgcolor\":\"#E5ECF6\",\"radialaxis\":{\"gridcolor\":\"white\",\"linecolor\":\"white\",\"ticks\":\"\"}},\"scene\":{\"xaxis\":{\"backgroundcolor\":\"#E5ECF6\",\"gridcolor\":\"white\",\"gridwidth\":2,\"linecolor\":\"white\",\"showbackground\":true,\"ticks\":\"\",\"zerolinecolor\":\"white\"},\"yaxis\":{\"backgroundcolor\":\"#E5ECF6\",\"gridcolor\":\"white\",\"gridwidth\":2,\"linecolor\":\"white\",\"showbackground\":true,\"ticks\":\"\",\"zerolinecolor\":\"white\"},\"zaxis\":{\"backgroundcolor\":\"#E5ECF6\",\"gridcolor\":\"white\",\"gridwidth\":2,\"linecolor\":\"white\",\"showbackground\":true,\"ticks\":\"\",\"zerolinecolor\":\"white\"}},\"shapedefaults\":{\"line\":{\"color\":\"#2a3f5f\"}},\"ternary\":{\"aaxis\":{\"gridcolor\":\"white\",\"linecolor\":\"white\",\"ticks\":\"\"},\"baxis\":{\"gridcolor\":\"white\",\"linecolor\":\"white\",\"ticks\":\"\"},\"bgcolor\":\"#E5ECF6\",\"caxis\":{\"gridcolor\":\"white\",\"linecolor\":\"white\",\"ticks\":\"\"}},\"title\":{\"x\":0.05},\"xaxis\":{\"automargin\":true,\"gridcolor\":\"white\",\"linecolor\":\"white\",\"ticks\":\"\",\"title\":{\"standoff\":15},\"zerolinecolor\":\"white\",\"zerolinewidth\":2},\"yaxis\":{\"automargin\":true,\"gridcolor\":\"white\",\"linecolor\":\"white\",\"ticks\":\"\",\"title\":{\"standoff\":15},\"zerolinecolor\":\"white\",\"zerolinewidth\":2}}},\"title\":{\"text\":\"Cluster\"},\"width\":800,\"xaxis\":{\"anchor\":\"y\",\"domain\":[0.0,1.0],\"title\":{\"text\":\"x\"}},\"yaxis\":{\"anchor\":\"x\",\"domain\":[0.0,1.0],\"title\":{\"text\":\"y\"}}},                        {\"responsive\": true}                    ).then(function(){\n",
       "                            \n",
       "var gd = document.getElementById('738b9956-c93c-44ae-b59b-01af10f7107a');\n",
       "var x = new MutationObserver(function (mutations, observer) {{\n",
       "        var display = window.getComputedStyle(gd).display;\n",
       "        if (!display || display === 'none') {{\n",
       "            console.log([gd, 'removed!']);\n",
       "            Plotly.purge(gd);\n",
       "            observer.disconnect();\n",
       "        }}\n",
       "}});\n",
       "\n",
       "// Listen for the removal of the full notebook cells\n",
       "var notebookContainer = gd.closest('#notebook-container');\n",
       "if (notebookContainer) {{\n",
       "    x.observe(notebookContainer, {childList: true});\n",
       "}}\n",
       "\n",
       "// Listen for the clearing of the current output cell\n",
       "var outputEl = gd.closest('.output');\n",
       "if (outputEl) {{\n",
       "    x.observe(outputEl, {childList: true});\n",
       "}}\n",
       "\n",
       "                        })                };                });            </script>        </div>"
      ]
     },
     "metadata": {},
     "output_type": "display_data"
    }
   ],
   "source": [
    "fig = px.scatter(x=tsne_projection[0], \n",
    "                 y=tsne_projection[1], \n",
    "                 text=tsne_projection.droplevel(0).index, \n",
    "                 color=cluster_labels)\n",
    "fig.update_traces(textposition='top center')\n",
    "fig.update_layout(height=800, width=800, title_text='Cluster')\n",
    "fig.show()\n",
    "\n",
    "fig.write_html(os.path.join(FIG_DIR, 'Clustering_Scatter.html'))"
   ]
  },
  {
   "cell_type": "code",
   "execution_count": 185,
   "id": "8eb64e82",
   "metadata": {},
   "outputs": [
    {
     "data": {
      "text/plain": [
       "skills_group_0     [Assembly, C, C++, Julia, Matlab, Python, R, D...\n",
       "skills_group_1     [Go, DynamoDB, PostgreSQL, AWS, Svelte, Ansibl...\n",
       "skills_group_10            [Ruby, Ruby on Rails, RubyMine, TextMate]\n",
       "skills_group_11    [APL, COBOL, Crystal, Delphi, IBM DB2, IBM Clo...\n",
       "skills_group_2     [HTML/CSS, JavaScript, Node.js, TypeScript, Mo...\n",
       "skills_group_3     [C#, F#, PowerShell, VBA, Microsoft SQL Server...\n",
       "skills_group_4       [Clojure, Elixir, Erlang, Haskell, LISP, Emacs]\n",
       "skills_group_5     [Groovy, Java, Oracle, Oracle Cloud Infrastruc...\n",
       "skills_group_6     [Dart, Kotlin, Objective-C, Swift, Firebase, S...\n",
       "skills_group_7                 [Bash/Shell, Perl, Rust, Neovim, Vim]\n",
       "skills_group_8     [PHP, SQL, MariaDB, MySQL, Drupal, Laravel, Sy...\n",
       "skills_group_9     [Scala, Cassandra, Couchbase, Elasticsearch, R...\n",
       "dtype: object"
      ]
     },
     "execution_count": 185,
     "metadata": {},
     "output_type": "execute_result"
    }
   ],
   "source": [
    "tsne_projection.index.droplevel(0).to_series().groupby(cluster_labels).apply(list)"
   ]
  },
  {
   "cell_type": "code",
   "execution_count": 186,
   "id": "3c387c8d",
   "metadata": {},
   "outputs": [],
   "source": [
    "# How to better write this\n",
    "skills_clusters = tsne_projection.index.droplevel(0).to_series().groupby(cluster_labels).apply(list)"
   ]
  },
  {
   "cell_type": "code",
   "execution_count": 187,
   "id": "f176349e",
   "metadata": {},
   "outputs": [
    {
     "name": "stdout",
     "output_type": "stream",
     "text": [
      "skills_group_0\n",
      "['Assembly', 'C', 'C++', 'Julia', 'Matlab', 'Python', 'R', 'Django', 'FastAPI', 'Flask', 'Keras', 'NumPy', 'Pandas', 'Qt', 'TensorFlow', 'Torch/PyTorch', 'IPython/Jupyter', 'PyCharm', 'RStudio']\n",
      "skills_group_1\n",
      "['Go', 'DynamoDB', 'PostgreSQL', 'AWS', 'Svelte', 'Ansible', 'Chef', 'Deno', 'Docker', 'Flow', 'Git', 'Kubernetes', 'Pulumi', 'Puppet', 'Terraform']\n",
      "skills_group_10\n",
      "['Ruby', 'Ruby on Rails', 'RubyMine', 'TextMate']\n",
      "skills_group_11\n",
      "['APL', 'COBOL', 'Crystal', 'Delphi', 'IBM DB2', 'IBM Cloud or Watson']\n",
      "skills_group_2\n",
      "['HTML/CSS', 'JavaScript', 'Node.js', 'TypeScript', 'MongoDB', 'Heroku', 'Angular', 'Angular.js', 'Express', 'Gatsby', 'React.js', 'jQuery', 'Cordova', 'React Native', 'Yarn', 'Visual Studio Code']\n",
      "skills_group_3\n",
      "['C#', 'F#', 'PowerShell', 'VBA', 'Microsoft SQL Server', 'Microsoft Azure', 'ASP.NET', 'ASP.NET Core ', '.NET Core / .NET 5', '.NET Framework', 'Unity 3D', 'Unreal Engine', 'Xamarin', 'Notepad++', 'Rider', 'Visual Studio']\n",
      "skills_group_4\n",
      "['Clojure', 'Elixir', 'Erlang', 'Haskell', 'LISP', 'Emacs']\n",
      "skills_group_5\n",
      "['Groovy', 'Java', 'Oracle', 'Oracle Cloud Infrastructure', 'Spring', 'Atom', 'Eclipse', 'IntelliJ', 'NetBeans', 'Sublime Text']\n",
      "skills_group_6\n",
      "['Dart', 'Kotlin', 'Objective-C', 'Swift', 'Firebase', 'SQLite', 'Google Cloud Platform', 'Flutter', 'Android Studio', 'Xcode']\n",
      "skills_group_7\n",
      "['Bash/Shell', 'Perl', 'Rust', 'Neovim', 'Vim']\n",
      "skills_group_8\n",
      "['PHP', 'SQL', 'MariaDB', 'MySQL', 'Drupal', 'Laravel', 'Symfony', 'Vue.js', 'PHPStorm', 'Webstorm']\n",
      "skills_group_9\n",
      "['Scala', 'Cassandra', 'Couchbase', 'Elasticsearch', 'Redis', 'DigitalOcean', 'Apache Spark', 'Hadoop']\n"
     ]
    }
   ],
   "source": [
    "for cluster, skills_ in skills_clusters.items():\n",
    "    print(cluster)\n",
    "    print(skills_)"
   ]
  },
  {
   "cell_type": "code",
   "execution_count": 188,
   "id": "270bbafa",
   "metadata": {},
   "outputs": [
    {
     "ename": "SyntaxError",
     "evalue": "invalid syntax (<ipython-input-188-2925e30f5e67>, line 4)",
     "output_type": "error",
     "traceback": [
      "\u001b[1;36m  File \u001b[1;32m\"<ipython-input-188-2925e30f5e67>\"\u001b[1;36m, line \u001b[1;32m4\u001b[0m\n\u001b[1;33m    cluster_sum = skills.dropl evel(0, axis=1)[skills_].sum(axis=1)\u001b[0m\n\u001b[1;37m                               ^\u001b[0m\n\u001b[1;31mSyntaxError\u001b[0m\u001b[1;31m:\u001b[0m invalid syntax\n"
     ]
    }
   ],
   "source": [
    "new_features = []\n",
    "\n",
    "for cluster, skills_ in skills_clusters.items():\n",
    "    cluster_sum = skills.dropl evel(0, axis=1)[skills_].sum(axis=1)\n",
    "    cluster_sum.name = cluster\n",
    "    new_features.append(cluster_sum)\n",
    "\n",
    "fe_clustered_skills = pd.concat(new_features, axis=1)"
   ]
  },
  {
   "cell_type": "code",
   "execution_count": null,
   "id": "f279de43",
   "metadata": {},
   "outputs": [],
   "source": [
    "fe_clustered_skills"
   ]
  },
  {
   "cell_type": "code",
   "execution_count": null,
   "id": "00c2e3b3",
   "metadata": {},
   "outputs": [],
   "source": [
    "features_path = os.path.join(EXPORT_FEATURES_DIR, \"features_skills_clusters.pkl\")\n",
    "fe_clustered_skills.to_pickle(features_path)"
   ]
  },
  {
   "cell_type": "code",
   "execution_count": null,
   "id": "4f1864fb",
   "metadata": {},
   "outputs": [],
   "source": [
    "description_path = os.path.join(EXPORT_FEATURES_DIR, \"features_skills_clusters_description.yaml\")\n",
    "with open(description_path, 'w') as outfile:\n",
    "    yaml.dump(skills_clusters.to_dict(), outfile)"
   ]
  },
  {
   "cell_type": "code",
   "execution_count": null,
   "id": "45a90a21",
   "metadata": {},
   "outputs": [],
   "source": [
    "description_path"
   ]
  }
 ],
 "metadata": {
  "kernelspec": {
   "display_name": "Python 3",
   "language": "python",
   "name": "python3"
  },
  "language_info": {
   "codemirror_mode": {
    "name": "ipython",
    "version": 3
   },
   "file_extension": ".py",
   "mimetype": "text/x-python",
   "name": "python",
   "nbconvert_exporter": "python",
   "pygments_lexer": "ipython3",
   "version": "3.8.8"
  }
 },
 "nbformat": 4,
 "nbformat_minor": 5
}
