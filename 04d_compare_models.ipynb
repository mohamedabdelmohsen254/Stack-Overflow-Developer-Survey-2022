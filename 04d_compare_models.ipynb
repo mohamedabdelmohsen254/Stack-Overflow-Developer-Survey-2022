{
 "cells": [
  {
   "cell_type": "code",
   "execution_count": 18,
   "id": "fed4717f",
   "metadata": {},
   "outputs": [],
   "source": [
    "#constants\n",
    "\n",
    "\n",
    "MLFLOW_TRACKING_URI = 'C:\\\\Users\\\\gt\\\\End to End Data Science Project\\\\models\\\\mlruns'\n",
    "MLFLOW_EXPERIMENT_NAME = \"skills_jobs_Stackoverflow\"\n",
    "\n",
    "LOG_PATH = \"C:\\\\Users\\\\gt\\\\End to End Data Science Project\\\\models\\\\temp\\\\\"\n",
    "LOG_DATA_PKL    =  \"data.pkl\"\n",
    "LOG_MODEL_PKL   =  \"model.pkl\"\n",
    "LOG_METRICS_PKL =  \"metrics.pkl\""
   ]
  },
  {
   "cell_type": "code",
   "execution_count": 14,
   "id": "bc5fec2a",
   "metadata": {},
   "outputs": [],
   "source": [
    "#Load pachages\n",
    "\n",
    "import mlflow\n",
    "from mlflow.tracking import MlflowClient\n",
    "\n",
    "import numpy as np\n",
    "import pandas as pd\n"
   ]
  },
  {
   "cell_type": "markdown",
   "id": "30600122",
   "metadata": {},
   "source": [
    "### Initialize MLflow"
   ]
  },
  {
   "cell_type": "code",
   "execution_count": 15,
   "id": "712316f5",
   "metadata": {},
   "outputs": [
    {
     "data": {
      "text/plain": [
       "<Experiment: artifact_location='file:///C:/Users/gt/End%20to%20End%20Data%20Science%20Project/mlruns/2', experiment_id='2', lifecycle_stage='active', name='skills_jobs_Stackoverflow', tags={}>"
      ]
     },
     "execution_count": 15,
     "metadata": {},
     "output_type": "execute_result"
    }
   ],
   "source": [
    "# Initialize client and experiment\n",
    "client = MlflowClient() \n",
    "mlflow.set_experiment(MLFLOW_EXPERIMENT_NAME)\n"
   ]
  },
  {
   "cell_type": "code",
   "execution_count": 16,
   "id": "d2518043",
   "metadata": {},
   "outputs": [],
   "source": [
    "# Get experiment\n",
    "exp = client.get_experiment_by_name(MLFLOW_EXPERIMENT_NAME)"
   ]
  },
  {
   "cell_type": "code",
   "execution_count": 17,
   "id": "22c1df88",
   "metadata": {},
   "outputs": [
    {
     "data": {
      "text/html": [
       "<div>\n",
       "<style scoped>\n",
       "    .dataframe tbody tr th:only-of-type {\n",
       "        vertical-align: middle;\n",
       "    }\n",
       "\n",
       "    .dataframe tbody tr th {\n",
       "        vertical-align: top;\n",
       "    }\n",
       "\n",
       "    .dataframe thead th {\n",
       "        text-align: right;\n",
       "    }\n",
       "</style>\n",
       "<table border=\"1\" class=\"dataframe\">\n",
       "  <thead>\n",
       "    <tr style=\"text-align: right;\">\n",
       "      <th></th>\n",
       "      <th>run_id</th>\n",
       "      <th>experiment_id</th>\n",
       "      <th>status</th>\n",
       "      <th>artifact_uri</th>\n",
       "      <th>start_time</th>\n",
       "      <th>end_time</th>\n",
       "      <th>metrics.f1_score</th>\n",
       "      <th>metrics.recall_score</th>\n",
       "      <th>metrics.precision_score</th>\n",
       "      <th>metrics.accuracy_score</th>\n",
       "      <th>tags.mlflow.runName</th>\n",
       "      <th>tags.mlflow.source.type</th>\n",
       "      <th>tags.mlflow.user</th>\n",
       "      <th>tags.mlflow.source.name</th>\n",
       "    </tr>\n",
       "  </thead>\n",
       "  <tbody>\n",
       "    <tr>\n",
       "      <th>0</th>\n",
       "      <td>c8d5f7fe46b3470fb45065151362c7c0</td>\n",
       "      <td>2</td>\n",
       "      <td>FINISHED</td>\n",
       "      <td>file:///C:/Users/gt/End%20to%20End%20Data%20Sc...</td>\n",
       "      <td>2022-07-30 07:36:32.519000+00:00</td>\n",
       "      <td>2022-07-30 07:37:17.664000+00:00</td>\n",
       "      <td>63.487500</td>\n",
       "      <td>49.005</td>\n",
       "      <td>94.486875</td>\n",
       "      <td>92.561250</td>\n",
       "      <td>Random Forest: with PCA + Hyperparamter tuning</td>\n",
       "      <td>LOCAL</td>\n",
       "      <td>gt</td>\n",
       "      <td>D:\\Anaconda\\lib\\site-packages\\ipykernel_launch...</td>\n",
       "    </tr>\n",
       "    <tr>\n",
       "      <th>1</th>\n",
       "      <td>f3d9e81224a546dc9f0779f8d3b77497</td>\n",
       "      <td>2</td>\n",
       "      <td>FINISHED</td>\n",
       "      <td>file:///C:/Users/gt/End%20to%20End%20Data%20Sc...</td>\n",
       "      <td>2022-07-30 07:27:38.411000+00:00</td>\n",
       "      <td>2022-07-30 07:28:38.186000+00:00</td>\n",
       "      <td>63.487500</td>\n",
       "      <td>49.005</td>\n",
       "      <td>94.486875</td>\n",
       "      <td>92.561250</td>\n",
       "      <td>Random Forest: with PCA + Hyperparamter tuning</td>\n",
       "      <td>LOCAL</td>\n",
       "      <td>gt</td>\n",
       "      <td>D:\\Anaconda\\lib\\site-packages\\ipykernel_launch...</td>\n",
       "    </tr>\n",
       "    <tr>\n",
       "      <th>2</th>\n",
       "      <td>2d620efffdac4b9db4adad274b4a7ff9</td>\n",
       "      <td>2</td>\n",
       "      <td>FINISHED</td>\n",
       "      <td>file:///C:/Users/gt/End%20to%20End%20Data%20Sc...</td>\n",
       "      <td>2022-07-30 06:50:44.689000+00:00</td>\n",
       "      <td>2022-07-30 06:50:46.438000+00:00</td>\n",
       "      <td>63.487500</td>\n",
       "      <td>49.005</td>\n",
       "      <td>94.486875</td>\n",
       "      <td>92.561250</td>\n",
       "      <td>Random Forest: with PCA - Basic</td>\n",
       "      <td>LOCAL</td>\n",
       "      <td>gt</td>\n",
       "      <td>D:\\Anaconda\\lib\\site-packages\\ipykernel_launch...</td>\n",
       "    </tr>\n",
       "    <tr>\n",
       "      <th>3</th>\n",
       "      <td>bb29a0874d724f42b4b0ee1ffbb25f01</td>\n",
       "      <td>2</td>\n",
       "      <td>FINISHED</td>\n",
       "      <td>file:///C:/Users/gt/End%20to%20End%20Data%20Sc...</td>\n",
       "      <td>2022-07-30 06:49:49.326000+00:00</td>\n",
       "      <td>2022-07-30 06:49:49.447000+00:00</td>\n",
       "      <td>38.613125</td>\n",
       "      <td>29.890</td>\n",
       "      <td>62.420625</td>\n",
       "      <td>88.939375</td>\n",
       "      <td>Baseline model: Logistic Regression</td>\n",
       "      <td>LOCAL</td>\n",
       "      <td>gt</td>\n",
       "      <td>D:\\Anaconda\\lib\\site-packages\\ipykernel_launch...</td>\n",
       "    </tr>\n",
       "  </tbody>\n",
       "</table>\n",
       "</div>"
      ],
      "text/plain": [
       "                             run_id experiment_id    status  \\\n",
       "0  c8d5f7fe46b3470fb45065151362c7c0             2  FINISHED   \n",
       "1  f3d9e81224a546dc9f0779f8d3b77497             2  FINISHED   \n",
       "2  2d620efffdac4b9db4adad274b4a7ff9             2  FINISHED   \n",
       "3  bb29a0874d724f42b4b0ee1ffbb25f01             2  FINISHED   \n",
       "\n",
       "                                        artifact_uri  \\\n",
       "0  file:///C:/Users/gt/End%20to%20End%20Data%20Sc...   \n",
       "1  file:///C:/Users/gt/End%20to%20End%20Data%20Sc...   \n",
       "2  file:///C:/Users/gt/End%20to%20End%20Data%20Sc...   \n",
       "3  file:///C:/Users/gt/End%20to%20End%20Data%20Sc...   \n",
       "\n",
       "                        start_time                         end_time  \\\n",
       "0 2022-07-30 07:36:32.519000+00:00 2022-07-30 07:37:17.664000+00:00   \n",
       "1 2022-07-30 07:27:38.411000+00:00 2022-07-30 07:28:38.186000+00:00   \n",
       "2 2022-07-30 06:50:44.689000+00:00 2022-07-30 06:50:46.438000+00:00   \n",
       "3 2022-07-30 06:49:49.326000+00:00 2022-07-30 06:49:49.447000+00:00   \n",
       "\n",
       "   metrics.f1_score  metrics.recall_score  metrics.precision_score  \\\n",
       "0         63.487500                49.005                94.486875   \n",
       "1         63.487500                49.005                94.486875   \n",
       "2         63.487500                49.005                94.486875   \n",
       "3         38.613125                29.890                62.420625   \n",
       "\n",
       "   metrics.accuracy_score                             tags.mlflow.runName  \\\n",
       "0               92.561250  Random Forest: with PCA + Hyperparamter tuning   \n",
       "1               92.561250  Random Forest: with PCA + Hyperparamter tuning   \n",
       "2               92.561250                 Random Forest: with PCA - Basic   \n",
       "3               88.939375            Baseline model: Logistic Regression    \n",
       "\n",
       "  tags.mlflow.source.type tags.mlflow.user  \\\n",
       "0                   LOCAL               gt   \n",
       "1                   LOCAL               gt   \n",
       "2                   LOCAL               gt   \n",
       "3                   LOCAL               gt   \n",
       "\n",
       "                             tags.mlflow.source.name  \n",
       "0  D:\\Anaconda\\lib\\site-packages\\ipykernel_launch...  \n",
       "1  D:\\Anaconda\\lib\\site-packages\\ipykernel_launch...  \n",
       "2  D:\\Anaconda\\lib\\site-packages\\ipykernel_launch...  \n",
       "3  D:\\Anaconda\\lib\\site-packages\\ipykernel_launch...  "
      ]
     },
     "execution_count": 17,
     "metadata": {},
     "output_type": "execute_result"
    }
   ],
   "source": [
    "# Get all runs\n",
    "runs = mlflow.search_runs([exp.experiment_id])\n",
    "runs"
   ]
  },
  {
   "cell_type": "code",
   "execution_count": 19,
   "id": "6accf9ea",
   "metadata": {},
   "outputs": [
    {
     "data": {
      "text/plain": [
       "'2'"
      ]
     },
     "execution_count": 19,
     "metadata": {},
     "output_type": "execute_result"
    }
   ],
   "source": [
    "exp.experiment_id"
   ]
  }
 ],
 "metadata": {
  "kernelspec": {
   "display_name": "Python 3",
   "language": "python",
   "name": "python3"
  },
  "language_info": {
   "codemirror_mode": {
    "name": "ipython",
    "version": 3
   },
   "file_extension": ".py",
   "mimetype": "text/x-python",
   "name": "python",
   "nbconvert_exporter": "python",
   "pygments_lexer": "ipython3",
   "version": "3.8.8"
  }
 },
 "nbformat": 4,
 "nbformat_minor": 5
}
