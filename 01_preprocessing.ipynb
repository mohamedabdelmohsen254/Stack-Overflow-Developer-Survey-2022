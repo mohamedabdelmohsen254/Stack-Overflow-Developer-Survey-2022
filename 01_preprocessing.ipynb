{
 "cells": [
  {
   "cell_type": "code",
   "execution_count": 1,
   "id": "5c4eea7c",
   "metadata": {},
   "outputs": [],
   "source": [
    "import pandas as pd\n",
    "import numpy as np\n",
    "import pickle\n"
   ]
  },
  {
   "cell_type": "code",
   "execution_count": 5,
   "id": "b345c329",
   "metadata": {},
   "outputs": [],
   "source": [
    "#constants\n",
    "Data_path='C:\\\\Users\\\\gt\\\\End to End Data Science Project\\\\survey_results_public.csv'\n",
    "Export_path='C:\\\\Users\\\\gt\\\\End to End Data Science Project\\\\preprocessed_data.pkl'\n",
    "\n",
    "Replace_dict={\n",
    "    'YearsCodePro':{'More than 50 years':51,'Less than 1 year':0},\n",
    "    'YearsCode':{'More than 50 years':51,'Less than 1 year':0}\n",
    "}"
   ]
  },
  {
   "cell_type": "markdown",
   "id": "7ee5d522",
   "metadata": {},
   "source": [
    "<br>"
   ]
  },
  {
   "cell_type": "markdown",
   "id": "957c90b6",
   "metadata": {},
   "source": [
    "<br>"
   ]
  },
  {
   "cell_type": "markdown",
   "id": "71048544",
   "metadata": {},
   "source": [
    "## Functions"
   ]
  },
  {
   "cell_type": "code",
   "execution_count": 21,
   "id": "020c705d",
   "metadata": {},
   "outputs": [],
   "source": [
    "def split_answers(data_series, delimiter=\";\"):\n",
    "    \"\"\"\n",
    "    split multiple answers in a single string to a list of single strings\n",
    "    representing a single answer\n",
    "    \n",
    "    Parameters:\n",
    "    * data_series (pd.Series): String series with answers\n",
    "    * delimiter (string): Another decimal integer \n",
    "                          Defaults to \";\"\n",
    "    \n",
    "    Returns: (pd.Series) if column contains\n",
    "    \"\"\"\n",
    "    #sub functions\n",
    "    def is_splittable(pd_series, delimiter):\n",
    "        \"\"\"check if results multiple should be splitted - returns boolean\"\"\"\n",
    "        return pd_series.str.contains(delimiter)\n",
    "    \n",
    "    def split_answer(pd_series,delimiter):\n",
    "        \"\"\"function to split single answer\"\"\"\n",
    "        return pd_series.str.split(delimiter)\n",
    "    # ------------------------------------\n",
    "    \n",
    "    #check if multiple answer exist - if non return original\n",
    "    splittable_values=is_splittable(data_series, delimiter)\n",
    "    if not splittable_values.any():\n",
    "        return data_series\n",
    "    #Else, split each value to a list\n",
    "    modeified_series=split_answer(data_series, delimiter)\n",
    "    \n",
    "    #Replace Nans with empty lists\n",
    "    null_values= modeified_series.isnull()\n",
    "    modeified_series.loc[null_values]=modeified_series.loc[null_values].apply(lambda x:[])\n",
    "    \n",
    "    return modeified_series"
   ]
  },
  {
   "cell_type": "markdown",
   "id": "5c98886c",
   "metadata": {},
   "source": [
    "<br>"
   ]
  },
  {
   "cell_type": "markdown",
   "id": "e26fcc16",
   "metadata": {},
   "source": [
    "<br>"
   ]
  },
  {
   "cell_type": "markdown",
   "id": "fcd2082e",
   "metadata": {},
   "source": [
    "## Processing"
   ]
  },
  {
   "cell_type": "markdown",
   "id": "f02113fb",
   "metadata": {},
   "source": [
    "### Preprocess Data"
   ]
  },
  {
   "cell_type": "code",
   "execution_count": 10,
   "id": "546edce1",
   "metadata": {},
   "outputs": [],
   "source": [
    "raw_df = pd.read_csv(Data_path)\n",
    "df = raw_df.copy()"
   ]
  },
  {
   "cell_type": "markdown",
   "id": "b1799935",
   "metadata": {},
   "source": [
    "**1. Replace Values and parse**"
   ]
  },
  {
   "cell_type": "code",
   "execution_count": 15,
   "id": "74843218",
   "metadata": {},
   "outputs": [],
   "source": [
    "for col, replacement in Replace_dict.items():\n",
    "    df[col]=df[col].replace(replacement).astype(np.float32)"
   ]
  },
  {
   "cell_type": "markdown",
   "id": "13f1db07",
   "metadata": {},
   "source": [
    "**2. Split Multiple answers**"
   ]
  },
  {
   "cell_type": "code",
   "execution_count": 22,
   "id": "946166f0",
   "metadata": {},
   "outputs": [],
   "source": [
    "object_cols =df.select_dtypes(include=\"object\").columns.tolist()\n",
    "for col in object_cols:\n",
    "    df[col]=split_answers(df[col])"
   ]
  },
  {
   "cell_type": "markdown",
   "id": "d4b60cad",
   "metadata": {},
   "source": [
    "<br>"
   ]
  },
  {
   "cell_type": "markdown",
   "id": "10f8cad7",
   "metadata": {},
   "source": [
    "<br>"
   ]
  },
  {
   "cell_type": "markdown",
   "id": "6c2fe9cd",
   "metadata": {},
   "source": [
    "### Visually verify results"
   ]
  },
  {
   "cell_type": "code",
   "execution_count": 27,
   "id": "c418be6a",
   "metadata": {},
   "outputs": [
    {
     "name": "stdout",
     "output_type": "stream",
     "text": [
      "C;C++;Python\n",
      "['C', 'C++', 'Python']\n"
     ]
    }
   ],
   "source": [
    "i =df.sample(1).index[0]\n",
    "print(raw_df['LanguageHaveWorkedWith'].iloc[i])\n",
    "print(df['LanguageHaveWorkedWith'].iloc[i])"
   ]
  },
  {
   "cell_type": "code",
   "execution_count": 28,
   "id": "69efe458",
   "metadata": {},
   "outputs": [
    {
     "name": "stdout",
     "output_type": "stream",
     "text": [
      "Developer, front-end;Developer, full-stack;Developer, back-end;Designer;Engineering manager\n",
      "['Developer, front-end', 'Developer, full-stack', 'Developer, back-end', 'Designer', 'Engineering manager']\n"
     ]
    }
   ],
   "source": [
    "i =df.sample(1).index[0]\n",
    "print(raw_df['DevType'].iloc[i])\n",
    "print(df['DevType'].iloc[i])"
   ]
  },
  {
   "cell_type": "code",
   "execution_count": 30,
   "id": "9402564c",
   "metadata": {},
   "outputs": [
    {
     "name": "stdout",
     "output_type": "stream",
     "text": [
      "3\n",
      "3.0\n"
     ]
    }
   ],
   "source": [
    "i =df.sample(1).index[0]\n",
    "print(raw_df['YearsCodePro'].iloc[i])\n",
    "print(df['YearsCodePro'].iloc[i])"
   ]
  },
  {
   "cell_type": "markdown",
   "id": "e2c01275",
   "metadata": {},
   "source": [
    "<br>"
   ]
  },
  {
   "cell_type": "markdown",
   "id": "2b04c597",
   "metadata": {},
   "source": [
    "<br>"
   ]
  },
  {
   "cell_type": "markdown",
   "id": "ac4dd85f",
   "metadata": {},
   "source": [
    "## Export Data"
   ]
  },
  {
   "cell_type": "code",
   "execution_count": 31,
   "id": "52d451a2",
   "metadata": {},
   "outputs": [],
   "source": [
    "df.to_pickle(Export_path)"
   ]
  }
 ],
 "metadata": {
  "kernelspec": {
   "display_name": "Python 3",
   "language": "python",
   "name": "python3"
  },
  "language_info": {
   "codemirror_mode": {
    "name": "ipython",
    "version": 3
   },
   "file_extension": ".py",
   "mimetype": "text/x-python",
   "name": "python",
   "nbconvert_exporter": "python",
   "pygments_lexer": "ipython3",
   "version": "3.8.8"
  }
 },
 "nbformat": 4,
 "nbformat_minor": 5
}
